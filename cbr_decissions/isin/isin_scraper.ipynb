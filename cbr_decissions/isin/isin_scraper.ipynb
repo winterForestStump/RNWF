{
 "cells": [
  {
   "cell_type": "markdown",
   "metadata": {},
   "source": [
    "### Scraping and parcing ISIN assigned registration numbers for 2024 year"
   ]
  },
  {
   "cell_type": "code",
   "execution_count": 48,
   "metadata": {},
   "outputs": [],
   "source": [
    "import pandas as pd\n",
    "import requests\n",
    "from bs4 import BeautifulSoup\n",
    "from tqdm import tqdm"
   ]
  },
  {
   "cell_type": "markdown",
   "metadata": {},
   "source": [
    "We have 423 pages with news about ISIN numbers assigning"
   ]
  },
  {
   "cell_type": "code",
   "execution_count": 51,
   "metadata": {},
   "outputs": [],
   "source": [
    "period = range(1,424)"
   ]
  },
  {
   "cell_type": "code",
   "execution_count": 52,
   "metadata": {},
   "outputs": [
    {
     "name": "stderr",
     "output_type": "stream",
     "text": [
      "100%|██████████| 423/423 [03:38<00:00,  1.93it/s]\n"
     ]
    },
    {
     "data": {
      "text/html": [
       "<div>\n",
       "<style scoped>\n",
       "    .dataframe tbody tr th:only-of-type {\n",
       "        vertical-align: middle;\n",
       "    }\n",
       "\n",
       "    .dataframe tbody tr th {\n",
       "        vertical-align: top;\n",
       "    }\n",
       "\n",
       "    .dataframe thead th {\n",
       "        text-align: right;\n",
       "    }\n",
       "</style>\n",
       "<table border=\"1\" class=\"dataframe\">\n",
       "  <thead>\n",
       "    <tr style=\"text-align: right;\">\n",
       "      <th></th>\n",
       "      <th>date</th>\n",
       "      <th>web-link</th>\n",
       "      <th>text</th>\n",
       "    </tr>\n",
       "  </thead>\n",
       "  <tbody>\n",
       "    <tr>\n",
       "      <th>0</th>\n",
       "      <td>28.12.24</td>\n",
       "      <td>?id22=667879</td>\n",
       "      <td>О присвоении ISIN кода облигациям АО \"Сбербанк...</td>\n",
       "    </tr>\n",
       "    <tr>\n",
       "      <th>1</th>\n",
       "      <td>28.12.24</td>\n",
       "      <td>?id22=667877</td>\n",
       "      <td>О присвоении ISIN кода облигациям АО \"Сбербанк...</td>\n",
       "    </tr>\n",
       "    <tr>\n",
       "      <th>2</th>\n",
       "      <td>28.12.24</td>\n",
       "      <td>?id22=667875</td>\n",
       "      <td>О присвоении ISIN кода облигациям АО \"Сбербанк...</td>\n",
       "    </tr>\n",
       "    <tr>\n",
       "      <th>3</th>\n",
       "      <td>28.12.24</td>\n",
       "      <td>?id22=667873</td>\n",
       "      <td>О присвоении ISIN кода облигациям АО \"Сбербанк...</td>\n",
       "    </tr>\n",
       "    <tr>\n",
       "      <th>4</th>\n",
       "      <td>28.12.24</td>\n",
       "      <td>?id22=667871</td>\n",
       "      <td>О присвоении ISIN кода облигациям АО \"Сбербанк...</td>\n",
       "    </tr>\n",
       "    <tr>\n",
       "      <th>...</th>\n",
       "      <td>...</td>\n",
       "      <td>...</td>\n",
       "      <td>...</td>\n",
       "    </tr>\n",
       "    <tr>\n",
       "      <th>8436</th>\n",
       "      <td>10.01.22</td>\n",
       "      <td>?id22=651006</td>\n",
       "      <td>О присвоении ISIN кода облигациям Банка ВТБ (П...</td>\n",
       "    </tr>\n",
       "    <tr>\n",
       "      <th>8437</th>\n",
       "      <td>10.01.22</td>\n",
       "      <td>?id22=651004</td>\n",
       "      <td>О присвоении ISIN кода облигациям Банка ВТБ (П...</td>\n",
       "    </tr>\n",
       "    <tr>\n",
       "      <th>8438</th>\n",
       "      <td>10.01.22</td>\n",
       "      <td>?id22=651002</td>\n",
       "      <td>О присвоении ISIN кода облигациям Банка ВТБ (П...</td>\n",
       "    </tr>\n",
       "    <tr>\n",
       "      <th>8439</th>\n",
       "      <td>10.01.22</td>\n",
       "      <td>?id22=651000</td>\n",
       "      <td>О присвоении ISIN кода облигациям Банка ВТБ (П...</td>\n",
       "    </tr>\n",
       "    <tr>\n",
       "      <th>8440</th>\n",
       "      <td>10.01.22</td>\n",
       "      <td>?id22=650998</td>\n",
       "      <td>О присвоении ISIN кода облигациям Банка ВТБ (П...</td>\n",
       "    </tr>\n",
       "  </tbody>\n",
       "</table>\n",
       "<p>8441 rows × 3 columns</p>\n",
       "</div>"
      ],
      "text/plain": [
       "          date      web-link  \\\n",
       "0     28.12.24  ?id22=667879   \n",
       "1     28.12.24  ?id22=667877   \n",
       "2     28.12.24  ?id22=667875   \n",
       "3     28.12.24  ?id22=667873   \n",
       "4     28.12.24  ?id22=667871   \n",
       "...        ...           ...   \n",
       "8436  10.01.22  ?id22=651006   \n",
       "8437  10.01.22  ?id22=651004   \n",
       "8438  10.01.22  ?id22=651002   \n",
       "8439  10.01.22  ?id22=651000   \n",
       "8440  10.01.22  ?id22=650998   \n",
       "\n",
       "                                                   text  \n",
       "0     О присвоении ISIN кода облигациям АО \"Сбербанк...  \n",
       "1     О присвоении ISIN кода облигациям АО \"Сбербанк...  \n",
       "2     О присвоении ISIN кода облигациям АО \"Сбербанк...  \n",
       "3     О присвоении ISIN кода облигациям АО \"Сбербанк...  \n",
       "4     О присвоении ISIN кода облигациям АО \"Сбербанк...  \n",
       "...                                                 ...  \n",
       "8436  О присвоении ISIN кода облигациям Банка ВТБ (П...  \n",
       "8437  О присвоении ISIN кода облигациям Банка ВТБ (П...  \n",
       "8438  О присвоении ISIN кода облигациям Банка ВТБ (П...  \n",
       "8439  О присвоении ISIN кода облигациям Банка ВТБ (П...  \n",
       "8440  О присвоении ISIN кода облигациям Банка ВТБ (П...  \n",
       "\n",
       "[8441 rows x 3 columns]"
      ]
     },
     "execution_count": 52,
     "metadata": {},
     "output_type": "execute_result"
    }
   ],
   "source": [
    "parsed_results = []\n",
    "for i in tqdm(period):\n",
    "    url = f'https://www.isin.ru/ru/ru_isin/news_c/index.php?page22={i}'\n",
    "    r = requests.get(url)\n",
    "    if r.status_code == 200:\n",
    "        soup = BeautifulSoup(r.content, 'xml')\n",
    "        results = soup.find_all(\"div\", class_=\"news_sep\")\n",
    "        for item in results:\n",
    "            try:\n",
    "                date = item.find('span', class_='date2 border_date2').text\n",
    "                web_link = item.find('a', class_='grey')['href']\n",
    "                text = item.find('a', class_='grey').text.strip()\n",
    "                parsed_results.append({\n",
    "                                        \"date\": date,\n",
    "                                        \"web-link\": web_link,\n",
    "                                        \"text\": text\n",
    "                                      })\n",
    "            except AttributeError as e:\n",
    "                print(f\"Skipping an item due to missing data: {e}\")\n",
    "    else:\n",
    "        print(f'There is a problem with loading {i} page')\n",
    "        continue\n",
    "\n",
    "df = pd.DataFrame(parsed_results)\n",
    "df"
   ]
  },
  {
   "cell_type": "code",
   "execution_count": null,
   "metadata": {},
   "outputs": [],
   "source": [
    "df.to_csv('isin_registration.csv')"
   ]
  },
  {
   "cell_type": "markdown",
   "metadata": {},
   "source": [
    "Since we are interested only in bonds we can filter them:"
   ]
  },
  {
   "cell_type": "code",
   "execution_count": 56,
   "metadata": {},
   "outputs": [
    {
     "name": "stderr",
     "output_type": "stream",
     "text": [
      "C:\\Users\\lenovo\\AppData\\Local\\Temp\\ipykernel_6836\\2558127847.py:6: SettingWithCopyWarning: \n",
      "A value is trying to be set on a copy of a slice from a DataFrame\n",
      "\n",
      "See the caveats in the documentation: https://pandas.pydata.org/pandas-docs/stable/user_guide/indexing.html#returning-a-view-versus-a-copy\n",
      "  filtered.drop(columns='index', inplace=True)\n"
     ]
    },
    {
     "data": {
      "text/html": [
       "<div>\n",
       "<style scoped>\n",
       "    .dataframe tbody tr th:only-of-type {\n",
       "        vertical-align: middle;\n",
       "    }\n",
       "\n",
       "    .dataframe tbody tr th {\n",
       "        vertical-align: top;\n",
       "    }\n",
       "\n",
       "    .dataframe thead th {\n",
       "        text-align: right;\n",
       "    }\n",
       "</style>\n",
       "<table border=\"1\" class=\"dataframe\">\n",
       "  <thead>\n",
       "    <tr style=\"text-align: right;\">\n",
       "      <th></th>\n",
       "      <th>date</th>\n",
       "      <th>web-link</th>\n",
       "      <th>text</th>\n",
       "    </tr>\n",
       "  </thead>\n",
       "  <tbody>\n",
       "    <tr>\n",
       "      <th>0</th>\n",
       "      <td>28.12.24</td>\n",
       "      <td>?id22=667879</td>\n",
       "      <td>О присвоении ISIN кода облигациям АО \"Сбербанк...</td>\n",
       "    </tr>\n",
       "    <tr>\n",
       "      <th>1</th>\n",
       "      <td>28.12.24</td>\n",
       "      <td>?id22=667877</td>\n",
       "      <td>О присвоении ISIN кода облигациям АО \"Сбербанк...</td>\n",
       "    </tr>\n",
       "    <tr>\n",
       "      <th>2</th>\n",
       "      <td>28.12.24</td>\n",
       "      <td>?id22=667875</td>\n",
       "      <td>О присвоении ISIN кода облигациям АО \"Сбербанк...</td>\n",
       "    </tr>\n",
       "    <tr>\n",
       "      <th>3</th>\n",
       "      <td>28.12.24</td>\n",
       "      <td>?id22=667873</td>\n",
       "      <td>О присвоении ISIN кода облигациям АО \"Сбербанк...</td>\n",
       "    </tr>\n",
       "    <tr>\n",
       "      <th>4</th>\n",
       "      <td>28.12.24</td>\n",
       "      <td>?id22=667871</td>\n",
       "      <td>О присвоении ISIN кода облигациям АО \"Сбербанк...</td>\n",
       "    </tr>\n",
       "    <tr>\n",
       "      <th>...</th>\n",
       "      <td>...</td>\n",
       "      <td>...</td>\n",
       "      <td>...</td>\n",
       "    </tr>\n",
       "    <tr>\n",
       "      <th>6030</th>\n",
       "      <td>10.01.22</td>\n",
       "      <td>?id22=651006</td>\n",
       "      <td>О присвоении ISIN кода облигациям Банка ВТБ (П...</td>\n",
       "    </tr>\n",
       "    <tr>\n",
       "      <th>6031</th>\n",
       "      <td>10.01.22</td>\n",
       "      <td>?id22=651004</td>\n",
       "      <td>О присвоении ISIN кода облигациям Банка ВТБ (П...</td>\n",
       "    </tr>\n",
       "    <tr>\n",
       "      <th>6032</th>\n",
       "      <td>10.01.22</td>\n",
       "      <td>?id22=651002</td>\n",
       "      <td>О присвоении ISIN кода облигациям Банка ВТБ (П...</td>\n",
       "    </tr>\n",
       "    <tr>\n",
       "      <th>6033</th>\n",
       "      <td>10.01.22</td>\n",
       "      <td>?id22=651000</td>\n",
       "      <td>О присвоении ISIN кода облигациям Банка ВТБ (П...</td>\n",
       "    </tr>\n",
       "    <tr>\n",
       "      <th>6034</th>\n",
       "      <td>10.01.22</td>\n",
       "      <td>?id22=650998</td>\n",
       "      <td>О присвоении ISIN кода облигациям Банка ВТБ (П...</td>\n",
       "    </tr>\n",
       "  </tbody>\n",
       "</table>\n",
       "<p>6035 rows × 3 columns</p>\n",
       "</div>"
      ],
      "text/plain": [
       "          date      web-link  \\\n",
       "0     28.12.24  ?id22=667879   \n",
       "1     28.12.24  ?id22=667877   \n",
       "2     28.12.24  ?id22=667875   \n",
       "3     28.12.24  ?id22=667873   \n",
       "4     28.12.24  ?id22=667871   \n",
       "...        ...           ...   \n",
       "6030  10.01.22  ?id22=651006   \n",
       "6031  10.01.22  ?id22=651004   \n",
       "6032  10.01.22  ?id22=651002   \n",
       "6033  10.01.22  ?id22=651000   \n",
       "6034  10.01.22  ?id22=650998   \n",
       "\n",
       "                                                   text  \n",
       "0     О присвоении ISIN кода облигациям АО \"Сбербанк...  \n",
       "1     О присвоении ISIN кода облигациям АО \"Сбербанк...  \n",
       "2     О присвоении ISIN кода облигациям АО \"Сбербанк...  \n",
       "3     О присвоении ISIN кода облигациям АО \"Сбербанк...  \n",
       "4     О присвоении ISIN кода облигациям АО \"Сбербанк...  \n",
       "...                                                 ...  \n",
       "6030  О присвоении ISIN кода облигациям Банка ВТБ (П...  \n",
       "6031  О присвоении ISIN кода облигациям Банка ВТБ (П...  \n",
       "6032  О присвоении ISIN кода облигациям Банка ВТБ (П...  \n",
       "6033  О присвоении ISIN кода облигациям Банка ВТБ (П...  \n",
       "6034  О присвоении ISIN кода облигациям Банка ВТБ (П...  \n",
       "\n",
       "[6035 rows x 3 columns]"
      ]
     },
     "execution_count": 56,
     "metadata": {},
     "output_type": "execute_result"
    }
   ],
   "source": [
    "contain = ['облигаци']\n",
    "for c in contain:\n",
    "    filtered = df[df['text'].str.contains(c, case=False, na=False)]\n",
    "\n",
    "filtered.reset_index(inplace=True)\n",
    "filtered.drop(columns='index', inplace=True)\n",
    "filtered"
   ]
  },
  {
   "cell_type": "code",
   "execution_count": 57,
   "metadata": {},
   "outputs": [],
   "source": [
    "filtered.to_csv('isin_bonds_registration.csv')"
   ]
  },
  {
   "cell_type": "code",
   "execution_count": 61,
   "metadata": {},
   "outputs": [
    {
     "name": "stderr",
     "output_type": "stream",
     "text": [
      "C:\\Users\\lenovo\\AppData\\Local\\Temp\\ipykernel_6836\\1375586570.py:1: SettingWithCopyWarning: \n",
      "A value is trying to be set on a copy of a slice from a DataFrame.\n",
      "Try using .loc[row_indexer,col_indexer] = value instead\n",
      "\n",
      "See the caveats in the documentation: https://pandas.pydata.org/pandas-docs/stable/user_guide/indexing.html#returning-a-view-versus-a-copy\n",
      "  filtered['date'] = pd.to_datetime(filtered['date'])\n",
      "C:\\Users\\lenovo\\AppData\\Local\\Temp\\ipykernel_6836\\1375586570.py:2: SettingWithCopyWarning: \n",
      "A value is trying to be set on a copy of a slice from a DataFrame.\n",
      "Try using .loc[row_indexer,col_indexer] = value instead\n",
      "\n",
      "See the caveats in the documentation: https://pandas.pydata.org/pandas-docs/stable/user_guide/indexing.html#returning-a-view-versus-a-copy\n",
      "  filtered['Year'] = filtered['date'].dt.year\n",
      "C:\\Users\\lenovo\\AppData\\Local\\Temp\\ipykernel_6836\\1375586570.py:3: SettingWithCopyWarning: \n",
      "A value is trying to be set on a copy of a slice from a DataFrame.\n",
      "Try using .loc[row_indexer,col_indexer] = value instead\n",
      "\n",
      "See the caveats in the documentation: https://pandas.pydata.org/pandas-docs/stable/user_guide/indexing.html#returning-a-view-versus-a-copy\n",
      "  filtered['Month'] = filtered['date'].dt.month\n"
     ]
    }
   ],
   "source": [
    "filtered['date'] = pd.to_datetime(filtered['date'])\n",
    "filtered['Year'] = filtered['date'].dt.year\n",
    "filtered['Month'] = filtered['date'].dt.month"
   ]
  },
  {
   "cell_type": "code",
   "execution_count": 63,
   "metadata": {},
   "outputs": [
    {
     "data": {
      "text/html": [
       "<div>\n",
       "<style scoped>\n",
       "    .dataframe tbody tr th:only-of-type {\n",
       "        vertical-align: middle;\n",
       "    }\n",
       "\n",
       "    .dataframe tbody tr th {\n",
       "        vertical-align: top;\n",
       "    }\n",
       "\n",
       "    .dataframe thead th {\n",
       "        text-align: right;\n",
       "    }\n",
       "</style>\n",
       "<table border=\"1\" class=\"dataframe\">\n",
       "  <thead>\n",
       "    <tr style=\"text-align: right;\">\n",
       "      <th></th>\n",
       "      <th>date</th>\n",
       "      <th>web-link</th>\n",
       "      <th>text</th>\n",
       "      <th>Year</th>\n",
       "      <th>Month</th>\n",
       "    </tr>\n",
       "  </thead>\n",
       "  <tbody>\n",
       "    <tr>\n",
       "      <th>0</th>\n",
       "      <td>2024-12-28</td>\n",
       "      <td>?id22=667879</td>\n",
       "      <td>О присвоении ISIN кода облигациям АО \"Сбербанк...</td>\n",
       "      <td>2024</td>\n",
       "      <td>12</td>\n",
       "    </tr>\n",
       "    <tr>\n",
       "      <th>1</th>\n",
       "      <td>2024-12-28</td>\n",
       "      <td>?id22=667877</td>\n",
       "      <td>О присвоении ISIN кода облигациям АО \"Сбербанк...</td>\n",
       "      <td>2024</td>\n",
       "      <td>12</td>\n",
       "    </tr>\n",
       "    <tr>\n",
       "      <th>2</th>\n",
       "      <td>2024-12-28</td>\n",
       "      <td>?id22=667875</td>\n",
       "      <td>О присвоении ISIN кода облигациям АО \"Сбербанк...</td>\n",
       "      <td>2024</td>\n",
       "      <td>12</td>\n",
       "    </tr>\n",
       "    <tr>\n",
       "      <th>3</th>\n",
       "      <td>2024-12-28</td>\n",
       "      <td>?id22=667873</td>\n",
       "      <td>О присвоении ISIN кода облигациям АО \"Сбербанк...</td>\n",
       "      <td>2024</td>\n",
       "      <td>12</td>\n",
       "    </tr>\n",
       "    <tr>\n",
       "      <th>4</th>\n",
       "      <td>2024-12-28</td>\n",
       "      <td>?id22=667871</td>\n",
       "      <td>О присвоении ISIN кода облигациям АО \"Сбербанк...</td>\n",
       "      <td>2024</td>\n",
       "      <td>12</td>\n",
       "    </tr>\n",
       "    <tr>\n",
       "      <th>...</th>\n",
       "      <td>...</td>\n",
       "      <td>...</td>\n",
       "      <td>...</td>\n",
       "      <td>...</td>\n",
       "      <td>...</td>\n",
       "    </tr>\n",
       "    <tr>\n",
       "      <th>2641</th>\n",
       "      <td>2024-09-01</td>\n",
       "      <td>?id22=660562</td>\n",
       "      <td>О присвоении ISIN кода облигациям ПАО \"ТМК\", в...</td>\n",
       "      <td>2024</td>\n",
       "      <td>9</td>\n",
       "    </tr>\n",
       "    <tr>\n",
       "      <th>2642</th>\n",
       "      <td>2024-09-01</td>\n",
       "      <td>?id22=660560</td>\n",
       "      <td>О присвоении ISIN кода облигациям АО \"АЛЬФА-БА...</td>\n",
       "      <td>2024</td>\n",
       "      <td>9</td>\n",
       "    </tr>\n",
       "    <tr>\n",
       "      <th>2643</th>\n",
       "      <td>2024-09-01</td>\n",
       "      <td>?id22=660556</td>\n",
       "      <td>О присвоении ISIN кода облигациям Банка ВТБ (П...</td>\n",
       "      <td>2024</td>\n",
       "      <td>9</td>\n",
       "    </tr>\n",
       "    <tr>\n",
       "      <th>2644</th>\n",
       "      <td>2024-09-01</td>\n",
       "      <td>?id22=660550</td>\n",
       "      <td>О присвоении ISIN кода облигациям Банка ВТБ (П...</td>\n",
       "      <td>2024</td>\n",
       "      <td>9</td>\n",
       "    </tr>\n",
       "    <tr>\n",
       "      <th>2645</th>\n",
       "      <td>2024-09-01</td>\n",
       "      <td>?id22=660548</td>\n",
       "      <td>О присвоении ISIN кода облигациям Банка ВТБ (П...</td>\n",
       "      <td>2024</td>\n",
       "      <td>9</td>\n",
       "    </tr>\n",
       "  </tbody>\n",
       "</table>\n",
       "<p>2646 rows × 5 columns</p>\n",
       "</div>"
      ],
      "text/plain": [
       "           date      web-link  \\\n",
       "0    2024-12-28  ?id22=667879   \n",
       "1    2024-12-28  ?id22=667877   \n",
       "2    2024-12-28  ?id22=667875   \n",
       "3    2024-12-28  ?id22=667873   \n",
       "4    2024-12-28  ?id22=667871   \n",
       "...         ...           ...   \n",
       "2641 2024-09-01  ?id22=660562   \n",
       "2642 2024-09-01  ?id22=660560   \n",
       "2643 2024-09-01  ?id22=660556   \n",
       "2644 2024-09-01  ?id22=660550   \n",
       "2645 2024-09-01  ?id22=660548   \n",
       "\n",
       "                                                   text  Year  Month  \n",
       "0     О присвоении ISIN кода облигациям АО \"Сбербанк...  2024     12  \n",
       "1     О присвоении ISIN кода облигациям АО \"Сбербанк...  2024     12  \n",
       "2     О присвоении ISIN кода облигациям АО \"Сбербанк...  2024     12  \n",
       "3     О присвоении ISIN кода облигациям АО \"Сбербанк...  2024     12  \n",
       "4     О присвоении ISIN кода облигациям АО \"Сбербанк...  2024     12  \n",
       "...                                                 ...   ...    ...  \n",
       "2641  О присвоении ISIN кода облигациям ПАО \"ТМК\", в...  2024      9  \n",
       "2642  О присвоении ISIN кода облигациям АО \"АЛЬФА-БА...  2024      9  \n",
       "2643  О присвоении ISIN кода облигациям Банка ВТБ (П...  2024      9  \n",
       "2644  О присвоении ISIN кода облигациям Банка ВТБ (П...  2024      9  \n",
       "2645  О присвоении ISIN кода облигациям Банка ВТБ (П...  2024      9  \n",
       "\n",
       "[2646 rows x 5 columns]"
      ]
     },
     "execution_count": 63,
     "metadata": {},
     "output_type": "execute_result"
    }
   ],
   "source": [
    "filtered = filtered[filtered['Year'] == 2024].reset_index(drop=True)\n",
    "filtered"
   ]
  },
  {
   "cell_type": "code",
   "execution_count": 64,
   "metadata": {},
   "outputs": [],
   "source": [
    "filtered.to_csv('isin_bonds_2024_registration.csv')"
   ]
  },
  {
   "cell_type": "code",
   "execution_count": 158,
   "metadata": {},
   "outputs": [
    {
     "data": {
      "text/plain": [
       "'?id22=667879'"
      ]
     },
     "execution_count": 158,
     "metadata": {},
     "output_type": "execute_result"
    }
   ],
   "source": [
    "filtered['web-link'][0]"
   ]
  },
  {
   "cell_type": "code",
   "execution_count": null,
   "metadata": {},
   "outputs": [],
   "source": []
  },
  {
   "cell_type": "code",
   "execution_count": 161,
   "metadata": {},
   "outputs": [],
   "source": [
    "url_base = 'https://www.isin.ru/ru/ru_isin/news_c/printable.php'\n",
    "urls = []\n",
    "for i in range(len(filtered)):\n",
    "    url_full = f'{url_base}{filtered[\"web-link\"][i]}'\n",
    "    urls.append(url_full)"
   ]
  },
  {
   "cell_type": "code",
   "execution_count": 162,
   "metadata": {},
   "outputs": [
    {
     "data": {
      "text/plain": [
       "2646"
      ]
     },
     "execution_count": 162,
     "metadata": {},
     "output_type": "execute_result"
    }
   ],
   "source": [
    "len(urls)"
   ]
  },
  {
   "cell_type": "code",
   "execution_count": 163,
   "metadata": {},
   "outputs": [
    {
     "name": "stderr",
     "output_type": "stream",
     "text": [
      "100%|██████████| 2646/2646 [14:23<00:00,  3.06it/s]\n"
     ]
    }
   ],
   "source": [
    "tables = []\n",
    "\n",
    "for url in tqdm(urls):\n",
    "    r = requests.get(url)\n",
    "    if r.status_code == 200:\n",
    "        table = pd.read_html(r.content)[1].set_index('Данные ISIN кода').T\n",
    "        tables.append(table)\n",
    "    else:\n",
    "        print(f'The error with requesting {url}')\n",
    "        continue"
   ]
  },
  {
   "cell_type": "code",
   "execution_count": 164,
   "metadata": {},
   "outputs": [
    {
     "data": {
      "text/plain": [
       "2646"
      ]
     },
     "execution_count": 164,
     "metadata": {},
     "output_type": "execute_result"
    }
   ],
   "source": [
    "len(tables)"
   ]
  },
  {
   "cell_type": "code",
   "execution_count": 165,
   "metadata": {},
   "outputs": [],
   "source": [
    "df = pd.DataFrame()\n",
    "for table in tables:\n",
    "    df = pd.concat([df, table], ignore_index=True, axis=0)"
   ]
  },
  {
   "cell_type": "code",
   "execution_count": 166,
   "metadata": {},
   "outputs": [
    {
     "name": "stdout",
     "output_type": "stream",
     "text": [
      "<class 'pandas.core.frame.DataFrame'>\n",
      "RangeIndex: 2646 entries, 0 to 2645\n",
      "Data columns (total 21 columns):\n",
      " #   Column                                      Non-Null Count  Dtype \n",
      "---  ------                                      --------------  ----- \n",
      " 0   ISIN код                                    2646 non-null   object\n",
      " 1   Дата присвоения кода                        2646 non-null   object\n",
      " 2   Параметры ценной бумаги (выпуска)           2635 non-null   object\n",
      " 3   Эмитент                                     2635 non-null   object\n",
      " 4   ИНН эмитента                                2635 non-null   object\n",
      " 5   Наименование выпуска/транша                 2635 non-null   object\n",
      " 6   Форма выпуска ценной бумаги                 2635 non-null   object\n",
      " 7   Порядок хранения/учета                      2619 non-null   object\n",
      " 8   Pегистрационный номер                       2635 non-null   object\n",
      " 9   Дата регистрации                            2645 non-null   object\n",
      " 10  Номинальная стоимость каждой ценной бумаги  2248 non-null   object\n",
      " 11  Валюта номинала                             2635 non-null   object\n",
      " 12  Дата погашения                              856 non-null    object\n",
      " 13  Параметры ценной бумаги (пая)               11 non-null     object\n",
      " 14  Наименование фонда                          11 non-null     object\n",
      " 15  Тип фонда                                   11 non-null     object\n",
      " 16  Вид, категория, тип ценной бумаги           11 non-null     object\n",
      " 17  Регистрационный номер                       10 non-null     object\n",
      " 18  Управляющая компания                        11 non-null     object\n",
      " 19  Специализированный депозитарий              11 non-null     object\n",
      " 20  Реестродержатель                            6 non-null      object\n",
      "dtypes: object(21)\n",
      "memory usage: 434.2+ KB\n"
     ]
    }
   ],
   "source": [
    "df.info()"
   ]
  },
  {
   "cell_type": "code",
   "execution_count": 167,
   "metadata": {},
   "outputs": [],
   "source": [
    "df.to_csv('isin_bonds_2024_info_final.csv')"
   ]
  },
  {
   "cell_type": "code",
   "execution_count": 170,
   "metadata": {},
   "outputs": [
    {
     "data": {
      "text/plain": [
       "array(['Рубли', 'Дирхам (ОАЭ)', 'Доллар США', 'Евро', 'Юань', nan,\n",
       "       'Швейцарский франк'], dtype=object)"
      ]
     },
     "execution_count": 170,
     "metadata": {},
     "output_type": "execute_result"
    }
   ],
   "source": [
    "df['Валюта номинала'].unique()"
   ]
  },
  {
   "cell_type": "code",
   "execution_count": 175,
   "metadata": {},
   "outputs": [
    {
     "name": "stdout",
     "output_type": "stream",
     "text": [
      "<class 'pandas.core.frame.DataFrame'>\n",
      "Index: 72 entries, 388 to 2630\n",
      "Data columns (total 21 columns):\n",
      " #   Column                                      Non-Null Count  Dtype \n",
      "---  ------                                      --------------  ----- \n",
      " 0   ISIN код                                    72 non-null     object\n",
      " 1   Дата присвоения кода                        72 non-null     object\n",
      " 2   Параметры ценной бумаги (выпуска)           72 non-null     object\n",
      " 3   Эмитент                                     72 non-null     object\n",
      " 4   ИНН эмитента                                72 non-null     object\n",
      " 5   Наименование выпуска/транша                 72 non-null     object\n",
      " 6   Форма выпуска ценной бумаги                 72 non-null     object\n",
      " 7   Порядок хранения/учета                      72 non-null     object\n",
      " 8   Pегистрационный номер                       72 non-null     object\n",
      " 9   Дата регистрации                            72 non-null     object\n",
      " 10  Номинальная стоимость каждой ценной бумаги  58 non-null     object\n",
      " 11  Валюта номинала                             72 non-null     object\n",
      " 12  Дата погашения                              13 non-null     object\n",
      " 13  Параметры ценной бумаги (пая)               0 non-null      object\n",
      " 14  Наименование фонда                          0 non-null      object\n",
      " 15  Тип фонда                                   0 non-null      object\n",
      " 16  Вид, категория, тип ценной бумаги           0 non-null      object\n",
      " 17  Регистрационный номер                       0 non-null      object\n",
      " 18  Управляющая компания                        0 non-null      object\n",
      " 19  Специализированный депозитарий              0 non-null      object\n",
      " 20  Реестродержатель                            0 non-null      object\n",
      "dtypes: object(21)\n",
      "memory usage: 12.4+ KB\n"
     ]
    }
   ],
   "source": [
    "cny = df[df['Валюта номинала'] == 'Юань']\n",
    "cny.info()"
   ]
  },
  {
   "cell_type": "code",
   "execution_count": 176,
   "metadata": {},
   "outputs": [],
   "source": [
    "cny.to_csv('cny_bonds_2024.csv')"
   ]
  },
  {
   "cell_type": "code",
   "execution_count": null,
   "metadata": {},
   "outputs": [],
   "source": []
  }
 ],
 "metadata": {
  "kernelspec": {
   "display_name": "rnwf-env",
   "language": "python",
   "name": "python3"
  },
  "language_info": {
   "codemirror_mode": {
    "name": "ipython",
    "version": 3
   },
   "file_extension": ".py",
   "mimetype": "text/x-python",
   "name": "python",
   "nbconvert_exporter": "python",
   "pygments_lexer": "ipython3",
   "version": "3.11.2"
  }
 },
 "nbformat": 4,
 "nbformat_minor": 2
}
