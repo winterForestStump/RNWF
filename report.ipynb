{
 "cells": [
  {
   "cell_type": "code",
   "execution_count": 6,
   "metadata": {},
   "outputs": [
    {
     "data": {
      "text/plain": [
       "True"
      ]
     },
     "execution_count": 6,
     "metadata": {},
     "output_type": "execute_result"
    }
   ],
   "source": [
    "import pandas as pd\n",
    "import cohere\n",
    "import os\n",
    "from dotenv import load_dotenv\n",
    "load_dotenv()"
   ]
  },
  {
   "cell_type": "code",
   "execution_count": 3,
   "metadata": {},
   "outputs": [],
   "source": [
    "df_str = pd.read_csv('https://raw.githubusercontent.com/winterForestStump/RNWF/main/data/rnwf_structure.csv', delimiter=';')\n",
    "non_date_columns = ['Data']\n",
    "date_columns = [col for col in df_str.columns if col not in non_date_columns]\n",
    "date_columns = pd.to_datetime(date_columns, format='%d.%m.%Y')\n",
    "last_date = date_columns.max() # Find the last available date\n",
    "date_last_month = last_date - pd.DateOffset(months=1)\n",
    "date_12_months_prior = last_date - pd.DateOffset(months=12) # Find the date 12 months prior\n",
    "filtered_columns = [col for col in date_columns if col in [last_date, date_last_month, date_12_months_prior]]\n",
    "filtered_columns_str = [col.strftime('%d.%m.%Y') for col in filtered_columns]\n",
    "df_filtered = df_str[non_date_columns + filtered_columns_str]\n",
    "df_filtered = df_filtered[df_filtered['Data'].isin(['Volume of the National Wealth Fund, RUB mln', \n",
    "                                                    'Volume of the National Wealth Fund, USD mln',\n",
    "                                                    'Volume of liquid assets of the Fund, RUB mln',\n",
    "                                                    'Volume of liquid assets of the Fund, USD mln',\n",
    "                                                    'Share of liquid assets in the total Fund in USD equivalent'])]\n",
    "df_filtered['Data'] = df_filtered['Data'].replace({\n",
    "    'Volume of the National Wealth Fund, RUB mln': 'Total Volume (RUB mln)',\n",
    "    'Volume of the National Wealth Fund, USD mln': 'Total Volume (USD mln)',\n",
    "    'Volume of liquid assets of the Fund, RUB mln': 'Liquid Volume (RUB mln)',\n",
    "    'Volume of liquid assets of the Fund, USD mln': 'Liquid Volume (USD mln)',\n",
    "    'Share of liquid assets in the total Fund in USD equivalent': 'Liquid/Total in USD'\n",
    "})\n",
    "df_filtered.reset_index(drop=True, inplace=True)"
   ]
  },
  {
   "cell_type": "code",
   "execution_count": 4,
   "metadata": {},
   "outputs": [
    {
     "data": {
      "text/html": [
       "<div>\n",
       "<style scoped>\n",
       "    .dataframe tbody tr th:only-of-type {\n",
       "        vertical-align: middle;\n",
       "    }\n",
       "\n",
       "    .dataframe tbody tr th {\n",
       "        vertical-align: top;\n",
       "    }\n",
       "\n",
       "    .dataframe thead th {\n",
       "        text-align: right;\n",
       "    }\n",
       "</style>\n",
       "<table border=\"1\" class=\"dataframe\">\n",
       "  <thead>\n",
       "    <tr style=\"text-align: right;\">\n",
       "      <th></th>\n",
       "      <th>Data</th>\n",
       "      <th>01.12.2023</th>\n",
       "      <th>01.11.2024</th>\n",
       "      <th>01.12.2024</th>\n",
       "    </tr>\n",
       "  </thead>\n",
       "  <tbody>\n",
       "    <tr>\n",
       "      <th>0</th>\n",
       "      <td>Total Volume (RUB mln)</td>\n",
       "      <td>1.343297e+07</td>\n",
       "      <td>1.272620e+07</td>\n",
       "      <td>1.309672e+07</td>\n",
       "    </tr>\n",
       "    <tr>\n",
       "      <th>1</th>\n",
       "      <td>Total Volume (USD mln)</td>\n",
       "      <td>1.511291e+05</td>\n",
       "      <td>1.311263e+05</td>\n",
       "      <td>1.215575e+05</td>\n",
       "    </tr>\n",
       "    <tr>\n",
       "      <th>2</th>\n",
       "      <td>Liquid Volume (RUB mln)</td>\n",
       "      <td>6.746505e+06</td>\n",
       "      <td>5.447193e+06</td>\n",
       "      <td>5.792015e+06</td>\n",
       "    </tr>\n",
       "    <tr>\n",
       "      <th>3</th>\n",
       "      <td>Liquid Volume (USD mln)</td>\n",
       "      <td>7.590530e+04</td>\n",
       "      <td>5.612600e+04</td>\n",
       "      <td>5.375870e+04</td>\n",
       "    </tr>\n",
       "    <tr>\n",
       "      <th>4</th>\n",
       "      <td>Liquid/Total in USD</td>\n",
       "      <td>5.022547e-01</td>\n",
       "      <td>4.280301e-01</td>\n",
       "      <td>4.422491e-01</td>\n",
       "    </tr>\n",
       "  </tbody>\n",
       "</table>\n",
       "</div>"
      ],
      "text/plain": [
       "                      Data    01.12.2023    01.11.2024    01.12.2024\n",
       "0   Total Volume (RUB mln)  1.343297e+07  1.272620e+07  1.309672e+07\n",
       "1   Total Volume (USD mln)  1.511291e+05  1.311263e+05  1.215575e+05\n",
       "2  Liquid Volume (RUB mln)  6.746505e+06  5.447193e+06  5.792015e+06\n",
       "3  Liquid Volume (USD mln)  7.590530e+04  5.612600e+04  5.375870e+04\n",
       "4      Liquid/Total in USD  5.022547e-01  4.280301e-01  4.422491e-01"
      ]
     },
     "execution_count": 4,
     "metadata": {},
     "output_type": "execute_result"
    }
   ],
   "source": [
    "df_filtered"
   ]
  },
  {
   "cell_type": "code",
   "execution_count": 16,
   "metadata": {},
   "outputs": [
    {
     "data": {
      "text/plain": [
       "{'Data': 0     Total Volume (RUB mln)\n",
       " 1     Total Volume (USD mln)\n",
       " 2    Liquid Volume (RUB mln)\n",
       " 3    Liquid Volume (USD mln)\n",
       " 4        Liquid/Total in USD\n",
       " Name: Data, dtype: object,\n",
       " '01.12.2023': 0    1.343297e+07\n",
       " 1    1.511291e+05\n",
       " 2    6.746505e+06\n",
       " 3    7.590530e+04\n",
       " 4    5.022547e-01\n",
       " Name: 01.12.2023, dtype: float64,\n",
       " '01.11.2024': 0    1.272620e+07\n",
       " 1    1.311263e+05\n",
       " 2    5.447193e+06\n",
       " 3    5.612600e+04\n",
       " 4    4.280301e-01\n",
       " Name: 01.11.2024, dtype: float64,\n",
       " '01.12.2024': 0    1.309672e+07\n",
       " 1    1.215575e+05\n",
       " 2    5.792015e+06\n",
       " 3    5.375870e+04\n",
       " 4    4.422491e-01\n",
       " Name: 01.12.2024, dtype: float64}"
      ]
     },
     "execution_count": 16,
     "metadata": {},
     "output_type": "execute_result"
    }
   ],
   "source": [
    "dict(df_filtered)"
   ]
  },
  {
   "cell_type": "code",
   "execution_count": 7,
   "metadata": {},
   "outputs": [],
   "source": [
    "COHERE_API = os.getenv('COHERE_API_KEY')\n",
    "cohere_client = cohere.ClientV2(api_key=COHERE_API)"
   ]
  },
  {
   "cell_type": "code",
   "execution_count": 22,
   "metadata": {},
   "outputs": [],
   "source": [
    "system_message = '''\n",
    "You are a financial analyst. You will be provided with a table containing financial data. Your task is to write a short, concise, and professional report analyzing only the table data. The report should address the following questions:\n",
    "1. What were the dynamics of the Total Volume in RUB over the last year and the last month?\n",
    "2. What were the dynamics of the Total Volume in USD over the last year and the last month?\n",
    "3. What were the dynamics of the Liquid Volume in RUB over the last year and the last month?\n",
    "4. What were the dynamics of the Liquid Volume in USD over the last year and the last month?\n",
    "5. How did the share change over the last year and the last month?\n",
    "You have to convert the numbers from scientific notation to regular.\n",
    "'''"
   ]
  },
  {
   "cell_type": "code",
   "execution_count": 23,
   "metadata": {},
   "outputs": [],
   "source": [
    "response = cohere_client.chat(model=\"command-r-plus-08-2024\", \n",
    "                              messages=[{\"role\": \"system\", \"content\": system_message},\n",
    "                                        {\"role\": \"user\", \"content\": str(df_filtered),},\n",
    "                                       ],\n",
    "                              temperature = 0.5,\n",
    "                             )"
   ]
  },
  {
   "cell_type": "code",
   "execution_count": 24,
   "metadata": {},
   "outputs": [],
   "source": [
    "report = response.message.content[0].text.split('\\n')"
   ]
  },
  {
   "cell_type": "code",
   "execution_count": 25,
   "metadata": {},
   "outputs": [
    {
     "data": {
      "text/plain": [
       "['## Financial Data Analysis Report',\n",
       " '',\n",
       " '### Total Volume in RUB:',\n",
       " 'The Total Volume in Russian Rubles (RUB) demonstrated a slight increase of approximately 3.7% from 1.272620e+07 RUB mln in November 2023 to 1.309672e+07 RUB mln in December 2023. However, when compared to the data from a year earlier (December 2023), the volume decreased by around 2.5%.',\n",
       " '',\n",
       " '### Total Volume in USD:',\n",
       " 'In terms of US Dollars (USD), the Total Volume experienced a decline over both periods. From November to December 2023, it decreased by roughly 7.3%, and the year-over-year comparison shows a more significant drop of 19.6%.',\n",
       " '',\n",
       " '### Liquid Volume in RUB:',\n",
       " 'The Liquid Volume in RUB saw an increase of 6.3% from November to December 2023, rising from 5.447193e+06 RUB mln to 5.792015e+06 RUB mln. However, compared to December 2023, it decreased by 12.4%.',\n",
       " '',\n",
       " '### Liquid Volume in USD:',\n",
       " 'In USD terms, the Liquid Volume decreased by 4.2% from 5.612600e+04 USD mln to 5.375870e+04 USD mln over the last month. This decline is less pronounced than the year-over-year decrease of 28.9%.',\n",
       " '',\n",
       " '### Share Change:',\n",
       " 'The share of Liquid Volume in USD to Total Volume in USD decreased by 12.4% from November to December 2023, indicating a notable shift in the composition of the total volume. When compared to December 2023, the share decreased by 11.9%, suggesting a consistent trend in the changing proportions.']"
      ]
     },
     "execution_count": 25,
     "metadata": {},
     "output_type": "execute_result"
    }
   ],
   "source": [
    "report"
   ]
  },
  {
   "cell_type": "code",
   "execution_count": null,
   "metadata": {},
   "outputs": [],
   "source": []
  }
 ],
 "metadata": {
  "kernelspec": {
   "display_name": "rnwf-env",
   "language": "python",
   "name": "python3"
  },
  "language_info": {
   "codemirror_mode": {
    "name": "ipython",
    "version": 3
   },
   "file_extension": ".py",
   "mimetype": "text/x-python",
   "name": "python",
   "nbconvert_exporter": "python",
   "pygments_lexer": "ipython3",
   "version": "3.11.2"
  }
 },
 "nbformat": 4,
 "nbformat_minor": 2
}
