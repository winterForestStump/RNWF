{
 "cells": [
  {
   "cell_type": "markdown",
   "metadata": {},
   "source": [
    "# Neural Prophet\n",
    "Fusing traditional time series algorithms using standard deep learning methods, built on PyTorch, inspired by Facebook Prophet and AR-Net."
   ]
  },
  {
   "cell_type": "code",
   "execution_count": 3,
   "metadata": {},
   "outputs": [],
   "source": [
    "from neuralprophet import NeuralProphet\n",
    "import pandas as pd\n",
    "import matplotlib.pyplot as plt"
   ]
  },
  {
   "cell_type": "markdown",
   "metadata": {},
   "source": [
    "### Fund volume in RUB"
   ]
  },
  {
   "cell_type": "code",
   "execution_count": 4,
   "metadata": {},
   "outputs": [],
   "source": [
    "df = pd.read_excel('../data_excel/Dannye_FNB.xlsx', header=2)\n",
    "\n",
    "df = df[:25] # delete footnotes\n",
    "df.drop(columns=['№ п/п', 'Январь 2008*'], inplace=True)\n",
    "df.drop(index=0, inplace=True)\n",
    "\n",
    "# Melt the dataframe to long format\n",
    "df_long = pd.melt(\n",
    "    df,\n",
    "    id_vars=[\"Показатель\"],\n",
    "    var_name=\"ds\",\n",
    "    value_name=\"y\"\n",
    ")\n",
    "\n",
    "# Convert \"ds\" to datetime\n",
    "df_long[\"ds\"] = pd.to_datetime(df_long[\"ds\"])\n",
    "\n",
    "# Filter for a specific indicator (e.g., \"Поступления\")\n",
    "prophet_data = df_long[df_long[\"Показатель\"] == \"Объем на конец периода\"][[\"ds\", \"y\"]]\n",
    "\n",
    "# Drop rows with missing values (if needed)\n",
    "prophet_data = prophet_data.dropna()\n",
    "\n",
    "# Clean the 'y' column and convert it to numeric type\n",
    "prophet_data = prophet_data.map(lambda x: str(x).replace(' ', '').replace(',', '.').replace('***', '') if isinstance(x, str) else x)\n",
    "prophet_data['y'] = prophet_data['y'].apply(pd.to_numeric, errors='coerce')"
   ]
  },
  {
   "cell_type": "markdown",
   "metadata": {},
   "source": [
    "NeuralProphet used the default parameter of 10 changepoints and fit them to our data."
   ]
  },
  {
   "cell_type": "code",
   "execution_count": 11,
   "metadata": {},
   "outputs": [
    {
     "name": "stderr",
     "output_type": "stream",
     "text": [
      "WARNING - (NP.forecaster.fit) - When Global modeling with local normalization, metrics are displayed in normalized scale.\n",
      "WARNING - (py.warnings._showwarnmsg) - c:\\Users\\lenovo\\python\\virtual_environments\\rnwf-env\\Lib\\site-packages\\neuralprophet\\df_utils.py:1152: FutureWarning:\n",
      "\n",
      "Series.view is deprecated and will be removed in a future version. Use ``astype`` as an alternative to change the dtype.\n",
      "\n",
      "\n",
      "INFO - (NP.df_utils._infer_frequency) - Major frequency MS corresponds to [99.507]% of the data.\n",
      "INFO - (NP.df_utils._infer_frequency) - Dataframe freq automatically defined as MS\n",
      "INFO - (NP.data.processing._handle_missing_data) - Dropped 1 rows with NaNs in 'y' column.\n",
      "INFO - (NP.config.init_data_params) - Setting normalization to global as only one dataframe provided for training.\n",
      "INFO - (NP.config.set_auto_batch_epoch) - Auto-set batch_size to 16\n",
      "INFO - (NP.config.set_auto_batch_epoch) - Auto-set epochs to 190\n"
     ]
    },
    {
     "data": {
      "application/vnd.jupyter.widget-view+json": {
       "model_id": "d33b78fe97f949489c889724a325f036",
       "version_major": 2,
       "version_minor": 0
      },
      "text/plain": [
       "Training: |          | 0/? [00:00<?, ?it/s]"
      ]
     },
     "metadata": {},
     "output_type": "display_data"
    },
    {
     "name": "stderr",
     "output_type": "stream",
     "text": [
      "WARNING - (NP.config.set_lr_finder_args) - Learning rate finder: The number of batches (13) is too small than the required number                     for the learning rate finder (212). The results might not be optimal.\n"
     ]
    },
    {
     "data": {
      "application/vnd.jupyter.widget-view+json": {
       "model_id": "5f6b07c2ee434371968fce0ab8597bef",
       "version_major": 2,
       "version_minor": 0
      },
      "text/plain": [
       "Finding best initial lr:   0%|          | 0/212 [00:00<?, ?it/s]"
      ]
     },
     "metadata": {},
     "output_type": "display_data"
    },
    {
     "data": {
      "application/vnd.jupyter.widget-view+json": {
       "model_id": "be0639f402d14e868689cadae234eac2",
       "version_major": 2,
       "version_minor": 0
      },
      "text/plain": [
       "Training: |          | 0/? [00:00<?, ?it/s]"
      ]
     },
     "metadata": {},
     "output_type": "display_data"
    },
    {
     "name": "stderr",
     "output_type": "stream",
     "text": [
      "WARNING - (py.warnings._showwarnmsg) - c:\\Users\\lenovo\\python\\virtual_environments\\rnwf-env\\Lib\\site-packages\\neuralprophet\\df_utils.py:1152: FutureWarning:\n",
      "\n",
      "Series.view is deprecated and will be removed in a future version. Use ``astype`` as an alternative to change the dtype.\n",
      "\n",
      "\n",
      "INFO - (NP.df_utils._infer_frequency) - Major frequency MS corresponds to [99.507]% of the data.\n",
      "WARNING - (py.warnings._showwarnmsg) - c:\\Users\\lenovo\\python\\virtual_environments\\rnwf-env\\Lib\\site-packages\\neuralprophet\\df_utils.py:1152: FutureWarning:\n",
      "\n",
      "Series.view is deprecated and will be removed in a future version. Use ``astype`` as an alternative to change the dtype.\n",
      "\n",
      "\n",
      "WARNING - (py.warnings._showwarnmsg) - c:\\Users\\lenovo\\python\\virtual_environments\\rnwf-env\\Lib\\site-packages\\neuralprophet\\df_utils.py:1152: FutureWarning:\n",
      "\n",
      "Series.view is deprecated and will be removed in a future version. Use ``astype`` as an alternative to change the dtype.\n",
      "\n",
      "\n",
      "INFO - (NP.df_utils._infer_frequency) - Defined frequency is equal to major frequency - MS\n",
      "WARNING - (py.warnings._showwarnmsg) - c:\\Users\\lenovo\\python\\virtual_environments\\rnwf-env\\Lib\\site-packages\\neuralprophet\\df_utils.py:1152: FutureWarning:\n",
      "\n",
      "Series.view is deprecated and will be removed in a future version. Use ``astype`` as an alternative to change the dtype.\n",
      "\n",
      "\n",
      "INFO - (NP.df_utils._infer_frequency) - Major frequency MS corresponds to [99.507]% of the data.\n",
      "WARNING - (py.warnings._showwarnmsg) - c:\\Users\\lenovo\\python\\virtual_environments\\rnwf-env\\Lib\\site-packages\\neuralprophet\\df_utils.py:1152: FutureWarning:\n",
      "\n",
      "Series.view is deprecated and will be removed in a future version. Use ``astype`` as an alternative to change the dtype.\n",
      "\n",
      "\n",
      "WARNING - (py.warnings._showwarnmsg) - c:\\Users\\lenovo\\python\\virtual_environments\\rnwf-env\\Lib\\site-packages\\neuralprophet\\df_utils.py:1152: FutureWarning:\n",
      "\n",
      "Series.view is deprecated and will be removed in a future version. Use ``astype`` as an alternative to change the dtype.\n",
      "\n",
      "\n",
      "INFO - (NP.df_utils._infer_frequency) - Defined frequency is equal to major frequency - MS\n"
     ]
    },
    {
     "data": {
      "application/vnd.jupyter.widget-view+json": {
       "model_id": "b918ffde8b9d498abd486aad984a585e",
       "version_major": 2,
       "version_minor": 0
      },
      "text/plain": [
       "Predicting: |          | 0/? [00:00<?, ?it/s]"
      ]
     },
     "metadata": {},
     "output_type": "display_data"
    },
    {
     "name": "stderr",
     "output_type": "stream",
     "text": [
      "INFO - (NP.df_utils.return_df_in_original_format) - Returning df with no ID column\n",
      "WARNING - (py.warnings._showwarnmsg) - c:\\Users\\lenovo\\python\\virtual_environments\\rnwf-env\\Lib\\site-packages\\neuralprophet\\plot_forecast_plotly.py:100: FutureWarning:\n",
      "\n",
      "The behavior of DatetimeProperties.to_pydatetime is deprecated, in a future version this will return a Series containing python datetime objects instead of an ndarray. To retain the old behavior, call `np.array` on the result\n",
      "\n",
      "\n"
     ]
    },
    {
     "data": {
      "application/vnd.jupyter.widget-view+json": {
       "model_id": "2ac23cbc79a74ff6ac5307b875c9ef42",
       "version_major": 2,
       "version_minor": 0
      },
      "text/plain": [
       "FigureWidgetResampler({\n",
       "    'data': [{'fill': 'none',\n",
       "              'line': {'color': 'rgba(45, 146, 255, 1.0)', 'width': 2},\n",
       "              'mode': 'lines',\n",
       "              'name': 'yhat1',\n",
       "              'type': 'scatter',\n",
       "              'uid': '76955dcd-132d-4735-98ac-8f4d46a6daf3',\n",
       "              'x': array([datetime.datetime(2008, 2, 1, 0, 0),\n",
       "                          datetime.datetime(2008, 3, 1, 0, 0),\n",
       "                          datetime.datetime(2008, 4, 1, 0, 0), ...,\n",
       "                          datetime.datetime(2024, 10, 1, 0, 0),\n",
       "                          datetime.datetime(2024, 11, 1, 0, 0),\n",
       "                          datetime.datetime(2024, 12, 1, 0, 0)], dtype=object),\n",
       "              'y': array([  735.5297,   853.3142,   979.2218, ..., 12857.055 , 12876.111 ,\n",
       "                          12894.553 ], dtype=float32)},\n",
       "             {'marker': {'color': 'black', 'size': 4},\n",
       "              'mode': 'markers',\n",
       "              'name': 'Actual',\n",
       "              'type': 'scatter',\n",
       "              'uid': '28bd2f62-f455-4eeb-8341-7c939897e886',\n",
       "              'x': array([datetime.datetime(2008, 2, 1, 0, 0),\n",
       "                          datetime.datetime(2008, 3, 1, 0, 0),\n",
       "                          datetime.datetime(2008, 4, 1, 0, 0), ...,\n",
       "                          datetime.datetime(2024, 10, 1, 0, 0),\n",
       "                          datetime.datetime(2024, 11, 1, 0, 0),\n",
       "                          datetime.datetime(2024, 12, 1, 0, 0)], dtype=object),\n",
       "              'y': array([  777.03,   773.57,   773.82, ..., 12726.2 , 13096.72, 11879.97])}],\n",
       "    'layout': {'autosize': True,\n",
       "               'font': {'size': 10},\n",
       "               'height': 420,\n",
       "               'hovermode': 'x unified',\n",
       "               'margin': {'b': 0, 'l': 0, 'pad': 0, 'r': 10, 't': 10},\n",
       "               'showlegend': True,\n",
       "               'template': '...',\n",
       "               'title': {'font': {'size': 12}},\n",
       "               'width': 700,\n",
       "               'xaxis': {'linewidth': 1.5,\n",
       "                         'mirror': True,\n",
       "                         'rangeselector': {'buttons': [{'count': 7, 'label': '1w', 'step': 'day', 'stepmode': 'backward'},\n",
       "                                                       {'count': 1,\n",
       "                                                        'label': '1m',\n",
       "                                                        'step': 'month',\n",
       "                                                        'stepmode': 'backward'},\n",
       "                                                       {'count': 6,\n",
       "                                                        'label': '6m',\n",
       "                                                        'step': 'month',\n",
       "                                                        'stepmode': 'backward'},\n",
       "                                                       {'count': 1, 'label': '1y', 'step': 'year', 'stepmode': 'backward'},\n",
       "                                                       {'step': 'all'}]},\n",
       "                         'rangeslider': {'visible': True},\n",
       "                         'showline': True,\n",
       "                         'title': {'text': 'ds'},\n",
       "                         'type': 'date'},\n",
       "               'yaxis': {'linewidth': 1.5, 'mirror': True, 'showline': True, 'title': {'text': 'y'}}}\n",
       "})"
      ]
     },
     "execution_count": 11,
     "metadata": {},
     "output_type": "execute_result"
    }
   ],
   "source": [
    "m = NeuralProphet(\n",
    "                  # Disable change trendpoints\n",
    "                  # n_changepoints=0,\n",
    "                  # Disable seasonality components\n",
    "                  yearly_seasonality=False,\n",
    "                  weekly_seasonality=False,\n",
    "                  daily_seasonality=False,\n",
    "                )\n",
    "metrics = m.fit(prophet_data)\n",
    "forecast = m.predict(prophet_data)\n",
    "m.plot(forecast)"
   ]
  },
  {
   "cell_type": "code",
   "execution_count": 12,
   "metadata": {},
   "outputs": [
    {
     "name": "stderr",
     "output_type": "stream",
     "text": [
      "WARNING - (py.warnings._showwarnmsg) - c:\\Users\\lenovo\\python\\virtual_environments\\rnwf-env\\Lib\\site-packages\\neuralprophet\\plot_model_parameters_plotly.py:237: FutureWarning:\n",
      "\n",
      "The behavior of DatetimeProperties.to_pydatetime is deprecated, in a future version this will return a Series containing python datetime objects instead of an ndarray. To retain the old behavior, call `np.array` on the result\n",
      "\n",
      "\n",
      "WARNING - (py.warnings._showwarnmsg) - c:\\Users\\lenovo\\python\\virtual_environments\\rnwf-env\\Lib\\site-packages\\neuralprophet\\plot_model_parameters_plotly.py:271: FutureWarning:\n",
      "\n",
      "The behavior of DatetimeProperties.to_pydatetime is deprecated, in a future version this will return a Series containing python datetime objects instead of an ndarray. To retain the old behavior, call `np.array` on the result\n",
      "\n",
      "\n"
     ]
    },
    {
     "data": {
      "application/vnd.jupyter.widget-view+json": {
       "model_id": "d142da353f594ee3bc5c49304cd053d3",
       "version_major": 2,
       "version_minor": 0
      },
      "text/plain": [
       "FigureWidgetResampler({\n",
       "    'data': [{'fill': 'none',\n",
       "              'line': {'color': '#2d92ff', 'width': 2},\n",
       "              'mode': 'lines',\n",
       "              'name': 'Trend',\n",
       "              'type': 'scatter',\n",
       "              'uid': '4ec22d9b-cb08-419a-afd2-09979a0b13be',\n",
       "              'x': array([datetime.datetime(2008, 2, 1, 0, 0),\n",
       "                          datetime.datetime(2008, 3, 1, 0, 0),\n",
       "                          datetime.datetime(2008, 4, 1, 0, 0), ...,\n",
       "                          datetime.datetime(2024, 10, 1, 0, 0),\n",
       "                          datetime.datetime(2024, 11, 1, 0, 0),\n",
       "                          datetime.datetime(2024, 12, 1, 0, 0)], dtype=object),\n",
       "              'xaxis': 'x',\n",
       "              'y': array([  735.52972796,   853.31423853,   979.2218188 , ..., 12857.05447261,\n",
       "                          12876.11069488, 12894.55220031]),\n",
       "              'yaxis': 'y'}],\n",
       "    'layout': {'autosize': True,\n",
       "               'font': {'size': 10},\n",
       "               'height': 210,\n",
       "               'hovermode': 'x unified',\n",
       "               'margin': {'b': 0, 'l': 0, 'pad': 0, 'r': 10, 't': 10},\n",
       "               'showlegend': False,\n",
       "               'template': '...',\n",
       "               'title': {'font': {'size': 12}},\n",
       "               'width': 700,\n",
       "               'xaxis': {'anchor': 'y',\n",
       "                         'domain': [0.0, 1.0],\n",
       "                         'linewidth': 1.5,\n",
       "                         'mirror': True,\n",
       "                         'range': [2007-04-03 00:00:00, 2025-10-01 00:00:00],\n",
       "                         'showline': True,\n",
       "                         'title': {'text': 'ds'},\n",
       "                         'type': 'date'},\n",
       "               'yaxis': {'anchor': 'x',\n",
       "                         'domain': [0.0, 1.0],\n",
       "                         'linewidth': 1.5,\n",
       "                         'mirror': True,\n",
       "                         'rangemode': 'normal',\n",
       "                         'showline': True,\n",
       "                         'title': {'text': 'Trend'}}}\n",
       "})"
      ]
     },
     "execution_count": 12,
     "metadata": {},
     "output_type": "execute_result"
    }
   ],
   "source": [
    "m.plot_parameters(components=[\"trend\"])"
   ]
  },
  {
   "cell_type": "code",
   "execution_count": 13,
   "metadata": {},
   "outputs": [
    {
     "name": "stderr",
     "output_type": "stream",
     "text": [
      "WARNING - (py.warnings._showwarnmsg) - c:\\Users\\lenovo\\python\\virtual_environments\\rnwf-env\\Lib\\site-packages\\neuralprophet\\df_utils.py:1152: FutureWarning:\n",
      "\n",
      "Series.view is deprecated and will be removed in a future version. Use ``astype`` as an alternative to change the dtype.\n",
      "\n",
      "\n",
      "INFO - (NP.df_utils._infer_frequency) - Major frequency MS corresponds to [99.507]% of the data.\n",
      "WARNING - (py.warnings._showwarnmsg) - c:\\Users\\lenovo\\python\\virtual_environments\\rnwf-env\\Lib\\site-packages\\neuralprophet\\df_utils.py:1152: FutureWarning:\n",
      "\n",
      "Series.view is deprecated and will be removed in a future version. Use ``astype`` as an alternative to change the dtype.\n",
      "\n",
      "\n",
      "WARNING - (py.warnings._showwarnmsg) - c:\\Users\\lenovo\\python\\virtual_environments\\rnwf-env\\Lib\\site-packages\\neuralprophet\\df_utils.py:1152: FutureWarning:\n",
      "\n",
      "Series.view is deprecated and will be removed in a future version. Use ``astype`` as an alternative to change the dtype.\n",
      "\n",
      "\n",
      "INFO - (NP.df_utils._infer_frequency) - Defined frequency is equal to major frequency - MS\n",
      "WARNING - (py.warnings._showwarnmsg) - c:\\Users\\lenovo\\python\\virtual_environments\\rnwf-env\\Lib\\site-packages\\neuralprophet\\data\\split.py:273: FutureWarning:\n",
      "\n",
      "The behavior of DataFrame concatenation with empty or all-NA entries is deprecated. In a future version, this will no longer exclude empty or all-NA columns when determining the result dtypes. To retain the old behavior, exclude the relevant entries before the concat operation.\n",
      "\n",
      "\n",
      "INFO - (NP.df_utils.return_df_in_original_format) - Returning df with no ID column\n",
      "WARNING - (py.warnings._showwarnmsg) - c:\\Users\\lenovo\\python\\virtual_environments\\rnwf-env\\Lib\\site-packages\\neuralprophet\\df_utils.py:1152: FutureWarning:\n",
      "\n",
      "Series.view is deprecated and will be removed in a future version. Use ``astype`` as an alternative to change the dtype.\n",
      "\n",
      "\n",
      "INFO - (NP.df_utils._infer_frequency) - Major frequency MS corresponds to [99.535]% of the data.\n",
      "WARNING - (py.warnings._showwarnmsg) - c:\\Users\\lenovo\\python\\virtual_environments\\rnwf-env\\Lib\\site-packages\\neuralprophet\\df_utils.py:1152: FutureWarning:\n",
      "\n",
      "Series.view is deprecated and will be removed in a future version. Use ``astype`` as an alternative to change the dtype.\n",
      "\n",
      "\n",
      "WARNING - (py.warnings._showwarnmsg) - c:\\Users\\lenovo\\python\\virtual_environments\\rnwf-env\\Lib\\site-packages\\neuralprophet\\df_utils.py:1152: FutureWarning:\n",
      "\n",
      "Series.view is deprecated and will be removed in a future version. Use ``astype`` as an alternative to change the dtype.\n",
      "\n",
      "\n",
      "INFO - (NP.df_utils._infer_frequency) - Defined frequency is equal to major frequency - MS\n",
      "WARNING - (py.warnings._showwarnmsg) - c:\\Users\\lenovo\\python\\virtual_environments\\rnwf-env\\Lib\\site-packages\\neuralprophet\\df_utils.py:1152: FutureWarning:\n",
      "\n",
      "Series.view is deprecated and will be removed in a future version. Use ``astype`` as an alternative to change the dtype.\n",
      "\n",
      "\n",
      "INFO - (NP.df_utils._infer_frequency) - Major frequency MS corresponds to [99.535]% of the data.\n",
      "WARNING - (py.warnings._showwarnmsg) - c:\\Users\\lenovo\\python\\virtual_environments\\rnwf-env\\Lib\\site-packages\\neuralprophet\\df_utils.py:1152: FutureWarning:\n",
      "\n",
      "Series.view is deprecated and will be removed in a future version. Use ``astype`` as an alternative to change the dtype.\n",
      "\n",
      "\n",
      "WARNING - (py.warnings._showwarnmsg) - c:\\Users\\lenovo\\python\\virtual_environments\\rnwf-env\\Lib\\site-packages\\neuralprophet\\df_utils.py:1152: FutureWarning:\n",
      "\n",
      "Series.view is deprecated and will be removed in a future version. Use ``astype`` as an alternative to change the dtype.\n",
      "\n",
      "\n",
      "INFO - (NP.df_utils._infer_frequency) - Defined frequency is equal to major frequency - MS\n",
      "INFO - (NP.data.processing._handle_missing_data) - Dropped 12 rows at the end with NaNs in 'y' column.\n"
     ]
    },
    {
     "data": {
      "application/vnd.jupyter.widget-view+json": {
       "model_id": "211981a7808c4134b32bbea5e7f808bb",
       "version_major": 2,
       "version_minor": 0
      },
      "text/plain": [
       "Predicting: |          | 0/? [00:00<?, ?it/s]"
      ]
     },
     "metadata": {},
     "output_type": "display_data"
    },
    {
     "name": "stderr",
     "output_type": "stream",
     "text": [
      "INFO - (NP.df_utils.return_df_in_original_format) - Returning df with no ID column\n",
      "WARNING - (py.warnings._showwarnmsg) - c:\\Users\\lenovo\\python\\virtual_environments\\rnwf-env\\Lib\\site-packages\\neuralprophet\\plot_forecast_plotly.py:100: FutureWarning:\n",
      "\n",
      "The behavior of DatetimeProperties.to_pydatetime is deprecated, in a future version this will return a Series containing python datetime objects instead of an ndarray. To retain the old behavior, call `np.array` on the result\n",
      "\n",
      "\n"
     ]
    },
    {
     "data": {
      "application/vnd.jupyter.widget-view+json": {
       "model_id": "cc3b28261d9f4171933b74b3e50a8a9d",
       "version_major": 2,
       "version_minor": 0
      },
      "text/plain": [
       "FigureWidgetResampler({\n",
       "    'data': [{'fill': 'none',\n",
       "              'line': {'color': 'rgba(45, 146, 255, 1.0)', 'width': 2},\n",
       "              'mode': 'lines',\n",
       "              'name': 'yhat1',\n",
       "              'type': 'scatter',\n",
       "              'uid': 'a5201419-2715-46e7-b383-bbb8341f820a',\n",
       "              'x': array([datetime.datetime(2008, 2, 1, 0, 0),\n",
       "                          datetime.datetime(2008, 3, 1, 0, 0),\n",
       "                          datetime.datetime(2008, 4, 1, 0, 0), ...,\n",
       "                          datetime.datetime(2025, 10, 1, 0, 0),\n",
       "                          datetime.datetime(2025, 11, 1, 0, 0),\n",
       "                          datetime.datetime(2025, 12, 1, 0, 0)], dtype=object),\n",
       "              'y': array([  735.5297,   853.3142,   979.2218, ..., 13081.428 , 13100.482 ,\n",
       "                          13118.924 ], dtype=float32)},\n",
       "             {'marker': {'color': 'black', 'size': 4},\n",
       "              'mode': 'markers',\n",
       "              'name': 'Actual',\n",
       "              'type': 'scatter',\n",
       "              'uid': 'f78d1dc8-6e0b-4b70-bf78-faf9fd203838',\n",
       "              'x': array([datetime.datetime(2008, 2, 1, 0, 0),\n",
       "                          datetime.datetime(2008, 3, 1, 0, 0),\n",
       "                          datetime.datetime(2008, 4, 1, 0, 0), ...,\n",
       "                          datetime.datetime(2025, 10, 1, 0, 0),\n",
       "                          datetime.datetime(2025, 11, 1, 0, 0),\n",
       "                          datetime.datetime(2025, 12, 1, 0, 0)], dtype=object),\n",
       "              'y': array([777.03, 773.57, 773.82, ...,    nan,    nan,    nan])}],\n",
       "    'layout': {'autosize': True,\n",
       "               'font': {'size': 10},\n",
       "               'height': 420,\n",
       "               'hovermode': 'x unified',\n",
       "               'margin': {'b': 0, 'l': 0, 'pad': 0, 'r': 10, 't': 10},\n",
       "               'showlegend': True,\n",
       "               'template': '...',\n",
       "               'title': {'font': {'size': 12}},\n",
       "               'width': 700,\n",
       "               'xaxis': {'linewidth': 1.5,\n",
       "                         'mirror': True,\n",
       "                         'rangeselector': {'buttons': [{'count': 7, 'label': '1w', 'step': 'day', 'stepmode': 'backward'},\n",
       "                                                       {'count': 1,\n",
       "                                                        'label': '1m',\n",
       "                                                        'step': 'month',\n",
       "                                                        'stepmode': 'backward'},\n",
       "                                                       {'count': 6,\n",
       "                                                        'label': '6m',\n",
       "                                                        'step': 'month',\n",
       "                                                        'stepmode': 'backward'},\n",
       "                                                       {'count': 1, 'label': '1y', 'step': 'year', 'stepmode': 'backward'},\n",
       "                                                       {'step': 'all'}]},\n",
       "                         'rangeslider': {'visible': True},\n",
       "                         'showline': True,\n",
       "                         'title': {'text': 'ds'},\n",
       "                         'type': 'date'},\n",
       "               'yaxis': {'linewidth': 1.5, 'mirror': True, 'showline': True, 'title': {'text': 'y'}}}\n",
       "})"
      ]
     },
     "execution_count": 13,
     "metadata": {},
     "output_type": "execute_result"
    }
   ],
   "source": [
    "# Create a new dataframe reaching 365 into the future for our forecast, n_historic_predictions also shows historic data\n",
    "df_future = m.make_future_dataframe(prophet_data, n_historic_predictions=True, periods=12)\n",
    "\n",
    "# Predict the future\n",
    "forecast = m.predict(df_future)\n",
    "\n",
    "# Visualize the forecast\n",
    "m.plot(forecast)"
   ]
  },
  {
   "cell_type": "code",
   "execution_count": 14,
   "metadata": {},
   "outputs": [
    {
     "name": "stderr",
     "output_type": "stream",
     "text": [
      "WARNING - (py.warnings._showwarnmsg) - c:\\Users\\lenovo\\python\\virtual_environments\\rnwf-env\\Lib\\site-packages\\neuralprophet\\plot_forecast_plotly.py:410: FutureWarning:\n",
      "\n",
      "The behavior of DatetimeProperties.to_pydatetime is deprecated, in a future version this will return a Series containing python datetime objects instead of an ndarray. To retain the old behavior, call `np.array` on the result\n",
      "\n",
      "\n"
     ]
    },
    {
     "data": {
      "application/vnd.jupyter.widget-view+json": {
       "model_id": "08e56f737e7144799bd40b5863ca0740",
       "version_major": 2,
       "version_minor": 0
      },
      "text/plain": [
       "FigureWidgetResampler({\n",
       "    'data': [{'line': {'color': '#2d92ff', 'width': 2},\n",
       "              'mode': 'lines',\n",
       "              'name': 'Trend',\n",
       "              'showlegend': False,\n",
       "              'type': 'scatter',\n",
       "              'uid': '094c22b4-3b43-4a98-a979-5923c98390e2',\n",
       "              'x': array([datetime.datetime(2008, 2, 1, 0, 0),\n",
       "                          datetime.datetime(2008, 3, 1, 0, 0),\n",
       "                          datetime.datetime(2008, 4, 1, 0, 0), ...,\n",
       "                          datetime.datetime(2025, 10, 1, 0, 0),\n",
       "                          datetime.datetime(2025, 11, 1, 0, 0),\n",
       "                          datetime.datetime(2025, 12, 1, 0, 0)], dtype=object),\n",
       "              'xaxis': 'x',\n",
       "              'y': array([  735.5297,   853.3142,   979.2218, ..., 13081.428 , 13100.482 ,\n",
       "                          13118.924 ], dtype=float32),\n",
       "              'yaxis': 'y'}],\n",
       "    'layout': {'autosize': True,\n",
       "               'font': {'size': 10},\n",
       "               'height': 210,\n",
       "               'hovermode': 'x unified',\n",
       "               'legend': {'traceorder': 'reversed', 'y': 0.1},\n",
       "               'margin': {'b': 0, 'l': 0, 'pad': 0, 'r': 10, 't': 10},\n",
       "               'template': '...',\n",
       "               'title': {'font': {'size': 12}},\n",
       "               'width': 700,\n",
       "               'xaxis': {'anchor': 'y',\n",
       "                         'domain': [0.0, 1.0],\n",
       "                         'linewidth': 1.5,\n",
       "                         'mirror': True,\n",
       "                         'range': [2007-03-03 00:00:00, 2026-11-01 00:00:00],\n",
       "                         'showline': True,\n",
       "                         'title': {'text': 'ds'},\n",
       "                         'type': 'date'},\n",
       "               'yaxis': {'anchor': 'x',\n",
       "                         'domain': [0.0, 1.0],\n",
       "                         'linewidth': 1.5,\n",
       "                         'mirror': True,\n",
       "                         'rangemode': 'normal',\n",
       "                         'showline': True,\n",
       "                         'title': {'text': 'Trend'}}}\n",
       "})"
      ]
     },
     "execution_count": 14,
     "metadata": {},
     "output_type": "execute_result"
    }
   ],
   "source": [
    "m.plot_components(forecast)"
   ]
  },
  {
   "cell_type": "code",
   "execution_count": 20,
   "metadata": {},
   "outputs": [
    {
     "data": {
      "text/html": [
       "<div>\n",
       "<style scoped>\n",
       "    .dataframe tbody tr th:only-of-type {\n",
       "        vertical-align: middle;\n",
       "    }\n",
       "\n",
       "    .dataframe tbody tr th {\n",
       "        vertical-align: top;\n",
       "    }\n",
       "\n",
       "    .dataframe thead th {\n",
       "        text-align: right;\n",
       "    }\n",
       "</style>\n",
       "<table border=\"1\" class=\"dataframe\">\n",
       "  <thead>\n",
       "    <tr style=\"text-align: right;\">\n",
       "      <th></th>\n",
       "      <th>ds</th>\n",
       "      <th>y</th>\n",
       "      <th>yhat1</th>\n",
       "      <th>trend</th>\n",
       "    </tr>\n",
       "  </thead>\n",
       "  <tbody>\n",
       "    <tr>\n",
       "      <th>203</th>\n",
       "      <td>2025-01-01</td>\n",
       "      <td>NaN</td>\n",
       "      <td>12913.609375</td>\n",
       "      <td>12913.609375</td>\n",
       "    </tr>\n",
       "    <tr>\n",
       "      <th>204</th>\n",
       "      <td>2025-02-01</td>\n",
       "      <td>NaN</td>\n",
       "      <td>12932.666016</td>\n",
       "      <td>12932.666016</td>\n",
       "    </tr>\n",
       "    <tr>\n",
       "      <th>205</th>\n",
       "      <td>2025-03-01</td>\n",
       "      <td>NaN</td>\n",
       "      <td>12949.876953</td>\n",
       "      <td>12949.876953</td>\n",
       "    </tr>\n",
       "    <tr>\n",
       "      <th>206</th>\n",
       "      <td>2025-04-01</td>\n",
       "      <td>NaN</td>\n",
       "      <td>12968.933594</td>\n",
       "      <td>12968.933594</td>\n",
       "    </tr>\n",
       "    <tr>\n",
       "      <th>207</th>\n",
       "      <td>2025-05-01</td>\n",
       "      <td>NaN</td>\n",
       "      <td>12987.375000</td>\n",
       "      <td>12987.375000</td>\n",
       "    </tr>\n",
       "    <tr>\n",
       "      <th>208</th>\n",
       "      <td>2025-06-01</td>\n",
       "      <td>NaN</td>\n",
       "      <td>13006.431641</td>\n",
       "      <td>13006.431641</td>\n",
       "    </tr>\n",
       "    <tr>\n",
       "      <th>209</th>\n",
       "      <td>2025-07-01</td>\n",
       "      <td>NaN</td>\n",
       "      <td>13024.873047</td>\n",
       "      <td>13024.873047</td>\n",
       "    </tr>\n",
       "    <tr>\n",
       "      <th>210</th>\n",
       "      <td>2025-08-01</td>\n",
       "      <td>NaN</td>\n",
       "      <td>13043.929688</td>\n",
       "      <td>13043.929688</td>\n",
       "    </tr>\n",
       "    <tr>\n",
       "      <th>211</th>\n",
       "      <td>2025-09-01</td>\n",
       "      <td>NaN</td>\n",
       "      <td>13062.986328</td>\n",
       "      <td>13062.986328</td>\n",
       "    </tr>\n",
       "    <tr>\n",
       "      <th>212</th>\n",
       "      <td>2025-10-01</td>\n",
       "      <td>NaN</td>\n",
       "      <td>13081.427734</td>\n",
       "      <td>13081.427734</td>\n",
       "    </tr>\n",
       "    <tr>\n",
       "      <th>213</th>\n",
       "      <td>2025-11-01</td>\n",
       "      <td>NaN</td>\n",
       "      <td>13100.482422</td>\n",
       "      <td>13100.482422</td>\n",
       "    </tr>\n",
       "    <tr>\n",
       "      <th>214</th>\n",
       "      <td>2025-12-01</td>\n",
       "      <td>NaN</td>\n",
       "      <td>13118.923828</td>\n",
       "      <td>13118.923828</td>\n",
       "    </tr>\n",
       "  </tbody>\n",
       "</table>\n",
       "</div>"
      ],
      "text/plain": [
       "            ds   y         yhat1         trend\n",
       "203 2025-01-01 NaN  12913.609375  12913.609375\n",
       "204 2025-02-01 NaN  12932.666016  12932.666016\n",
       "205 2025-03-01 NaN  12949.876953  12949.876953\n",
       "206 2025-04-01 NaN  12968.933594  12968.933594\n",
       "207 2025-05-01 NaN  12987.375000  12987.375000\n",
       "208 2025-06-01 NaN  13006.431641  13006.431641\n",
       "209 2025-07-01 NaN  13024.873047  13024.873047\n",
       "210 2025-08-01 NaN  13043.929688  13043.929688\n",
       "211 2025-09-01 NaN  13062.986328  13062.986328\n",
       "212 2025-10-01 NaN  13081.427734  13081.427734\n",
       "213 2025-11-01 NaN  13100.482422  13100.482422\n",
       "214 2025-12-01 NaN  13118.923828  13118.923828"
      ]
     },
     "execution_count": 20,
     "metadata": {},
     "output_type": "execute_result"
    }
   ],
   "source": [
    "forecast.tail(12)"
   ]
  },
  {
   "cell_type": "markdown",
   "metadata": {},
   "source": [
    "### Fund volume in USD"
   ]
  },
  {
   "cell_type": "code",
   "execution_count": 36,
   "metadata": {},
   "outputs": [],
   "source": [
    "# Filter for a specific indicator (e.g., \"Поступления\")\n",
    "prophet_data = df_long[df_long[\"Показатель\"] == \"Объем средств фонда на конец периода (млрд. долларов США)\"][[\"ds\", \"y\"]]\n",
    "\n",
    "# Drop rows with missing values (if needed)\n",
    "prophet_data = prophet_data.dropna()\n",
    "\n",
    "# Clean the 'y' column and convert it to numeric type\n",
    "prophet_data = prophet_data.map(lambda x: str(x).replace(' ', '').replace(',', '.').replace('***', '') if isinstance(x, str) else x)\n",
    "prophet_data['y'] = prophet_data['y'].apply(pd.to_numeric, errors='coerce')"
   ]
  },
  {
   "cell_type": "code",
   "execution_count": 37,
   "metadata": {},
   "outputs": [
    {
     "name": "stderr",
     "output_type": "stream",
     "text": [
      "WARNING - (NP.forecaster.fit) - When Global modeling with local normalization, metrics are displayed in normalized scale.\n",
      "WARNING - (py.warnings._showwarnmsg) - c:\\Users\\lenovo\\python\\virtual_environments\\rnwf-env\\Lib\\site-packages\\neuralprophet\\df_utils.py:1152: FutureWarning:\n",
      "\n",
      "Series.view is deprecated and will be removed in a future version. Use ``astype`` as an alternative to change the dtype.\n",
      "\n",
      "\n",
      "INFO - (NP.df_utils._infer_frequency) - Major frequency MS corresponds to [99.507]% of the data.\n",
      "INFO - (NP.df_utils._infer_frequency) - Dataframe freq automatically defined as MS\n",
      "INFO - (NP.config.init_data_params) - Setting normalization to global as only one dataframe provided for training.\n",
      "INFO - (NP.config.set_auto_batch_epoch) - Auto-set batch_size to 16\n",
      "INFO - (NP.config.set_auto_batch_epoch) - Auto-set epochs to 190\n"
     ]
    },
    {
     "data": {
      "application/vnd.jupyter.widget-view+json": {
       "model_id": "d8cfb254783e449f9e9615133eb57827",
       "version_major": 2,
       "version_minor": 0
      },
      "text/plain": [
       "Training: |          | 0/? [00:00<?, ?it/s]"
      ]
     },
     "metadata": {},
     "output_type": "display_data"
    },
    {
     "name": "stderr",
     "output_type": "stream",
     "text": [
      "WARNING - (NP.config.set_lr_finder_args) - Learning rate finder: The number of batches (13) is too small than the required number                     for the learning rate finder (212). The results might not be optimal.\n"
     ]
    },
    {
     "data": {
      "application/vnd.jupyter.widget-view+json": {
       "model_id": "728686e27fa14e1294d5884f169ff46b",
       "version_major": 2,
       "version_minor": 0
      },
      "text/plain": [
       "Finding best initial lr:   0%|          | 0/212 [00:00<?, ?it/s]"
      ]
     },
     "metadata": {},
     "output_type": "display_data"
    },
    {
     "data": {
      "application/vnd.jupyter.widget-view+json": {
       "model_id": "1afb290c82c5455b88c1af3556e7b241",
       "version_major": 2,
       "version_minor": 0
      },
      "text/plain": [
       "Training: |          | 0/? [00:00<?, ?it/s]"
      ]
     },
     "metadata": {},
     "output_type": "display_data"
    },
    {
     "name": "stderr",
     "output_type": "stream",
     "text": [
      "WARNING - (py.warnings._showwarnmsg) - c:\\Users\\lenovo\\python\\virtual_environments\\rnwf-env\\Lib\\site-packages\\neuralprophet\\df_utils.py:1152: FutureWarning:\n",
      "\n",
      "Series.view is deprecated and will be removed in a future version. Use ``astype`` as an alternative to change the dtype.\n",
      "\n",
      "\n",
      "INFO - (NP.df_utils._infer_frequency) - Major frequency MS corresponds to [99.507]% of the data.\n",
      "WARNING - (py.warnings._showwarnmsg) - c:\\Users\\lenovo\\python\\virtual_environments\\rnwf-env\\Lib\\site-packages\\neuralprophet\\df_utils.py:1152: FutureWarning:\n",
      "\n",
      "Series.view is deprecated and will be removed in a future version. Use ``astype`` as an alternative to change the dtype.\n",
      "\n",
      "\n",
      "WARNING - (py.warnings._showwarnmsg) - c:\\Users\\lenovo\\python\\virtual_environments\\rnwf-env\\Lib\\site-packages\\neuralprophet\\df_utils.py:1152: FutureWarning:\n",
      "\n",
      "Series.view is deprecated and will be removed in a future version. Use ``astype`` as an alternative to change the dtype.\n",
      "\n",
      "\n",
      "INFO - (NP.df_utils._infer_frequency) - Defined frequency is equal to major frequency - MS\n",
      "WARNING - (py.warnings._showwarnmsg) - c:\\Users\\lenovo\\python\\virtual_environments\\rnwf-env\\Lib\\site-packages\\neuralprophet\\df_utils.py:1152: FutureWarning:\n",
      "\n",
      "Series.view is deprecated and will be removed in a future version. Use ``astype`` as an alternative to change the dtype.\n",
      "\n",
      "\n",
      "INFO - (NP.df_utils._infer_frequency) - Major frequency MS corresponds to [99.507]% of the data.\n",
      "WARNING - (py.warnings._showwarnmsg) - c:\\Users\\lenovo\\python\\virtual_environments\\rnwf-env\\Lib\\site-packages\\neuralprophet\\df_utils.py:1152: FutureWarning:\n",
      "\n",
      "Series.view is deprecated and will be removed in a future version. Use ``astype`` as an alternative to change the dtype.\n",
      "\n",
      "\n",
      "WARNING - (py.warnings._showwarnmsg) - c:\\Users\\lenovo\\python\\virtual_environments\\rnwf-env\\Lib\\site-packages\\neuralprophet\\df_utils.py:1152: FutureWarning:\n",
      "\n",
      "Series.view is deprecated and will be removed in a future version. Use ``astype`` as an alternative to change the dtype.\n",
      "\n",
      "\n",
      "INFO - (NP.df_utils._infer_frequency) - Defined frequency is equal to major frequency - MS\n"
     ]
    },
    {
     "data": {
      "application/vnd.jupyter.widget-view+json": {
       "model_id": "8ac60f28e5c6433abcd6fee4f16f4cba",
       "version_major": 2,
       "version_minor": 0
      },
      "text/plain": [
       "Predicting: |          | 0/? [00:00<?, ?it/s]"
      ]
     },
     "metadata": {},
     "output_type": "display_data"
    },
    {
     "name": "stderr",
     "output_type": "stream",
     "text": [
      "INFO - (NP.df_utils.return_df_in_original_format) - Returning df with no ID column\n",
      "WARNING - (py.warnings._showwarnmsg) - c:\\Users\\lenovo\\python\\virtual_environments\\rnwf-env\\Lib\\site-packages\\neuralprophet\\plot_forecast_plotly.py:100: FutureWarning:\n",
      "\n",
      "The behavior of DatetimeProperties.to_pydatetime is deprecated, in a future version this will return a Series containing python datetime objects instead of an ndarray. To retain the old behavior, call `np.array` on the result\n",
      "\n",
      "\n"
     ]
    },
    {
     "data": {
      "application/vnd.jupyter.widget-view+json": {
       "model_id": "079ec6d3bdc8424fb999d61a391be01a",
       "version_major": 2,
       "version_minor": 0
      },
      "text/plain": [
       "FigureWidgetResampler({\n",
       "    'data': [{'fill': 'none',\n",
       "              'line': {'color': 'rgba(45, 146, 255, 1.0)', 'width': 2},\n",
       "              'mode': 'lines',\n",
       "              'name': 'yhat1',\n",
       "              'type': 'scatter',\n",
       "              'uid': '16445728-d6ec-46b0-8706-f68b5c17e6c1',\n",
       "              'x': array([datetime.datetime(2008, 2, 1, 0, 0),\n",
       "                          datetime.datetime(2008, 3, 1, 0, 0),\n",
       "                          datetime.datetime(2008, 4, 1, 0, 0), ...,\n",
       "                          datetime.datetime(2024, 10, 1, 0, 0),\n",
       "                          datetime.datetime(2024, 11, 1, 0, 0),\n",
       "                          datetime.datetime(2024, 12, 1, 0, 0)], dtype=object),\n",
       "              'y': array([ 54.499367,  55.844284,  57.281944, ..., 144.75084 , 144.18544 ,\n",
       "                          143.63828 ], dtype=float32)},\n",
       "             {'marker': {'color': 'black', 'size': 4},\n",
       "              'mode': 'markers',\n",
       "              'name': 'Actual',\n",
       "              'type': 'scatter',\n",
       "              'uid': 'b660a9b6-74b1-470d-a508-9cb61458eac3',\n",
       "              'x': array([datetime.datetime(2008, 2, 1, 0, 0),\n",
       "                          datetime.datetime(2008, 3, 1, 0, 0),\n",
       "                          datetime.datetime(2008, 4, 1, 0, 0), ...,\n",
       "                          datetime.datetime(2024, 10, 1, 0, 0),\n",
       "                          datetime.datetime(2024, 11, 1, 0, 0),\n",
       "                          datetime.datetime(2024, 12, 1, 0, 0)], dtype=object),\n",
       "              'y': array([ 32.22,  32.9 ,  32.72, ..., 131.13, 121.56, 116.84])}],\n",
       "    'layout': {'autosize': True,\n",
       "               'font': {'size': 10},\n",
       "               'height': 420,\n",
       "               'hovermode': 'x unified',\n",
       "               'margin': {'b': 0, 'l': 0, 'pad': 0, 'r': 10, 't': 10},\n",
       "               'showlegend': True,\n",
       "               'template': '...',\n",
       "               'title': {'font': {'size': 12}},\n",
       "               'width': 700,\n",
       "               'xaxis': {'linewidth': 1.5,\n",
       "                         'mirror': True,\n",
       "                         'rangeselector': {'buttons': [{'count': 7, 'label': '1w', 'step': 'day', 'stepmode': 'backward'},\n",
       "                                                       {'count': 1,\n",
       "                                                        'label': '1m',\n",
       "                                                        'step': 'month',\n",
       "                                                        'stepmode': 'backward'},\n",
       "                                                       {'count': 6,\n",
       "                                                        'label': '6m',\n",
       "                                                        'step': 'month',\n",
       "                                                        'stepmode': 'backward'},\n",
       "                                                       {'count': 1, 'label': '1y', 'step': 'year', 'stepmode': 'backward'},\n",
       "                                                       {'step': 'all'}]},\n",
       "                         'rangeslider': {'visible': True},\n",
       "                         'showline': True,\n",
       "                         'title': {'text': 'ds'},\n",
       "                         'type': 'date'},\n",
       "               'yaxis': {'linewidth': 1.5, 'mirror': True, 'showline': True, 'title': {'text': 'y'}}}\n",
       "})"
      ]
     },
     "execution_count": 37,
     "metadata": {},
     "output_type": "execute_result"
    }
   ],
   "source": [
    "m = NeuralProphet(\n",
    "                  # Disable change trendpoints\n",
    "                  # n_changepoints=0,\n",
    "                  # Disable seasonality components\n",
    "                  yearly_seasonality=False,\n",
    "                  weekly_seasonality=False,\n",
    "                  daily_seasonality=False,\n",
    "                )\n",
    "metrics = m.fit(prophet_data)\n",
    "forecast = m.predict(prophet_data)\n",
    "m.plot(forecast)"
   ]
  },
  {
   "cell_type": "code",
   "execution_count": 30,
   "metadata": {},
   "outputs": [
    {
     "name": "stderr",
     "output_type": "stream",
     "text": [
      "WARNING - (py.warnings._showwarnmsg) - c:\\Users\\lenovo\\python\\virtual_environments\\rnwf-env\\Lib\\site-packages\\neuralprophet\\plot_model_parameters_plotly.py:237: FutureWarning:\n",
      "\n",
      "The behavior of DatetimeProperties.to_pydatetime is deprecated, in a future version this will return a Series containing python datetime objects instead of an ndarray. To retain the old behavior, call `np.array` on the result\n",
      "\n",
      "\n",
      "WARNING - (py.warnings._showwarnmsg) - c:\\Users\\lenovo\\python\\virtual_environments\\rnwf-env\\Lib\\site-packages\\neuralprophet\\plot_model_parameters_plotly.py:271: FutureWarning:\n",
      "\n",
      "The behavior of DatetimeProperties.to_pydatetime is deprecated, in a future version this will return a Series containing python datetime objects instead of an ndarray. To retain the old behavior, call `np.array` on the result\n",
      "\n",
      "\n"
     ]
    },
    {
     "data": {
      "application/vnd.jupyter.widget-view+json": {
       "model_id": "98346a38a0434659adfb8ee5727e8693",
       "version_major": 2,
       "version_minor": 0
      },
      "text/plain": [
       "FigureWidgetResampler({\n",
       "    'data': [{'fill': 'none',\n",
       "              'line': {'color': '#2d92ff', 'width': 2},\n",
       "              'mode': 'lines',\n",
       "              'name': 'Trend',\n",
       "              'type': 'scatter',\n",
       "              'uid': '5ad1f100-0072-4f7d-b08f-01b0c5c1ff48',\n",
       "              'x': array([datetime.datetime(2008, 2, 1, 0, 0),\n",
       "                          datetime.datetime(2008, 3, 1, 0, 0),\n",
       "                          datetime.datetime(2008, 4, 1, 0, 0), ...,\n",
       "                          datetime.datetime(2024, 10, 1, 0, 0),\n",
       "                          datetime.datetime(2024, 11, 1, 0, 0),\n",
       "                          datetime.datetime(2024, 12, 1, 0, 0)], dtype=object),\n",
       "              'xaxis': 'x',\n",
       "              'y': array([ 57.67283025,  58.87145737,  60.15274842, ..., 151.24807177,\n",
       "                          151.05071714, 150.8597288 ]),\n",
       "              'yaxis': 'y'}],\n",
       "    'layout': {'autosize': True,\n",
       "               'font': {'size': 10},\n",
       "               'height': 210,\n",
       "               'hovermode': 'x unified',\n",
       "               'margin': {'b': 0, 'l': 0, 'pad': 0, 'r': 10, 't': 10},\n",
       "               'showlegend': False,\n",
       "               'template': '...',\n",
       "               'title': {'font': {'size': 12}},\n",
       "               'width': 700,\n",
       "               'xaxis': {'anchor': 'y',\n",
       "                         'domain': [0.0, 1.0],\n",
       "                         'linewidth': 1.5,\n",
       "                         'mirror': True,\n",
       "                         'range': [2007-04-03 00:00:00, 2025-10-01 00:00:00],\n",
       "                         'showline': True,\n",
       "                         'title': {'text': 'ds'},\n",
       "                         'type': 'date'},\n",
       "               'yaxis': {'anchor': 'x',\n",
       "                         'domain': [0.0, 1.0],\n",
       "                         'linewidth': 1.5,\n",
       "                         'mirror': True,\n",
       "                         'rangemode': 'normal',\n",
       "                         'showline': True,\n",
       "                         'title': {'text': 'Trend'}}}\n",
       "})"
      ]
     },
     "execution_count": 30,
     "metadata": {},
     "output_type": "execute_result"
    }
   ],
   "source": [
    "m.plot_parameters(components=[\"trend\"])"
   ]
  },
  {
   "cell_type": "code",
   "execution_count": 31,
   "metadata": {},
   "outputs": [
    {
     "name": "stderr",
     "output_type": "stream",
     "text": [
      "WARNING - (py.warnings._showwarnmsg) - c:\\Users\\lenovo\\python\\virtual_environments\\rnwf-env\\Lib\\site-packages\\neuralprophet\\df_utils.py:1152: FutureWarning:\n",
      "\n",
      "Series.view is deprecated and will be removed in a future version. Use ``astype`` as an alternative to change the dtype.\n",
      "\n",
      "\n",
      "INFO - (NP.df_utils._infer_frequency) - Major frequency MS corresponds to [99.507]% of the data.\n",
      "WARNING - (py.warnings._showwarnmsg) - c:\\Users\\lenovo\\python\\virtual_environments\\rnwf-env\\Lib\\site-packages\\neuralprophet\\df_utils.py:1152: FutureWarning:\n",
      "\n",
      "Series.view is deprecated and will be removed in a future version. Use ``astype`` as an alternative to change the dtype.\n",
      "\n",
      "\n",
      "WARNING - (py.warnings._showwarnmsg) - c:\\Users\\lenovo\\python\\virtual_environments\\rnwf-env\\Lib\\site-packages\\neuralprophet\\df_utils.py:1152: FutureWarning:\n",
      "\n",
      "Series.view is deprecated and will be removed in a future version. Use ``astype`` as an alternative to change the dtype.\n",
      "\n",
      "\n",
      "INFO - (NP.df_utils._infer_frequency) - Defined frequency is equal to major frequency - MS\n",
      "WARNING - (py.warnings._showwarnmsg) - c:\\Users\\lenovo\\python\\virtual_environments\\rnwf-env\\Lib\\site-packages\\neuralprophet\\data\\split.py:273: FutureWarning:\n",
      "\n",
      "The behavior of DataFrame concatenation with empty or all-NA entries is deprecated. In a future version, this will no longer exclude empty or all-NA columns when determining the result dtypes. To retain the old behavior, exclude the relevant entries before the concat operation.\n",
      "\n",
      "\n",
      "INFO - (NP.df_utils.return_df_in_original_format) - Returning df with no ID column\n",
      "WARNING - (py.warnings._showwarnmsg) - c:\\Users\\lenovo\\python\\virtual_environments\\rnwf-env\\Lib\\site-packages\\neuralprophet\\df_utils.py:1152: FutureWarning:\n",
      "\n",
      "Series.view is deprecated and will be removed in a future version. Use ``astype`` as an alternative to change the dtype.\n",
      "\n",
      "\n",
      "INFO - (NP.df_utils._infer_frequency) - Major frequency MS corresponds to [99.535]% of the data.\n",
      "WARNING - (py.warnings._showwarnmsg) - c:\\Users\\lenovo\\python\\virtual_environments\\rnwf-env\\Lib\\site-packages\\neuralprophet\\df_utils.py:1152: FutureWarning:\n",
      "\n",
      "Series.view is deprecated and will be removed in a future version. Use ``astype`` as an alternative to change the dtype.\n",
      "\n",
      "\n",
      "WARNING - (py.warnings._showwarnmsg) - c:\\Users\\lenovo\\python\\virtual_environments\\rnwf-env\\Lib\\site-packages\\neuralprophet\\df_utils.py:1152: FutureWarning:\n",
      "\n",
      "Series.view is deprecated and will be removed in a future version. Use ``astype`` as an alternative to change the dtype.\n",
      "\n",
      "\n",
      "INFO - (NP.df_utils._infer_frequency) - Defined frequency is equal to major frequency - MS\n",
      "WARNING - (py.warnings._showwarnmsg) - c:\\Users\\lenovo\\python\\virtual_environments\\rnwf-env\\Lib\\site-packages\\neuralprophet\\df_utils.py:1152: FutureWarning:\n",
      "\n",
      "Series.view is deprecated and will be removed in a future version. Use ``astype`` as an alternative to change the dtype.\n",
      "\n",
      "\n",
      "INFO - (NP.df_utils._infer_frequency) - Major frequency MS corresponds to [99.535]% of the data.\n",
      "WARNING - (py.warnings._showwarnmsg) - c:\\Users\\lenovo\\python\\virtual_environments\\rnwf-env\\Lib\\site-packages\\neuralprophet\\df_utils.py:1152: FutureWarning:\n",
      "\n",
      "Series.view is deprecated and will be removed in a future version. Use ``astype`` as an alternative to change the dtype.\n",
      "\n",
      "\n",
      "WARNING - (py.warnings._showwarnmsg) - c:\\Users\\lenovo\\python\\virtual_environments\\rnwf-env\\Lib\\site-packages\\neuralprophet\\df_utils.py:1152: FutureWarning:\n",
      "\n",
      "Series.view is deprecated and will be removed in a future version. Use ``astype`` as an alternative to change the dtype.\n",
      "\n",
      "\n",
      "INFO - (NP.df_utils._infer_frequency) - Defined frequency is equal to major frequency - MS\n",
      "INFO - (NP.data.processing._handle_missing_data) - Dropped 12 rows at the end with NaNs in 'y' column.\n"
     ]
    },
    {
     "data": {
      "application/vnd.jupyter.widget-view+json": {
       "model_id": "0b39e8b699624a1c9d2fd275887e9f88",
       "version_major": 2,
       "version_minor": 0
      },
      "text/plain": [
       "Predicting: |          | 0/? [00:00<?, ?it/s]"
      ]
     },
     "metadata": {},
     "output_type": "display_data"
    },
    {
     "name": "stderr",
     "output_type": "stream",
     "text": [
      "INFO - (NP.df_utils.return_df_in_original_format) - Returning df with no ID column\n",
      "WARNING - (py.warnings._showwarnmsg) - c:\\Users\\lenovo\\python\\virtual_environments\\rnwf-env\\Lib\\site-packages\\neuralprophet\\plot_forecast_plotly.py:100: FutureWarning:\n",
      "\n",
      "The behavior of DatetimeProperties.to_pydatetime is deprecated, in a future version this will return a Series containing python datetime objects instead of an ndarray. To retain the old behavior, call `np.array` on the result\n",
      "\n",
      "\n"
     ]
    },
    {
     "data": {
      "application/vnd.jupyter.widget-view+json": {
       "model_id": "d55ce31fb3014a6fbd3533bcd26485e4",
       "version_major": 2,
       "version_minor": 0
      },
      "text/plain": [
       "FigureWidgetResampler({\n",
       "    'data': [{'fill': 'none',\n",
       "              'line': {'color': 'rgba(45, 146, 255, 1.0)', 'width': 2},\n",
       "              'mode': 'lines',\n",
       "              'name': 'yhat1',\n",
       "              'type': 'scatter',\n",
       "              'uid': 'cf2362a0-5b90-4b4a-894a-0270ab49e34d',\n",
       "              'x': array([datetime.datetime(2008, 2, 1, 0, 0),\n",
       "                          datetime.datetime(2008, 3, 1, 0, 0),\n",
       "                          datetime.datetime(2008, 4, 1, 0, 0), ...,\n",
       "                          datetime.datetime(2025, 10, 1, 0, 0),\n",
       "                          datetime.datetime(2025, 11, 1, 0, 0),\n",
       "                          datetime.datetime(2025, 12, 1, 0, 0)], dtype=object),\n",
       "              'y': array([ 57.672832,  58.87146 ,  60.15275 , ..., 148.9244  , 148.72704 ,\n",
       "                          148.53604 ], dtype=float32)},\n",
       "             {'marker': {'color': 'black', 'size': 4},\n",
       "              'mode': 'markers',\n",
       "              'name': 'Actual',\n",
       "              'type': 'scatter',\n",
       "              'uid': '46438089-5f21-4164-8dcd-c21aa09bc3f0',\n",
       "              'x': array([datetime.datetime(2008, 2, 1, 0, 0),\n",
       "                          datetime.datetime(2008, 3, 1, 0, 0),\n",
       "                          datetime.datetime(2008, 4, 1, 0, 0), ...,\n",
       "                          datetime.datetime(2025, 10, 1, 0, 0),\n",
       "                          datetime.datetime(2025, 11, 1, 0, 0),\n",
       "                          datetime.datetime(2025, 12, 1, 0, 0)], dtype=object),\n",
       "              'y': array([32.22, 32.9 , 32.72, ...,   nan,   nan,   nan])}],\n",
       "    'layout': {'autosize': True,\n",
       "               'font': {'size': 10},\n",
       "               'height': 420,\n",
       "               'hovermode': 'x unified',\n",
       "               'margin': {'b': 0, 'l': 0, 'pad': 0, 'r': 10, 't': 10},\n",
       "               'showlegend': True,\n",
       "               'template': '...',\n",
       "               'title': {'font': {'size': 12}},\n",
       "               'width': 700,\n",
       "               'xaxis': {'linewidth': 1.5,\n",
       "                         'mirror': True,\n",
       "                         'rangeselector': {'buttons': [{'count': 7, 'label': '1w', 'step': 'day', 'stepmode': 'backward'},\n",
       "                                                       {'count': 1,\n",
       "                                                        'label': '1m',\n",
       "                                                        'step': 'month',\n",
       "                                                        'stepmode': 'backward'},\n",
       "                                                       {'count': 6,\n",
       "                                                        'label': '6m',\n",
       "                                                        'step': 'month',\n",
       "                                                        'stepmode': 'backward'},\n",
       "                                                       {'count': 1, 'label': '1y', 'step': 'year', 'stepmode': 'backward'},\n",
       "                                                       {'step': 'all'}]},\n",
       "                         'rangeslider': {'visible': True},\n",
       "                         'showline': True,\n",
       "                         'title': {'text': 'ds'},\n",
       "                         'type': 'date'},\n",
       "               'yaxis': {'linewidth': 1.5, 'mirror': True, 'showline': True, 'title': {'text': 'y'}}}\n",
       "})"
      ]
     },
     "execution_count": 31,
     "metadata": {},
     "output_type": "execute_result"
    }
   ],
   "source": [
    "# Create a new dataframe reaching 365 into the future for our forecast, n_historic_predictions also shows historic data\n",
    "df_future = m.make_future_dataframe(prophet_data, n_historic_predictions=True, periods=12)\n",
    "\n",
    "# Predict the future\n",
    "forecast = m.predict(df_future)\n",
    "\n",
    "# Visualize the forecast\n",
    "m.plot(forecast)"
   ]
  },
  {
   "cell_type": "code",
   "execution_count": 32,
   "metadata": {},
   "outputs": [
    {
     "name": "stderr",
     "output_type": "stream",
     "text": [
      "WARNING - (py.warnings._showwarnmsg) - c:\\Users\\lenovo\\python\\virtual_environments\\rnwf-env\\Lib\\site-packages\\neuralprophet\\plot_forecast_plotly.py:410: FutureWarning:\n",
      "\n",
      "The behavior of DatetimeProperties.to_pydatetime is deprecated, in a future version this will return a Series containing python datetime objects instead of an ndarray. To retain the old behavior, call `np.array` on the result\n",
      "\n",
      "\n"
     ]
    },
    {
     "data": {
      "application/vnd.jupyter.widget-view+json": {
       "model_id": "25f27932d440449eaad077ed88f91ea2",
       "version_major": 2,
       "version_minor": 0
      },
      "text/plain": [
       "FigureWidgetResampler({\n",
       "    'data': [{'line': {'color': '#2d92ff', 'width': 2},\n",
       "              'mode': 'lines',\n",
       "              'name': 'Trend',\n",
       "              'showlegend': False,\n",
       "              'type': 'scatter',\n",
       "              'uid': '1c34abda-5eba-4f32-a7a1-db0712b03371',\n",
       "              'x': array([datetime.datetime(2008, 2, 1, 0, 0),\n",
       "                          datetime.datetime(2008, 3, 1, 0, 0),\n",
       "                          datetime.datetime(2008, 4, 1, 0, 0), ...,\n",
       "                          datetime.datetime(2025, 10, 1, 0, 0),\n",
       "                          datetime.datetime(2025, 11, 1, 0, 0),\n",
       "                          datetime.datetime(2025, 12, 1, 0, 0)], dtype=object),\n",
       "              'xaxis': 'x',\n",
       "              'y': array([ 57.672832,  58.87146 ,  60.15275 , ..., 148.9244  , 148.72704 ,\n",
       "                          148.53604 ], dtype=float32),\n",
       "              'yaxis': 'y'}],\n",
       "    'layout': {'autosize': True,\n",
       "               'font': {'size': 10},\n",
       "               'height': 210,\n",
       "               'hovermode': 'x unified',\n",
       "               'legend': {'traceorder': 'reversed', 'y': 0.1},\n",
       "               'margin': {'b': 0, 'l': 0, 'pad': 0, 'r': 10, 't': 10},\n",
       "               'template': '...',\n",
       "               'title': {'font': {'size': 12}},\n",
       "               'width': 700,\n",
       "               'xaxis': {'anchor': 'y',\n",
       "                         'domain': [0.0, 1.0],\n",
       "                         'linewidth': 1.5,\n",
       "                         'mirror': True,\n",
       "                         'range': [2007-03-03 00:00:00, 2026-11-01 00:00:00],\n",
       "                         'showline': True,\n",
       "                         'title': {'text': 'ds'},\n",
       "                         'type': 'date'},\n",
       "               'yaxis': {'anchor': 'x',\n",
       "                         'domain': [0.0, 1.0],\n",
       "                         'linewidth': 1.5,\n",
       "                         'mirror': True,\n",
       "                         'rangemode': 'normal',\n",
       "                         'showline': True,\n",
       "                         'title': {'text': 'Trend'}}}\n",
       "})"
      ]
     },
     "execution_count": 32,
     "metadata": {},
     "output_type": "execute_result"
    }
   ],
   "source": [
    "m.plot_components(forecast)"
   ]
  },
  {
   "cell_type": "code",
   "execution_count": 26,
   "metadata": {},
   "outputs": [
    {
     "data": {
      "text/html": [
       "<div>\n",
       "<style scoped>\n",
       "    .dataframe tbody tr th:only-of-type {\n",
       "        vertical-align: middle;\n",
       "    }\n",
       "\n",
       "    .dataframe tbody tr th {\n",
       "        vertical-align: top;\n",
       "    }\n",
       "\n",
       "    .dataframe thead th {\n",
       "        text-align: right;\n",
       "    }\n",
       "</style>\n",
       "<table border=\"1\" class=\"dataframe\">\n",
       "  <thead>\n",
       "    <tr style=\"text-align: right;\">\n",
       "      <th></th>\n",
       "      <th>ds</th>\n",
       "      <th>y</th>\n",
       "      <th>yhat1</th>\n",
       "      <th>trend</th>\n",
       "    </tr>\n",
       "  </thead>\n",
       "  <tbody>\n",
       "    <tr>\n",
       "      <th>203</th>\n",
       "      <td>2025-01-01</td>\n",
       "      <td>NaN</td>\n",
       "      <td>141.125626</td>\n",
       "      <td>141.125626</td>\n",
       "    </tr>\n",
       "    <tr>\n",
       "      <th>204</th>\n",
       "      <td>2025-02-01</td>\n",
       "      <td>NaN</td>\n",
       "      <td>140.467239</td>\n",
       "      <td>140.467239</td>\n",
       "    </tr>\n",
       "    <tr>\n",
       "      <th>205</th>\n",
       "      <td>2025-03-01</td>\n",
       "      <td>NaN</td>\n",
       "      <td>139.872589</td>\n",
       "      <td>139.872589</td>\n",
       "    </tr>\n",
       "    <tr>\n",
       "      <th>206</th>\n",
       "      <td>2025-04-01</td>\n",
       "      <td>NaN</td>\n",
       "      <td>139.214203</td>\n",
       "      <td>139.214203</td>\n",
       "    </tr>\n",
       "    <tr>\n",
       "      <th>207</th>\n",
       "      <td>2025-05-01</td>\n",
       "      <td>NaN</td>\n",
       "      <td>138.577072</td>\n",
       "      <td>138.577072</td>\n",
       "    </tr>\n",
       "    <tr>\n",
       "      <th>208</th>\n",
       "      <td>2025-06-01</td>\n",
       "      <td>NaN</td>\n",
       "      <td>137.918686</td>\n",
       "      <td>137.918686</td>\n",
       "    </tr>\n",
       "    <tr>\n",
       "      <th>209</th>\n",
       "      <td>2025-07-01</td>\n",
       "      <td>NaN</td>\n",
       "      <td>137.281555</td>\n",
       "      <td>137.281555</td>\n",
       "    </tr>\n",
       "    <tr>\n",
       "      <th>210</th>\n",
       "      <td>2025-08-01</td>\n",
       "      <td>NaN</td>\n",
       "      <td>136.623169</td>\n",
       "      <td>136.623169</td>\n",
       "    </tr>\n",
       "    <tr>\n",
       "      <th>211</th>\n",
       "      <td>2025-09-01</td>\n",
       "      <td>NaN</td>\n",
       "      <td>135.964798</td>\n",
       "      <td>135.964798</td>\n",
       "    </tr>\n",
       "    <tr>\n",
       "      <th>212</th>\n",
       "      <td>2025-10-01</td>\n",
       "      <td>NaN</td>\n",
       "      <td>135.327652</td>\n",
       "      <td>135.327652</td>\n",
       "    </tr>\n",
       "    <tr>\n",
       "      <th>213</th>\n",
       "      <td>2025-11-01</td>\n",
       "      <td>NaN</td>\n",
       "      <td>134.669281</td>\n",
       "      <td>134.669281</td>\n",
       "    </tr>\n",
       "    <tr>\n",
       "      <th>214</th>\n",
       "      <td>2025-12-01</td>\n",
       "      <td>NaN</td>\n",
       "      <td>134.032135</td>\n",
       "      <td>134.032135</td>\n",
       "    </tr>\n",
       "  </tbody>\n",
       "</table>\n",
       "</div>"
      ],
      "text/plain": [
       "            ds   y       yhat1       trend\n",
       "203 2025-01-01 NaN  141.125626  141.125626\n",
       "204 2025-02-01 NaN  140.467239  140.467239\n",
       "205 2025-03-01 NaN  139.872589  139.872589\n",
       "206 2025-04-01 NaN  139.214203  139.214203\n",
       "207 2025-05-01 NaN  138.577072  138.577072\n",
       "208 2025-06-01 NaN  137.918686  137.918686\n",
       "209 2025-07-01 NaN  137.281555  137.281555\n",
       "210 2025-08-01 NaN  136.623169  136.623169\n",
       "211 2025-09-01 NaN  135.964798  135.964798\n",
       "212 2025-10-01 NaN  135.327652  135.327652\n",
       "213 2025-11-01 NaN  134.669281  134.669281\n",
       "214 2025-12-01 NaN  134.032135  134.032135"
      ]
     },
     "execution_count": 26,
     "metadata": {},
     "output_type": "execute_result"
    }
   ],
   "source": [
    "forecast.tail(12)"
   ]
  },
  {
   "cell_type": "markdown",
   "metadata": {},
   "source": [
    "## Residuals (USD)"
   ]
  },
  {
   "cell_type": "code",
   "execution_count": 34,
   "metadata": {},
   "outputs": [],
   "source": [
    "df=forecast[:203]"
   ]
  },
  {
   "cell_type": "code",
   "execution_count": 35,
   "metadata": {},
   "outputs": [
    {
     "data": {
      "image/png": "[encoded data removed]",
      "text/plain": [
       "<Figure size 1000x600 with 1 Axes>"
      ]
     },
     "metadata": {},
     "output_type": "display_data"
    }
   ],
   "source": [
    "df_residuals = pd.DataFrame({\"ds\": prophet_data[\"ds\"], \"residuals\": prophet_data[\"y\"] - df[\"yhat1\"]})\n",
    "fig = df_residuals.plot(x=\"ds\", y=\"residuals\", figsize=(10, 6))"
   ]
  }
 ],
 "metadata": {
  "kernelspec": {
   "display_name": "rnwf-env",
   "language": "python",
   "name": "python3"
  },
  "language_info": {
   "codemirror_mode": {
    "name": "ipython",
    "version": 3
   },
   "file_extension": ".py",
   "mimetype": "text/x-python",
   "name": "python",
   "nbconvert_exporter": "python",
   "pygments_lexer": "ipython3",
   "version": "3.11.2"
  }
 },
 "nbformat": 4,
 "nbformat_minor": 2
}
