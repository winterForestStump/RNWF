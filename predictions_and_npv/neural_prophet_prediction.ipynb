{
 "cells": [
  {
   "cell_type": "markdown",
   "metadata": {},
   "source": [
    "# Neural Prophet\n",
    "Fusing traditional time series algorithms using standard deep learning methods, built on PyTorch, inspired by Facebook Prophet and AR-Net."
   ]
  },
  {
   "cell_type": "code",
   "execution_count": 1,
   "metadata": {},
   "outputs": [],
   "source": [
    "from neuralprophet import NeuralProphet\n",
    "import pandas as pd\n",
    "import matplotlib.pyplot as plt"
   ]
  },
  {
   "cell_type": "markdown",
   "metadata": {},
   "source": [
    "### Fund volume in RUB"
   ]
  },
  {
   "cell_type": "code",
   "execution_count": 2,
   "metadata": {},
   "outputs": [],
   "source": [
    "df = pd.read_excel('../data_excel/20250301.xlsx', header=2)\n",
    "\n",
    "df = df[:25] # delete footnotes\n",
    "df.drop(columns=['№ п/п', 'Январь 2008*'], inplace=True)\n",
    "df.drop(index=0, inplace=True)\n",
    "\n",
    "# Melt the dataframe to long format\n",
    "df_long = pd.melt(\n",
    "    df,\n",
    "    id_vars=[\"Показатель\"],\n",
    "    var_name=\"ds\",\n",
    "    value_name=\"y\"\n",
    ")\n",
    "\n",
    "# Convert \"ds\" to datetime\n",
    "df_long[\"ds\"] = pd.to_datetime(df_long[\"ds\"])\n",
    "\n",
    "# Filter for a specific indicator (e.g., \"Поступления\")\n",
    "prophet_data = df_long[df_long[\"Показатель\"] == \"Объем на конец периода\"][[\"ds\", \"y\"]]\n",
    "\n",
    "# Drop rows with missing values (if needed)\n",
    "prophet_data = prophet_data.dropna()\n",
    "\n",
    "# Clean the 'y' column and convert it to numeric type\n",
    "prophet_data = prophet_data.map(lambda x: str(x).replace(' ', '').replace(',', '.').replace('***', '') if isinstance(x, str) else x)\n",
    "prophet_data['y'] = prophet_data['y'].apply(pd.to_numeric, errors='coerce')"
   ]
  },
  {
   "cell_type": "markdown",
   "metadata": {},
   "source": [
    "NeuralProphet used the default parameter of 10 changepoints and fit them to our data."
   ]
  },
  {
   "cell_type": "code",
   "execution_count": 3,
   "metadata": {},
   "outputs": [
    {
     "name": "stderr",
     "output_type": "stream",
     "text": [
      "WARNING - (NP.forecaster.fit) - When Global modeling with local normalization, metrics are displayed in normalized scale.\n",
      "WARNING - (py.warnings._showwarnmsg) - c:\\Users\\lenovo\\python\\virtual_environments\\rnwf-env\\Lib\\site-packages\\neuralprophet\\df_utils.py:1152: FutureWarning: Series.view is deprecated and will be removed in a future version. Use ``astype`` as an alternative to change the dtype.\n",
      "  converted_ds = pd.to_datetime(ds_col, utc=True).view(dtype=np.int64)\n",
      "\n",
      "INFO - (NP.df_utils._infer_frequency) - Major frequency MS corresponds to [99.512]% of the data.\n",
      "INFO - (NP.df_utils._infer_frequency) - Dataframe freq automatically defined as MS\n",
      "INFO - (NP.data.processing._handle_missing_data) - Dropped 1 rows with NaNs in 'y' column.\n",
      "INFO - (NP.config.init_data_params) - Setting normalization to global as only one dataframe provided for training.\n",
      "INFO - (NP.config.set_auto_batch_epoch) - Auto-set batch_size to 16\n",
      "INFO - (NP.config.set_auto_batch_epoch) - Auto-set epochs to 190\n"
     ]
    },
    {
     "data": {
      "application/vnd.jupyter.widget-view+json": {
       "model_id": "62c00d69ddb4414d95c177f32aeda3b2",
       "version_major": 2,
       "version_minor": 0
      },
      "text/plain": [
       "Training: |          | 0/? [00:00<?, ?it/s]"
      ]
     },
     "metadata": {},
     "output_type": "display_data"
    },
    {
     "name": "stderr",
     "output_type": "stream",
     "text": [
      "WARNING - (NP.config.set_lr_finder_args) - Learning rate finder: The number of batches (13) is too small than the required number                     for the learning rate finder (212). The results might not be optimal.\n"
     ]
    },
    {
     "data": {
      "application/vnd.jupyter.widget-view+json": {
       "model_id": "95c1c8f3df0b418d9516f3ee12b312fa",
       "version_major": 2,
       "version_minor": 0
      },
      "text/plain": [
       "Finding best initial lr:   0%|          | 0/212 [00:00<?, ?it/s]"
      ]
     },
     "metadata": {},
     "output_type": "display_data"
    },
    {
     "name": "stderr",
     "output_type": "stream",
     "text": [
      "WARNING - (py.warnings._showwarnmsg) - c:\\Users\\lenovo\\python\\virtual_environments\\rnwf-env\\Lib\\site-packages\\pytorch_lightning\\utilities\\data.py:79: Trying to infer the `batch_size` from an ambiguous collection. The batch size we found is 16. To avoid any miscalculations, use `self.log(..., batch_size=batch_size)`.\n",
      "\n",
      "WARNING - (py.warnings._showwarnmsg) - c:\\Users\\lenovo\\python\\virtual_environments\\rnwf-env\\Lib\\site-packages\\pytorch_lightning\\utilities\\data.py:79: Trying to infer the `batch_size` from an ambiguous collection. The batch size we found is 12. To avoid any miscalculations, use `self.log(..., batch_size=batch_size)`.\n",
      "\n"
     ]
    },
    {
     "data": {
      "application/vnd.jupyter.widget-view+json": {
       "model_id": "40f88bb89d694d80835385a863827a8f",
       "version_major": 2,
       "version_minor": 0
      },
      "text/plain": [
       "Training: |          | 0/? [00:00<?, ?it/s]"
      ]
     },
     "metadata": {},
     "output_type": "display_data"
    },
    {
     "name": "stderr",
     "output_type": "stream",
     "text": [
      "WARNING - (py.warnings._showwarnmsg) - c:\\Users\\lenovo\\python\\virtual_environments\\rnwf-env\\Lib\\site-packages\\neuralprophet\\df_utils.py:1152: FutureWarning: Series.view is deprecated and will be removed in a future version. Use ``astype`` as an alternative to change the dtype.\n",
      "  converted_ds = pd.to_datetime(ds_col, utc=True).view(dtype=np.int64)\n",
      "\n",
      "INFO - (NP.df_utils._infer_frequency) - Major frequency MS corresponds to [99.512]% of the data.\n",
      "WARNING - (py.warnings._showwarnmsg) - c:\\Users\\lenovo\\python\\virtual_environments\\rnwf-env\\Lib\\site-packages\\neuralprophet\\df_utils.py:1152: FutureWarning: Series.view is deprecated and will be removed in a future version. Use ``astype`` as an alternative to change the dtype.\n",
      "  converted_ds = pd.to_datetime(ds_col, utc=True).view(dtype=np.int64)\n",
      "\n",
      "WARNING - (py.warnings._showwarnmsg) - c:\\Users\\lenovo\\python\\virtual_environments\\rnwf-env\\Lib\\site-packages\\neuralprophet\\df_utils.py:1152: FutureWarning: Series.view is deprecated and will be removed in a future version. Use ``astype`` as an alternative to change the dtype.\n",
      "  converted_ds = pd.to_datetime(ds_col, utc=True).view(dtype=np.int64)\n",
      "\n",
      "INFO - (NP.df_utils._infer_frequency) - Defined frequency is equal to major frequency - MS\n",
      "WARNING - (py.warnings._showwarnmsg) - c:\\Users\\lenovo\\python\\virtual_environments\\rnwf-env\\Lib\\site-packages\\neuralprophet\\df_utils.py:1152: FutureWarning: Series.view is deprecated and will be removed in a future version. Use ``astype`` as an alternative to change the dtype.\n",
      "  converted_ds = pd.to_datetime(ds_col, utc=True).view(dtype=np.int64)\n",
      "\n",
      "INFO - (NP.df_utils._infer_frequency) - Major frequency MS corresponds to [99.512]% of the data.\n",
      "WARNING - (py.warnings._showwarnmsg) - c:\\Users\\lenovo\\python\\virtual_environments\\rnwf-env\\Lib\\site-packages\\neuralprophet\\df_utils.py:1152: FutureWarning: Series.view is deprecated and will be removed in a future version. Use ``astype`` as an alternative to change the dtype.\n",
      "  converted_ds = pd.to_datetime(ds_col, utc=True).view(dtype=np.int64)\n",
      "\n",
      "WARNING - (py.warnings._showwarnmsg) - c:\\Users\\lenovo\\python\\virtual_environments\\rnwf-env\\Lib\\site-packages\\neuralprophet\\df_utils.py:1152: FutureWarning: Series.view is deprecated and will be removed in a future version. Use ``astype`` as an alternative to change the dtype.\n",
      "  converted_ds = pd.to_datetime(ds_col, utc=True).view(dtype=np.int64)\n",
      "\n",
      "INFO - (NP.df_utils._infer_frequency) - Defined frequency is equal to major frequency - MS\n"
     ]
    },
    {
     "data": {
      "application/vnd.jupyter.widget-view+json": {
       "model_id": "6980b2de990146f5ac78a72cf987f80d",
       "version_major": 2,
       "version_minor": 0
      },
      "text/plain": [
       "Predicting: |          | 0/? [00:00<?, ?it/s]"
      ]
     },
     "metadata": {},
     "output_type": "display_data"
    },
    {
     "name": "stderr",
     "output_type": "stream",
     "text": [
      "INFO - (NP.df_utils.return_df_in_original_format) - Returning df with no ID column\n",
      "WARNING - (py.warnings._showwarnmsg) - c:\\Users\\lenovo\\python\\virtual_environments\\rnwf-env\\Lib\\site-packages\\neuralprophet\\plot_forecast_plotly.py:100: FutureWarning: The behavior of DatetimeProperties.to_pydatetime is deprecated, in a future version this will return a Series containing python datetime objects instead of an ndarray. To retain the old behavior, call `np.array` on the result\n",
      "  ds = fcst[\"ds\"].dt.to_pydatetime()\n",
      "\n"
     ]
    },
    {
     "data": {
      "application/vnd.jupyter.widget-view+json": {
       "model_id": "3fbb957aefd0478db9674369c1c94baf",
       "version_major": 2,
       "version_minor": 0
      },
      "text/plain": [
       "FigureWidgetResampler({\n",
       "    'data': [{'fill': 'none',\n",
       "              'line': {'color': 'rgba(45, 146, 255, 1.0)', 'width': 2},\n",
       "              'mode': 'lines',\n",
       "              'name': 'yhat1',\n",
       "              'type': 'scatter',\n",
       "              'uid': 'e3d440e4-6e21-4978-bd38-90b210356832',\n",
       "              'x': array([datetime.datetime(2008, 2, 1, 0, 0),\n",
       "                          datetime.datetime(2008, 3, 1, 0, 0),\n",
       "                          datetime.datetime(2008, 4, 1, 0, 0), ...,\n",
       "                          datetime.datetime(2024, 12, 1, 0, 0),\n",
       "                          datetime.datetime(2025, 1, 1, 0, 0),\n",
       "                          datetime.datetime(2025, 2, 1, 0, 0)], dtype=object),\n",
       "              'y': array([ 1797.9492,  1817.4244,  1838.2428, ..., 12793.67  , 12811.252 ,\n",
       "                          12828.834 ], dtype=float32)},\n",
       "             {'marker': {'color': 'black', 'size': 4},\n",
       "              'mode': 'markers',\n",
       "              'name': 'Actual',\n",
       "              'type': 'scatter',\n",
       "              'uid': 'f31ca69d-353b-4431-a0b0-667a625b135a',\n",
       "              'x': array([datetime.datetime(2008, 2, 1, 0, 0),\n",
       "                          datetime.datetime(2008, 3, 1, 0, 0),\n",
       "                          datetime.datetime(2008, 4, 1, 0, 0), ...,\n",
       "                          datetime.datetime(2024, 12, 1, 0, 0),\n",
       "                          datetime.datetime(2025, 1, 1, 0, 0),\n",
       "                          datetime.datetime(2025, 2, 1, 0, 0)], dtype=object),\n",
       "              'y': array([  777.03,   773.57,   773.82, ..., 11879.97, 11965.8 , 11880.61])}],\n",
       "    'layout': {'autosize': True,\n",
       "               'font': {'size': 10},\n",
       "               'height': 420,\n",
       "               'hovermode': 'x unified',\n",
       "               'margin': {'b': 0, 'l': 0, 'pad': 0, 'r': 10, 't': 10},\n",
       "               'showlegend': True,\n",
       "               'template': '...',\n",
       "               'title': {'font': {'size': 12}},\n",
       "               'width': 700,\n",
       "               'xaxis': {'linewidth': 1.5,\n",
       "                         'mirror': True,\n",
       "                         'rangeselector': {'buttons': [{'count': 7, 'label': '1w', 'step': 'day', 'stepmode': 'backward'},\n",
       "                                                       {'count': 1,\n",
       "                                                        'label': '1m',\n",
       "                                                        'step': 'month',\n",
       "                                                        'stepmode': 'backward'},\n",
       "                                                       {'count': 6,\n",
       "                                                        'label': '6m',\n",
       "                                                        'step': 'month',\n",
       "                                                        'stepmode': 'backward'},\n",
       "                                                       {'count': 1, 'label': '1y', 'step': 'year', 'stepmode': 'backward'},\n",
       "                                                       {'step': 'all'}]},\n",
       "                         'rangeslider': {'visible': True},\n",
       "                         'showline': True,\n",
       "                         'title': {'text': 'ds'},\n",
       "                         'type': 'date'},\n",
       "               'yaxis': {'linewidth': 1.5, 'mirror': True, 'showline': True, 'title': {'text': 'y'}}}\n",
       "})"
      ]
     },
     "execution_count": 3,
     "metadata": {},
     "output_type": "execute_result"
    }
   ],
   "source": [
    "m = NeuralProphet(\n",
    "                  # Disable change trendpoints\n",
    "                  # n_changepoints=0,\n",
    "                  # Disable seasonality components\n",
    "                  yearly_seasonality=False,\n",
    "                  weekly_seasonality=False,\n",
    "                  daily_seasonality=False,\n",
    "                )\n",
    "metrics = m.fit(prophet_data)\n",
    "forecast = m.predict(prophet_data)\n",
    "m.plot(forecast)"
   ]
  },
  {
   "cell_type": "code",
   "execution_count": 4,
   "metadata": {},
   "outputs": [
    {
     "name": "stderr",
     "output_type": "stream",
     "text": [
      "WARNING - (py.warnings._showwarnmsg) - c:\\Users\\lenovo\\python\\virtual_environments\\rnwf-env\\Lib\\site-packages\\neuralprophet\\plot_model_parameters_plotly.py:237: FutureWarning:\n",
      "\n",
      "The behavior of DatetimeProperties.to_pydatetime is deprecated, in a future version this will return a Series containing python datetime objects instead of an ndarray. To retain the old behavior, call `np.array` on the result\n",
      "\n",
      "\n",
      "WARNING - (py.warnings._showwarnmsg) - c:\\Users\\lenovo\\python\\virtual_environments\\rnwf-env\\Lib\\site-packages\\neuralprophet\\plot_model_parameters_plotly.py:271: FutureWarning:\n",
      "\n",
      "The behavior of DatetimeProperties.to_pydatetime is deprecated, in a future version this will return a Series containing python datetime objects instead of an ndarray. To retain the old behavior, call `np.array` on the result\n",
      "\n",
      "\n"
     ]
    },
    {
     "data": {
      "application/vnd.jupyter.widget-view+json": {
       "model_id": "45225fe0522346528d8449fb2f96e21d",
       "version_major": 2,
       "version_minor": 0
      },
      "text/plain": [
       "FigureWidgetResampler({\n",
       "    'data': [{'fill': 'none',\n",
       "              'line': {'color': '#2d92ff', 'width': 2},\n",
       "              'mode': 'lines',\n",
       "              'name': 'Trend',\n",
       "              'type': 'scatter',\n",
       "              'uid': 'c7dcbc31-2c9e-45f3-9f80-7e77eb833df7',\n",
       "              'x': array([datetime.datetime(2008, 2, 1, 0, 0),\n",
       "                          datetime.datetime(2008, 3, 1, 0, 0),\n",
       "                          datetime.datetime(2008, 4, 1, 0, 0), ...,\n",
       "                          datetime.datetime(2024, 12, 1, 0, 0),\n",
       "                          datetime.datetime(2025, 1, 1, 0, 0),\n",
       "                          datetime.datetime(2025, 2, 1, 0, 0)], dtype=object),\n",
       "              'xaxis': 'x',\n",
       "              'y': array([ 1797.9492692 ,  1817.42447182,  1838.24279186, ..., 12793.67045552,\n",
       "                          12811.25247995, 12828.83450437]),\n",
       "              'yaxis': 'y'}],\n",
       "    'layout': {'autosize': True,\n",
       "               'font': {'size': 10},\n",
       "               'height': 210,\n",
       "               'hovermode': 'x unified',\n",
       "               'margin': {'b': 0, 'l': 0, 'pad': 0, 'r': 10, 't': 10},\n",
       "               'showlegend': False,\n",
       "               'template': '...',\n",
       "               'title': {'font': {'size': 12}},\n",
       "               'width': 700,\n",
       "               'xaxis': {'anchor': 'y',\n",
       "                         'domain': [0.0, 1.0],\n",
       "                         'linewidth': 1.5,\n",
       "                         'mirror': True,\n",
       "                         'range': [2007-04-03 00:00:00, 2025-12-02 00:00:00],\n",
       "                         'showline': True,\n",
       "                         'title': {'text': 'ds'},\n",
       "                         'type': 'date'},\n",
       "               'yaxis': {'anchor': 'x',\n",
       "                         'domain': [0.0, 1.0],\n",
       "                         'linewidth': 1.5,\n",
       "                         'mirror': True,\n",
       "                         'rangemode': 'normal',\n",
       "                         'showline': True,\n",
       "                         'title': {'text': 'Trend'}}}\n",
       "})"
      ]
     },
     "execution_count": 4,
     "metadata": {},
     "output_type": "execute_result"
    }
   ],
   "source": [
    "m.plot_parameters(components=[\"trend\"])"
   ]
  },
  {
   "cell_type": "code",
   "execution_count": 5,
   "metadata": {},
   "outputs": [
    {
     "name": "stderr",
     "output_type": "stream",
     "text": [
      "WARNING - (py.warnings._showwarnmsg) - c:\\Users\\lenovo\\python\\virtual_environments\\rnwf-env\\Lib\\site-packages\\neuralprophet\\df_utils.py:1152: FutureWarning:\n",
      "\n",
      "Series.view is deprecated and will be removed in a future version. Use ``astype`` as an alternative to change the dtype.\n",
      "\n",
      "\n",
      "INFO - (NP.df_utils._infer_frequency) - Major frequency MS corresponds to [99.512]% of the data.\n",
      "WARNING - (py.warnings._showwarnmsg) - c:\\Users\\lenovo\\python\\virtual_environments\\rnwf-env\\Lib\\site-packages\\neuralprophet\\df_utils.py:1152: FutureWarning:\n",
      "\n",
      "Series.view is deprecated and will be removed in a future version. Use ``astype`` as an alternative to change the dtype.\n",
      "\n",
      "\n",
      "WARNING - (py.warnings._showwarnmsg) - c:\\Users\\lenovo\\python\\virtual_environments\\rnwf-env\\Lib\\site-packages\\neuralprophet\\df_utils.py:1152: FutureWarning:\n",
      "\n",
      "Series.view is deprecated and will be removed in a future version. Use ``astype`` as an alternative to change the dtype.\n",
      "\n",
      "\n",
      "INFO - (NP.df_utils._infer_frequency) - Defined frequency is equal to major frequency - MS\n",
      "WARNING - (py.warnings._showwarnmsg) - c:\\Users\\lenovo\\python\\virtual_environments\\rnwf-env\\Lib\\site-packages\\neuralprophet\\data\\split.py:273: FutureWarning:\n",
      "\n",
      "The behavior of DataFrame concatenation with empty or all-NA entries is deprecated. In a future version, this will no longer exclude empty or all-NA columns when determining the result dtypes. To retain the old behavior, exclude the relevant entries before the concat operation.\n",
      "\n",
      "\n",
      "INFO - (NP.df_utils.return_df_in_original_format) - Returning df with no ID column\n",
      "WARNING - (py.warnings._showwarnmsg) - c:\\Users\\lenovo\\python\\virtual_environments\\rnwf-env\\Lib\\site-packages\\neuralprophet\\df_utils.py:1152: FutureWarning:\n",
      "\n",
      "Series.view is deprecated and will be removed in a future version. Use ``astype`` as an alternative to change the dtype.\n",
      "\n",
      "\n",
      "INFO - (NP.df_utils._infer_frequency) - Major frequency MS corresponds to [99.539]% of the data.\n",
      "WARNING - (py.warnings._showwarnmsg) - c:\\Users\\lenovo\\python\\virtual_environments\\rnwf-env\\Lib\\site-packages\\neuralprophet\\df_utils.py:1152: FutureWarning:\n",
      "\n",
      "Series.view is deprecated and will be removed in a future version. Use ``astype`` as an alternative to change the dtype.\n",
      "\n",
      "\n",
      "WARNING - (py.warnings._showwarnmsg) - c:\\Users\\lenovo\\python\\virtual_environments\\rnwf-env\\Lib\\site-packages\\neuralprophet\\df_utils.py:1152: FutureWarning:\n",
      "\n",
      "Series.view is deprecated and will be removed in a future version. Use ``astype`` as an alternative to change the dtype.\n",
      "\n",
      "\n",
      "INFO - (NP.df_utils._infer_frequency) - Defined frequency is equal to major frequency - MS\n",
      "WARNING - (py.warnings._showwarnmsg) - c:\\Users\\lenovo\\python\\virtual_environments\\rnwf-env\\Lib\\site-packages\\neuralprophet\\df_utils.py:1152: FutureWarning:\n",
      "\n",
      "Series.view is deprecated and will be removed in a future version. Use ``astype`` as an alternative to change the dtype.\n",
      "\n",
      "\n",
      "INFO - (NP.df_utils._infer_frequency) - Major frequency MS corresponds to [99.539]% of the data.\n",
      "WARNING - (py.warnings._showwarnmsg) - c:\\Users\\lenovo\\python\\virtual_environments\\rnwf-env\\Lib\\site-packages\\neuralprophet\\df_utils.py:1152: FutureWarning:\n",
      "\n",
      "Series.view is deprecated and will be removed in a future version. Use ``astype`` as an alternative to change the dtype.\n",
      "\n",
      "\n",
      "WARNING - (py.warnings._showwarnmsg) - c:\\Users\\lenovo\\python\\virtual_environments\\rnwf-env\\Lib\\site-packages\\neuralprophet\\df_utils.py:1152: FutureWarning:\n",
      "\n",
      "Series.view is deprecated and will be removed in a future version. Use ``astype`` as an alternative to change the dtype.\n",
      "\n",
      "\n",
      "INFO - (NP.df_utils._infer_frequency) - Defined frequency is equal to major frequency - MS\n",
      "INFO - (NP.data.processing._handle_missing_data) - Dropped 12 rows at the end with NaNs in 'y' column.\n"
     ]
    },
    {
     "data": {
      "application/vnd.jupyter.widget-view+json": {
       "model_id": "3c477085f6824e7c92d0ecea2b33c5a5",
       "version_major": 2,
       "version_minor": 0
      },
      "text/plain": [
       "Predicting: |          | 0/? [00:00<?, ?it/s]"
      ]
     },
     "metadata": {},
     "output_type": "display_data"
    },
    {
     "name": "stderr",
     "output_type": "stream",
     "text": [
      "INFO - (NP.df_utils.return_df_in_original_format) - Returning df with no ID column\n",
      "WARNING - (py.warnings._showwarnmsg) - c:\\Users\\lenovo\\python\\virtual_environments\\rnwf-env\\Lib\\site-packages\\neuralprophet\\plot_forecast_plotly.py:100: FutureWarning:\n",
      "\n",
      "The behavior of DatetimeProperties.to_pydatetime is deprecated, in a future version this will return a Series containing python datetime objects instead of an ndarray. To retain the old behavior, call `np.array` on the result\n",
      "\n",
      "\n"
     ]
    },
    {
     "data": {
      "application/vnd.jupyter.widget-view+json": {
       "model_id": "72463fcb06d34cbe9651fb2103a079fd",
       "version_major": 2,
       "version_minor": 0
      },
      "text/plain": [
       "FigureWidgetResampler({\n",
       "    'data': [{'fill': 'none',\n",
       "              'line': {'color': 'rgba(45, 146, 255, 1.0)', 'width': 2},\n",
       "              'mode': 'lines',\n",
       "              'name': 'yhat1',\n",
       "              'type': 'scatter',\n",
       "              'uid': '17cfe5c4-4f85-4380-9603-9af2d63c9292',\n",
       "              'x': array([datetime.datetime(2008, 2, 1, 0, 0),\n",
       "                          datetime.datetime(2008, 3, 1, 0, 0),\n",
       "                          datetime.datetime(2008, 4, 1, 0, 0), ...,\n",
       "                          datetime.datetime(2025, 12, 1, 0, 0),\n",
       "                          datetime.datetime(2026, 1, 1, 0, 0),\n",
       "                          datetime.datetime(2026, 2, 1, 0, 0)], dtype=object),\n",
       "              'y': array([ 1797.9492,  1817.4244,  1838.2428, ..., 13000.684 , 13018.266 ,\n",
       "                          13035.848 ], dtype=float32)},\n",
       "             {'marker': {'color': 'black', 'size': 4},\n",
       "              'mode': 'markers',\n",
       "              'name': 'Actual',\n",
       "              'type': 'scatter',\n",
       "              'uid': 'facfd9f3-e074-4761-bb4a-31446155604c',\n",
       "              'x': array([datetime.datetime(2008, 2, 1, 0, 0),\n",
       "                          datetime.datetime(2008, 3, 1, 0, 0),\n",
       "                          datetime.datetime(2008, 4, 1, 0, 0), ...,\n",
       "                          datetime.datetime(2025, 12, 1, 0, 0),\n",
       "                          datetime.datetime(2026, 1, 1, 0, 0),\n",
       "                          datetime.datetime(2026, 2, 1, 0, 0)], dtype=object),\n",
       "              'y': array([777.03, 773.57, 773.82, ...,    nan,    nan,    nan])}],\n",
       "    'layout': {'autosize': True,\n",
       "               'font': {'size': 10},\n",
       "               'height': 420,\n",
       "               'hovermode': 'x unified',\n",
       "               'margin': {'b': 0, 'l': 0, 'pad': 0, 'r': 10, 't': 10},\n",
       "               'showlegend': True,\n",
       "               'template': '...',\n",
       "               'title': {'font': {'size': 12}},\n",
       "               'width': 700,\n",
       "               'xaxis': {'linewidth': 1.5,\n",
       "                         'mirror': True,\n",
       "                         'rangeselector': {'buttons': [{'count': 7, 'label': '1w', 'step': 'day', 'stepmode': 'backward'},\n",
       "                                                       {'count': 1,\n",
       "                                                        'label': '1m',\n",
       "                                                        'step': 'month',\n",
       "                                                        'stepmode': 'backward'},\n",
       "                                                       {'count': 6,\n",
       "                                                        'label': '6m',\n",
       "                                                        'step': 'month',\n",
       "                                                        'stepmode': 'backward'},\n",
       "                                                       {'count': 1, 'label': '1y', 'step': 'year', 'stepmode': 'backward'},\n",
       "                                                       {'step': 'all'}]},\n",
       "                         'rangeslider': {'visible': True},\n",
       "                         'showline': True,\n",
       "                         'title': {'text': 'ds'},\n",
       "                         'type': 'date'},\n",
       "               'yaxis': {'linewidth': 1.5, 'mirror': True, 'showline': True, 'title': {'text': 'y'}}}\n",
       "})"
      ]
     },
     "execution_count": 5,
     "metadata": {},
     "output_type": "execute_result"
    }
   ],
   "source": [
    "# Create a new dataframe reaching 365 into the future for our forecast, n_historic_predictions also shows historic data\n",
    "df_future = m.make_future_dataframe(prophet_data, n_historic_predictions=True, periods=12)\n",
    "\n",
    "# Predict the future\n",
    "forecast = m.predict(df_future)\n",
    "\n",
    "# Visualize the forecast\n",
    "m.plot(forecast)"
   ]
  },
  {
   "cell_type": "code",
   "execution_count": 6,
   "metadata": {},
   "outputs": [
    {
     "name": "stderr",
     "output_type": "stream",
     "text": [
      "WARNING - (py.warnings._showwarnmsg) - c:\\Users\\lenovo\\python\\virtual_environments\\rnwf-env\\Lib\\site-packages\\neuralprophet\\plot_forecast_plotly.py:410: FutureWarning:\n",
      "\n",
      "The behavior of DatetimeProperties.to_pydatetime is deprecated, in a future version this will return a Series containing python datetime objects instead of an ndarray. To retain the old behavior, call `np.array` on the result\n",
      "\n",
      "\n"
     ]
    },
    {
     "data": {
      "application/vnd.jupyter.widget-view+json": {
       "model_id": "ab87c22d3f08421b8baecfbef63d2be9",
       "version_major": 2,
       "version_minor": 0
      },
      "text/plain": [
       "FigureWidgetResampler({\n",
       "    'data': [{'line': {'color': '#2d92ff', 'width': 2},\n",
       "              'mode': 'lines',\n",
       "              'name': 'Trend',\n",
       "              'showlegend': False,\n",
       "              'type': 'scatter',\n",
       "              'uid': 'a0228020-12fc-48d6-9f23-465b28d623a3',\n",
       "              'x': array([datetime.datetime(2008, 2, 1, 0, 0),\n",
       "                          datetime.datetime(2008, 3, 1, 0, 0),\n",
       "                          datetime.datetime(2008, 4, 1, 0, 0), ...,\n",
       "                          datetime.datetime(2025, 12, 1, 0, 0),\n",
       "                          datetime.datetime(2026, 1, 1, 0, 0),\n",
       "                          datetime.datetime(2026, 2, 1, 0, 0)], dtype=object),\n",
       "              'xaxis': 'x',\n",
       "              'y': array([ 1797.9492,  1817.4244,  1838.2428, ..., 13000.684 , 13018.266 ,\n",
       "                          13035.848 ], dtype=float32),\n",
       "              'yaxis': 'y'}],\n",
       "    'layout': {'autosize': True,\n",
       "               'font': {'size': 10},\n",
       "               'height': 210,\n",
       "               'hovermode': 'x unified',\n",
       "               'legend': {'traceorder': 'reversed', 'y': 0.1},\n",
       "               'margin': {'b': 0, 'l': 0, 'pad': 0, 'r': 10, 't': 10},\n",
       "               'template': '...',\n",
       "               'title': {'font': {'size': 12}},\n",
       "               'width': 700,\n",
       "               'xaxis': {'anchor': 'y',\n",
       "                         'domain': [0.0, 1.0],\n",
       "                         'linewidth': 1.5,\n",
       "                         'mirror': True,\n",
       "                         'range': [2007-03-03 00:00:00, 2027-01-02 00:00:00],\n",
       "                         'showline': True,\n",
       "                         'title': {'text': 'ds'},\n",
       "                         'type': 'date'},\n",
       "               'yaxis': {'anchor': 'x',\n",
       "                         'domain': [0.0, 1.0],\n",
       "                         'linewidth': 1.5,\n",
       "                         'mirror': True,\n",
       "                         'rangemode': 'normal',\n",
       "                         'showline': True,\n",
       "                         'title': {'text': 'Trend'}}}\n",
       "})"
      ]
     },
     "execution_count": 6,
     "metadata": {},
     "output_type": "execute_result"
    }
   ],
   "source": [
    "m.plot_components(forecast)"
   ]
  },
  {
   "cell_type": "code",
   "execution_count": 7,
   "metadata": {},
   "outputs": [
    {
     "data": {
      "text/html": [
       "<div>\n",
       "<style scoped>\n",
       "    .dataframe tbody tr th:only-of-type {\n",
       "        vertical-align: middle;\n",
       "    }\n",
       "\n",
       "    .dataframe tbody tr th {\n",
       "        vertical-align: top;\n",
       "    }\n",
       "\n",
       "    .dataframe thead th {\n",
       "        text-align: right;\n",
       "    }\n",
       "</style>\n",
       "<table border=\"1\" class=\"dataframe\">\n",
       "  <thead>\n",
       "    <tr style=\"text-align: right;\">\n",
       "      <th></th>\n",
       "      <th>ds</th>\n",
       "      <th>y</th>\n",
       "      <th>yhat1</th>\n",
       "      <th>trend</th>\n",
       "    </tr>\n",
       "  </thead>\n",
       "  <tbody>\n",
       "    <tr>\n",
       "      <th>205</th>\n",
       "      <td>2025-03-01</td>\n",
       "      <td>NaN</td>\n",
       "      <td>12844.714844</td>\n",
       "      <td>12844.714844</td>\n",
       "    </tr>\n",
       "    <tr>\n",
       "      <th>206</th>\n",
       "      <td>2025-04-01</td>\n",
       "      <td>NaN</td>\n",
       "      <td>12862.296875</td>\n",
       "      <td>12862.296875</td>\n",
       "    </tr>\n",
       "    <tr>\n",
       "      <th>207</th>\n",
       "      <td>2025-05-01</td>\n",
       "      <td>NaN</td>\n",
       "      <td>12879.310547</td>\n",
       "      <td>12879.310547</td>\n",
       "    </tr>\n",
       "    <tr>\n",
       "      <th>208</th>\n",
       "      <td>2025-06-01</td>\n",
       "      <td>NaN</td>\n",
       "      <td>12896.894531</td>\n",
       "      <td>12896.894531</td>\n",
       "    </tr>\n",
       "    <tr>\n",
       "      <th>209</th>\n",
       "      <td>2025-07-01</td>\n",
       "      <td>NaN</td>\n",
       "      <td>12913.908203</td>\n",
       "      <td>12913.908203</td>\n",
       "    </tr>\n",
       "    <tr>\n",
       "      <th>210</th>\n",
       "      <td>2025-08-01</td>\n",
       "      <td>NaN</td>\n",
       "      <td>12931.490234</td>\n",
       "      <td>12931.490234</td>\n",
       "    </tr>\n",
       "    <tr>\n",
       "      <th>211</th>\n",
       "      <td>2025-09-01</td>\n",
       "      <td>NaN</td>\n",
       "      <td>12949.072266</td>\n",
       "      <td>12949.072266</td>\n",
       "    </tr>\n",
       "    <tr>\n",
       "      <th>212</th>\n",
       "      <td>2025-10-01</td>\n",
       "      <td>NaN</td>\n",
       "      <td>12966.087891</td>\n",
       "      <td>12966.087891</td>\n",
       "    </tr>\n",
       "    <tr>\n",
       "      <th>213</th>\n",
       "      <td>2025-11-01</td>\n",
       "      <td>NaN</td>\n",
       "      <td>12983.669922</td>\n",
       "      <td>12983.669922</td>\n",
       "    </tr>\n",
       "    <tr>\n",
       "      <th>214</th>\n",
       "      <td>2025-12-01</td>\n",
       "      <td>NaN</td>\n",
       "      <td>13000.683594</td>\n",
       "      <td>13000.683594</td>\n",
       "    </tr>\n",
       "    <tr>\n",
       "      <th>215</th>\n",
       "      <td>2026-01-01</td>\n",
       "      <td>NaN</td>\n",
       "      <td>13018.265625</td>\n",
       "      <td>13018.265625</td>\n",
       "    </tr>\n",
       "    <tr>\n",
       "      <th>216</th>\n",
       "      <td>2026-02-01</td>\n",
       "      <td>NaN</td>\n",
       "      <td>13035.847656</td>\n",
       "      <td>13035.847656</td>\n",
       "    </tr>\n",
       "  </tbody>\n",
       "</table>\n",
       "</div>"
      ],
      "text/plain": [
       "            ds   y         yhat1         trend\n",
       "205 2025-03-01 NaN  12844.714844  12844.714844\n",
       "206 2025-04-01 NaN  12862.296875  12862.296875\n",
       "207 2025-05-01 NaN  12879.310547  12879.310547\n",
       "208 2025-06-01 NaN  12896.894531  12896.894531\n",
       "209 2025-07-01 NaN  12913.908203  12913.908203\n",
       "210 2025-08-01 NaN  12931.490234  12931.490234\n",
       "211 2025-09-01 NaN  12949.072266  12949.072266\n",
       "212 2025-10-01 NaN  12966.087891  12966.087891\n",
       "213 2025-11-01 NaN  12983.669922  12983.669922\n",
       "214 2025-12-01 NaN  13000.683594  13000.683594\n",
       "215 2026-01-01 NaN  13018.265625  13018.265625\n",
       "216 2026-02-01 NaN  13035.847656  13035.847656"
      ]
     },
     "execution_count": 7,
     "metadata": {},
     "output_type": "execute_result"
    }
   ],
   "source": [
    "forecast.tail(12)"
   ]
  },
  {
   "cell_type": "markdown",
   "metadata": {},
   "source": [
    "### Fund volume in USD"
   ]
  },
  {
   "cell_type": "code",
   "execution_count": 8,
   "metadata": {},
   "outputs": [],
   "source": [
    "# Filter for a specific indicator (e.g., \"Поступления\")\n",
    "prophet_data = df_long[df_long[\"Показатель\"] == \"Объем средств фонда на конец периода (млрд. долларов США)\"][[\"ds\", \"y\"]]\n",
    "\n",
    "# Drop rows with missing values (if needed)\n",
    "prophet_data = prophet_data.dropna()\n",
    "\n",
    "# Clean the 'y' column and convert it to numeric type\n",
    "prophet_data = prophet_data.map(lambda x: str(x).replace(' ', '').replace(',', '.').replace('***', '') if isinstance(x, str) else x)\n",
    "prophet_data['y'] = prophet_data['y'].apply(pd.to_numeric, errors='coerce')"
   ]
  },
  {
   "cell_type": "code",
   "execution_count": 9,
   "metadata": {},
   "outputs": [
    {
     "name": "stderr",
     "output_type": "stream",
     "text": [
      "WARNING - (NP.forecaster.fit) - When Global modeling with local normalization, metrics are displayed in normalized scale.\n",
      "WARNING - (py.warnings._showwarnmsg) - c:\\Users\\lenovo\\python\\virtual_environments\\rnwf-env\\Lib\\site-packages\\neuralprophet\\df_utils.py:1152: FutureWarning:\n",
      "\n",
      "Series.view is deprecated and will be removed in a future version. Use ``astype`` as an alternative to change the dtype.\n",
      "\n",
      "\n",
      "INFO - (NP.df_utils._infer_frequency) - Major frequency MS corresponds to [99.512]% of the data.\n",
      "INFO - (NP.df_utils._infer_frequency) - Dataframe freq automatically defined as MS\n",
      "INFO - (NP.config.init_data_params) - Setting normalization to global as only one dataframe provided for training.\n",
      "INFO - (NP.config.set_auto_batch_epoch) - Auto-set batch_size to 16\n",
      "INFO - (NP.config.set_auto_batch_epoch) - Auto-set epochs to 190\n"
     ]
    },
    {
     "data": {
      "application/vnd.jupyter.widget-view+json": {
       "model_id": "582a63bb4d734b71b28cd95cac30c254",
       "version_major": 2,
       "version_minor": 0
      },
      "text/plain": [
       "Training: |          | 0/? [00:00<?, ?it/s]"
      ]
     },
     "metadata": {},
     "output_type": "display_data"
    },
    {
     "name": "stderr",
     "output_type": "stream",
     "text": [
      "WARNING - (NP.config.set_lr_finder_args) - Learning rate finder: The number of batches (13) is too small than the required number                     for the learning rate finder (212). The results might not be optimal.\n"
     ]
    },
    {
     "data": {
      "application/vnd.jupyter.widget-view+json": {
       "model_id": "0067a5a099a74e4e8f25044ebac73a61",
       "version_major": 2,
       "version_minor": 0
      },
      "text/plain": [
       "Finding best initial lr:   0%|          | 0/212 [00:00<?, ?it/s]"
      ]
     },
     "metadata": {},
     "output_type": "display_data"
    },
    {
     "name": "stderr",
     "output_type": "stream",
     "text": [
      "WARNING - (py.warnings._showwarnmsg) - c:\\Users\\lenovo\\python\\virtual_environments\\rnwf-env\\Lib\\site-packages\\pytorch_lightning\\utilities\\data.py:79: UserWarning:\n",
      "\n",
      "Trying to infer the `batch_size` from an ambiguous collection. The batch size we found is 13. To avoid any miscalculations, use `self.log(..., batch_size=batch_size)`.\n",
      "\n",
      "\n"
     ]
    },
    {
     "data": {
      "application/vnd.jupyter.widget-view+json": {
       "model_id": "0ed7e7ef3f264547ad5f32f447bda5b3",
       "version_major": 2,
       "version_minor": 0
      },
      "text/plain": [
       "Training: |          | 0/? [00:00<?, ?it/s]"
      ]
     },
     "metadata": {},
     "output_type": "display_data"
    },
    {
     "name": "stderr",
     "output_type": "stream",
     "text": [
      "WARNING - (py.warnings._showwarnmsg) - c:\\Users\\lenovo\\python\\virtual_environments\\rnwf-env\\Lib\\site-packages\\neuralprophet\\df_utils.py:1152: FutureWarning:\n",
      "\n",
      "Series.view is deprecated and will be removed in a future version. Use ``astype`` as an alternative to change the dtype.\n",
      "\n",
      "\n",
      "INFO - (NP.df_utils._infer_frequency) - Major frequency MS corresponds to [99.512]% of the data.\n",
      "WARNING - (py.warnings._showwarnmsg) - c:\\Users\\lenovo\\python\\virtual_environments\\rnwf-env\\Lib\\site-packages\\neuralprophet\\df_utils.py:1152: FutureWarning:\n",
      "\n",
      "Series.view is deprecated and will be removed in a future version. Use ``astype`` as an alternative to change the dtype.\n",
      "\n",
      "\n",
      "WARNING - (py.warnings._showwarnmsg) - c:\\Users\\lenovo\\python\\virtual_environments\\rnwf-env\\Lib\\site-packages\\neuralprophet\\df_utils.py:1152: FutureWarning:\n",
      "\n",
      "Series.view is deprecated and will be removed in a future version. Use ``astype`` as an alternative to change the dtype.\n",
      "\n",
      "\n",
      "INFO - (NP.df_utils._infer_frequency) - Defined frequency is equal to major frequency - MS\n",
      "WARNING - (py.warnings._showwarnmsg) - c:\\Users\\lenovo\\python\\virtual_environments\\rnwf-env\\Lib\\site-packages\\neuralprophet\\df_utils.py:1152: FutureWarning:\n",
      "\n",
      "Series.view is deprecated and will be removed in a future version. Use ``astype`` as an alternative to change the dtype.\n",
      "\n",
      "\n",
      "INFO - (NP.df_utils._infer_frequency) - Major frequency MS corresponds to [99.512]% of the data.\n",
      "WARNING - (py.warnings._showwarnmsg) - c:\\Users\\lenovo\\python\\virtual_environments\\rnwf-env\\Lib\\site-packages\\neuralprophet\\df_utils.py:1152: FutureWarning:\n",
      "\n",
      "Series.view is deprecated and will be removed in a future version. Use ``astype`` as an alternative to change the dtype.\n",
      "\n",
      "\n",
      "WARNING - (py.warnings._showwarnmsg) - c:\\Users\\lenovo\\python\\virtual_environments\\rnwf-env\\Lib\\site-packages\\neuralprophet\\df_utils.py:1152: FutureWarning:\n",
      "\n",
      "Series.view is deprecated and will be removed in a future version. Use ``astype`` as an alternative to change the dtype.\n",
      "\n",
      "\n",
      "INFO - (NP.df_utils._infer_frequency) - Defined frequency is equal to major frequency - MS\n"
     ]
    },
    {
     "data": {
      "application/vnd.jupyter.widget-view+json": {
       "model_id": "ed5e62ef574d42e190b0839589a855fc",
       "version_major": 2,
       "version_minor": 0
      },
      "text/plain": [
       "Predicting: |          | 0/? [00:00<?, ?it/s]"
      ]
     },
     "metadata": {},
     "output_type": "display_data"
    },
    {
     "name": "stderr",
     "output_type": "stream",
     "text": [
      "INFO - (NP.df_utils.return_df_in_original_format) - Returning df with no ID column\n",
      "WARNING - (py.warnings._showwarnmsg) - c:\\Users\\lenovo\\python\\virtual_environments\\rnwf-env\\Lib\\site-packages\\neuralprophet\\plot_forecast_plotly.py:100: FutureWarning:\n",
      "\n",
      "The behavior of DatetimeProperties.to_pydatetime is deprecated, in a future version this will return a Series containing python datetime objects instead of an ndarray. To retain the old behavior, call `np.array` on the result\n",
      "\n",
      "\n"
     ]
    },
    {
     "data": {
      "application/vnd.jupyter.widget-view+json": {
       "model_id": "cabc7c8e267a45219885b6447f8012da",
       "version_major": 2,
       "version_minor": 0
      },
      "text/plain": [
       "FigureWidgetResampler({\n",
       "    'data': [{'fill': 'none',\n",
       "              'line': {'color': 'rgba(45, 146, 255, 1.0)', 'width': 2},\n",
       "              'mode': 'lines',\n",
       "              'name': 'yhat1',\n",
       "              'type': 'scatter',\n",
       "              'uid': '5b56ed56-5efd-4595-9bc8-fac62da56c2b',\n",
       "              'x': array([datetime.datetime(2008, 2, 1, 0, 0),\n",
       "                          datetime.datetime(2008, 3, 1, 0, 0),\n",
       "                          datetime.datetime(2008, 4, 1, 0, 0), ...,\n",
       "                          datetime.datetime(2024, 12, 1, 0, 0),\n",
       "                          datetime.datetime(2025, 1, 1, 0, 0),\n",
       "                          datetime.datetime(2025, 2, 1, 0, 0)], dtype=object),\n",
       "              'y': array([ 27.169443,  31.194265,  35.496662, ..., 134.06764 , 132.94931 ,\n",
       "                          131.83098 ], dtype=float32)},\n",
       "             {'marker': {'color': 'black', 'size': 4},\n",
       "              'mode': 'markers',\n",
       "              'name': 'Actual',\n",
       "              'type': 'scatter',\n",
       "              'uid': 'fe2f4969-0670-4453-9004-635b4f4a0b55',\n",
       "              'x': array([datetime.datetime(2008, 2, 1, 0, 0),\n",
       "                          datetime.datetime(2008, 3, 1, 0, 0),\n",
       "                          datetime.datetime(2008, 4, 1, 0, 0), ...,\n",
       "                          datetime.datetime(2024, 12, 1, 0, 0),\n",
       "                          datetime.datetime(2025, 1, 1, 0, 0),\n",
       "                          datetime.datetime(2025, 2, 1, 0, 0)], dtype=object),\n",
       "              'y': array([ 32.22,  32.9 ,  32.72, ..., 116.84, 122.09, 135.47])}],\n",
       "    'layout': {'autosize': True,\n",
       "               'font': {'size': 10},\n",
       "               'height': 420,\n",
       "               'hovermode': 'x unified',\n",
       "               'margin': {'b': 0, 'l': 0, 'pad': 0, 'r': 10, 't': 10},\n",
       "               'showlegend': True,\n",
       "               'template': '...',\n",
       "               'title': {'font': {'size': 12}},\n",
       "               'width': 700,\n",
       "               'xaxis': {'linewidth': 1.5,\n",
       "                         'mirror': True,\n",
       "                         'rangeselector': {'buttons': [{'count': 7, 'label': '1w', 'step': 'day', 'stepmode': 'backward'},\n",
       "                                                       {'count': 1,\n",
       "                                                        'label': '1m',\n",
       "                                                        'step': 'month',\n",
       "                                                        'stepmode': 'backward'},\n",
       "                                                       {'count': 6,\n",
       "                                                        'label': '6m',\n",
       "                                                        'step': 'month',\n",
       "                                                        'stepmode': 'backward'},\n",
       "                                                       {'count': 1, 'label': '1y', 'step': 'year', 'stepmode': 'backward'},\n",
       "                                                       {'step': 'all'}]},\n",
       "                         'rangeslider': {'visible': True},\n",
       "                         'showline': True,\n",
       "                         'title': {'text': 'ds'},\n",
       "                         'type': 'date'},\n",
       "               'yaxis': {'linewidth': 1.5, 'mirror': True, 'showline': True, 'title': {'text': 'y'}}}\n",
       "})"
      ]
     },
     "execution_count": 9,
     "metadata": {},
     "output_type": "execute_result"
    }
   ],
   "source": [
    "m = NeuralProphet(\n",
    "                  # Disable change trendpoints\n",
    "                  # n_changepoints=0,\n",
    "                  # Disable seasonality components\n",
    "                  yearly_seasonality=False,\n",
    "                  weekly_seasonality=False,\n",
    "                  daily_seasonality=False,\n",
    "                )\n",
    "metrics = m.fit(prophet_data)\n",
    "forecast = m.predict(prophet_data)\n",
    "m.plot(forecast)"
   ]
  },
  {
   "cell_type": "code",
   "execution_count": 10,
   "metadata": {},
   "outputs": [
    {
     "name": "stderr",
     "output_type": "stream",
     "text": [
      "WARNING - (py.warnings._showwarnmsg) - c:\\Users\\lenovo\\python\\virtual_environments\\rnwf-env\\Lib\\site-packages\\neuralprophet\\plot_model_parameters_plotly.py:237: FutureWarning:\n",
      "\n",
      "The behavior of DatetimeProperties.to_pydatetime is deprecated, in a future version this will return a Series containing python datetime objects instead of an ndarray. To retain the old behavior, call `np.array` on the result\n",
      "\n",
      "\n",
      "WARNING - (py.warnings._showwarnmsg) - c:\\Users\\lenovo\\python\\virtual_environments\\rnwf-env\\Lib\\site-packages\\neuralprophet\\plot_model_parameters_plotly.py:271: FutureWarning:\n",
      "\n",
      "The behavior of DatetimeProperties.to_pydatetime is deprecated, in a future version this will return a Series containing python datetime objects instead of an ndarray. To retain the old behavior, call `np.array` on the result\n",
      "\n",
      "\n"
     ]
    },
    {
     "data": {
      "application/vnd.jupyter.widget-view+json": {
       "model_id": "a4ae801fa1e345d2b693efda12fdfd03",
       "version_major": 2,
       "version_minor": 0
      },
      "text/plain": [
       "FigureWidgetResampler({\n",
       "    'data': [{'fill': 'none',\n",
       "              'line': {'color': '#2d92ff', 'width': 2},\n",
       "              'mode': 'lines',\n",
       "              'name': 'Trend',\n",
       "              'type': 'scatter',\n",
       "              'uid': 'f5afb4d2-801a-4b9d-b7e7-eeabc7c44b2d',\n",
       "              'x': array([datetime.datetime(2008, 2, 1, 0, 0),\n",
       "                          datetime.datetime(2008, 3, 1, 0, 0),\n",
       "                          datetime.datetime(2008, 4, 1, 0, 0), ...,\n",
       "                          datetime.datetime(2024, 12, 1, 0, 0),\n",
       "                          datetime.datetime(2025, 1, 1, 0, 0),\n",
       "                          datetime.datetime(2025, 2, 1, 0, 0)], dtype=object),\n",
       "              'xaxis': 'x',\n",
       "              'y': array([ 27.16944277,  31.19426597,  35.49666317, ..., 134.06763269,\n",
       "                          132.94930565, 131.83097861]),\n",
       "              'yaxis': 'y'}],\n",
       "    'layout': {'autosize': True,\n",
       "               'font': {'size': 10},\n",
       "               'height': 210,\n",
       "               'hovermode': 'x unified',\n",
       "               'margin': {'b': 0, 'l': 0, 'pad': 0, 'r': 10, 't': 10},\n",
       "               'showlegend': False,\n",
       "               'template': '...',\n",
       "               'title': {'font': {'size': 12}},\n",
       "               'width': 700,\n",
       "               'xaxis': {'anchor': 'y',\n",
       "                         'domain': [0.0, 1.0],\n",
       "                         'linewidth': 1.5,\n",
       "                         'mirror': True,\n",
       "                         'range': [2007-04-03 00:00:00, 2025-12-02 00:00:00],\n",
       "                         'showline': True,\n",
       "                         'title': {'text': 'ds'},\n",
       "                         'type': 'date'},\n",
       "               'yaxis': {'anchor': 'x',\n",
       "                         'domain': [0.0, 1.0],\n",
       "                         'linewidth': 1.5,\n",
       "                         'mirror': True,\n",
       "                         'rangemode': 'normal',\n",
       "                         'showline': True,\n",
       "                         'title': {'text': 'Trend'}}}\n",
       "})"
      ]
     },
     "execution_count": 10,
     "metadata": {},
     "output_type": "execute_result"
    }
   ],
   "source": [
    "m.plot_parameters(components=[\"trend\"])"
   ]
  },
  {
   "cell_type": "code",
   "execution_count": 11,
   "metadata": {},
   "outputs": [
    {
     "name": "stderr",
     "output_type": "stream",
     "text": [
      "WARNING - (py.warnings._showwarnmsg) - c:\\Users\\lenovo\\python\\virtual_environments\\rnwf-env\\Lib\\site-packages\\neuralprophet\\df_utils.py:1152: FutureWarning:\n",
      "\n",
      "Series.view is deprecated and will be removed in a future version. Use ``astype`` as an alternative to change the dtype.\n",
      "\n",
      "\n",
      "INFO - (NP.df_utils._infer_frequency) - Major frequency MS corresponds to [99.512]% of the data.\n",
      "WARNING - (py.warnings._showwarnmsg) - c:\\Users\\lenovo\\python\\virtual_environments\\rnwf-env\\Lib\\site-packages\\neuralprophet\\df_utils.py:1152: FutureWarning:\n",
      "\n",
      "Series.view is deprecated and will be removed in a future version. Use ``astype`` as an alternative to change the dtype.\n",
      "\n",
      "\n",
      "WARNING - (py.warnings._showwarnmsg) - c:\\Users\\lenovo\\python\\virtual_environments\\rnwf-env\\Lib\\site-packages\\neuralprophet\\df_utils.py:1152: FutureWarning:\n",
      "\n",
      "Series.view is deprecated and will be removed in a future version. Use ``astype`` as an alternative to change the dtype.\n",
      "\n",
      "\n",
      "INFO - (NP.df_utils._infer_frequency) - Defined frequency is equal to major frequency - MS\n",
      "WARNING - (py.warnings._showwarnmsg) - c:\\Users\\lenovo\\python\\virtual_environments\\rnwf-env\\Lib\\site-packages\\neuralprophet\\data\\split.py:273: FutureWarning:\n",
      "\n",
      "The behavior of DataFrame concatenation with empty or all-NA entries is deprecated. In a future version, this will no longer exclude empty or all-NA columns when determining the result dtypes. To retain the old behavior, exclude the relevant entries before the concat operation.\n",
      "\n",
      "\n",
      "INFO - (NP.df_utils.return_df_in_original_format) - Returning df with no ID column\n",
      "WARNING - (py.warnings._showwarnmsg) - c:\\Users\\lenovo\\python\\virtual_environments\\rnwf-env\\Lib\\site-packages\\neuralprophet\\df_utils.py:1152: FutureWarning:\n",
      "\n",
      "Series.view is deprecated and will be removed in a future version. Use ``astype`` as an alternative to change the dtype.\n",
      "\n",
      "\n",
      "INFO - (NP.df_utils._infer_frequency) - Major frequency MS corresponds to [99.539]% of the data.\n",
      "WARNING - (py.warnings._showwarnmsg) - c:\\Users\\lenovo\\python\\virtual_environments\\rnwf-env\\Lib\\site-packages\\neuralprophet\\df_utils.py:1152: FutureWarning:\n",
      "\n",
      "Series.view is deprecated and will be removed in a future version. Use ``astype`` as an alternative to change the dtype.\n",
      "\n",
      "\n",
      "WARNING - (py.warnings._showwarnmsg) - c:\\Users\\lenovo\\python\\virtual_environments\\rnwf-env\\Lib\\site-packages\\neuralprophet\\df_utils.py:1152: FutureWarning:\n",
      "\n",
      "Series.view is deprecated and will be removed in a future version. Use ``astype`` as an alternative to change the dtype.\n",
      "\n",
      "\n",
      "INFO - (NP.df_utils._infer_frequency) - Defined frequency is equal to major frequency - MS\n",
      "WARNING - (py.warnings._showwarnmsg) - c:\\Users\\lenovo\\python\\virtual_environments\\rnwf-env\\Lib\\site-packages\\neuralprophet\\df_utils.py:1152: FutureWarning:\n",
      "\n",
      "Series.view is deprecated and will be removed in a future version. Use ``astype`` as an alternative to change the dtype.\n",
      "\n",
      "\n",
      "INFO - (NP.df_utils._infer_frequency) - Major frequency MS corresponds to [99.539]% of the data.\n",
      "WARNING - (py.warnings._showwarnmsg) - c:\\Users\\lenovo\\python\\virtual_environments\\rnwf-env\\Lib\\site-packages\\neuralprophet\\df_utils.py:1152: FutureWarning:\n",
      "\n",
      "Series.view is deprecated and will be removed in a future version. Use ``astype`` as an alternative to change the dtype.\n",
      "\n",
      "\n",
      "WARNING - (py.warnings._showwarnmsg) - c:\\Users\\lenovo\\python\\virtual_environments\\rnwf-env\\Lib\\site-packages\\neuralprophet\\df_utils.py:1152: FutureWarning:\n",
      "\n",
      "Series.view is deprecated and will be removed in a future version. Use ``astype`` as an alternative to change the dtype.\n",
      "\n",
      "\n",
      "INFO - (NP.df_utils._infer_frequency) - Defined frequency is equal to major frequency - MS\n",
      "INFO - (NP.data.processing._handle_missing_data) - Dropped 12 rows at the end with NaNs in 'y' column.\n"
     ]
    },
    {
     "data": {
      "application/vnd.jupyter.widget-view+json": {
       "model_id": "8bf2619dd130407486ba5af7b5f0a440",
       "version_major": 2,
       "version_minor": 0
      },
      "text/plain": [
       "Predicting: |          | 0/? [00:00<?, ?it/s]"
      ]
     },
     "metadata": {},
     "output_type": "display_data"
    },
    {
     "name": "stderr",
     "output_type": "stream",
     "text": [
      "INFO - (NP.df_utils.return_df_in_original_format) - Returning df with no ID column\n",
      "WARNING - (py.warnings._showwarnmsg) - c:\\Users\\lenovo\\python\\virtual_environments\\rnwf-env\\Lib\\site-packages\\neuralprophet\\plot_forecast_plotly.py:100: FutureWarning:\n",
      "\n",
      "The behavior of DatetimeProperties.to_pydatetime is deprecated, in a future version this will return a Series containing python datetime objects instead of an ndarray. To retain the old behavior, call `np.array` on the result\n",
      "\n",
      "\n"
     ]
    },
    {
     "data": {
      "application/vnd.jupyter.widget-view+json": {
       "model_id": "b47f509240c947d6abbe2d2ea81fb63f",
       "version_major": 2,
       "version_minor": 0
      },
      "text/plain": [
       "FigureWidgetResampler({\n",
       "    'data': [{'fill': 'none',\n",
       "              'line': {'color': 'rgba(45, 146, 255, 1.0)', 'width': 2},\n",
       "              'mode': 'lines',\n",
       "              'name': 'yhat1',\n",
       "              'type': 'scatter',\n",
       "              'uid': '9e03d50e-1542-485b-b5da-951b59cf948a',\n",
       "              'x': array([datetime.datetime(2008, 2, 1, 0, 0),\n",
       "                          datetime.datetime(2008, 3, 1, 0, 0),\n",
       "                          datetime.datetime(2008, 4, 1, 0, 0), ...,\n",
       "                          datetime.datetime(2025, 12, 1, 0, 0),\n",
       "                          datetime.datetime(2026, 1, 1, 0, 0),\n",
       "                          datetime.datetime(2026, 2, 1, 0, 0)], dtype=object),\n",
       "              'y': array([ 27.169443,  31.194265,  35.496662, ..., 120.900246, 119.7819  ,\n",
       "                          118.66359 ], dtype=float32)},\n",
       "             {'marker': {'color': 'black', 'size': 4},\n",
       "              'mode': 'markers',\n",
       "              'name': 'Actual',\n",
       "              'type': 'scatter',\n",
       "              'uid': '1e6b8d7e-1783-415c-9af8-64b0078f9ecd',\n",
       "              'x': array([datetime.datetime(2008, 2, 1, 0, 0),\n",
       "                          datetime.datetime(2008, 3, 1, 0, 0),\n",
       "                          datetime.datetime(2008, 4, 1, 0, 0), ...,\n",
       "                          datetime.datetime(2025, 12, 1, 0, 0),\n",
       "                          datetime.datetime(2026, 1, 1, 0, 0),\n",
       "                          datetime.datetime(2026, 2, 1, 0, 0)], dtype=object),\n",
       "              'y': array([32.22, 32.9 , 32.72, ...,   nan,   nan,   nan])}],\n",
       "    'layout': {'autosize': True,\n",
       "               'font': {'size': 10},\n",
       "               'height': 420,\n",
       "               'hovermode': 'x unified',\n",
       "               'margin': {'b': 0, 'l': 0, 'pad': 0, 'r': 10, 't': 10},\n",
       "               'showlegend': True,\n",
       "               'template': '...',\n",
       "               'title': {'font': {'size': 12}},\n",
       "               'width': 700,\n",
       "               'xaxis': {'linewidth': 1.5,\n",
       "                         'mirror': True,\n",
       "                         'rangeselector': {'buttons': [{'count': 7, 'label': '1w', 'step': 'day', 'stepmode': 'backward'},\n",
       "                                                       {'count': 1,\n",
       "                                                        'label': '1m',\n",
       "                                                        'step': 'month',\n",
       "                                                        'stepmode': 'backward'},\n",
       "                                                       {'count': 6,\n",
       "                                                        'label': '6m',\n",
       "                                                        'step': 'month',\n",
       "                                                        'stepmode': 'backward'},\n",
       "                                                       {'count': 1, 'label': '1y', 'step': 'year', 'stepmode': 'backward'},\n",
       "                                                       {'step': 'all'}]},\n",
       "                         'rangeslider': {'visible': True},\n",
       "                         'showline': True,\n",
       "                         'title': {'text': 'ds'},\n",
       "                         'type': 'date'},\n",
       "               'yaxis': {'linewidth': 1.5, 'mirror': True, 'showline': True, 'title': {'text': 'y'}}}\n",
       "})"
      ]
     },
     "execution_count": 11,
     "metadata": {},
     "output_type": "execute_result"
    }
   ],
   "source": [
    "# Create a new dataframe reaching 365 into the future for our forecast, n_historic_predictions also shows historic data\n",
    "df_future = m.make_future_dataframe(prophet_data, n_historic_predictions=True, periods=12)\n",
    "\n",
    "# Predict the future\n",
    "forecast = m.predict(df_future)\n",
    "\n",
    "# Visualize the forecast\n",
    "m.plot(forecast)"
   ]
  },
  {
   "cell_type": "code",
   "execution_count": 12,
   "metadata": {},
   "outputs": [
    {
     "name": "stderr",
     "output_type": "stream",
     "text": [
      "WARNING - (py.warnings._showwarnmsg) - c:\\Users\\lenovo\\python\\virtual_environments\\rnwf-env\\Lib\\site-packages\\neuralprophet\\plot_forecast_plotly.py:410: FutureWarning:\n",
      "\n",
      "The behavior of DatetimeProperties.to_pydatetime is deprecated, in a future version this will return a Series containing python datetime objects instead of an ndarray. To retain the old behavior, call `np.array` on the result\n",
      "\n",
      "\n"
     ]
    },
    {
     "data": {
      "application/vnd.jupyter.widget-view+json": {
       "model_id": "a79768dfcb2f4def80cba194a6ece501",
       "version_major": 2,
       "version_minor": 0
      },
      "text/plain": [
       "FigureWidgetResampler({\n",
       "    'data': [{'line': {'color': '#2d92ff', 'width': 2},\n",
       "              'mode': 'lines',\n",
       "              'name': 'Trend',\n",
       "              'showlegend': False,\n",
       "              'type': 'scatter',\n",
       "              'uid': '49f824dd-025a-4b4c-8a33-cca64fc9dd64',\n",
       "              'x': array([datetime.datetime(2008, 2, 1, 0, 0),\n",
       "                          datetime.datetime(2008, 3, 1, 0, 0),\n",
       "                          datetime.datetime(2008, 4, 1, 0, 0), ...,\n",
       "                          datetime.datetime(2025, 12, 1, 0, 0),\n",
       "                          datetime.datetime(2026, 1, 1, 0, 0),\n",
       "                          datetime.datetime(2026, 2, 1, 0, 0)], dtype=object),\n",
       "              'xaxis': 'x',\n",
       "              'y': array([ 27.169443,  31.194265,  35.496662, ..., 120.900246, 119.7819  ,\n",
       "                          118.66359 ], dtype=float32),\n",
       "              'yaxis': 'y'}],\n",
       "    'layout': {'autosize': True,\n",
       "               'font': {'size': 10},\n",
       "               'height': 210,\n",
       "               'hovermode': 'x unified',\n",
       "               'legend': {'traceorder': 'reversed', 'y': 0.1},\n",
       "               'margin': {'b': 0, 'l': 0, 'pad': 0, 'r': 10, 't': 10},\n",
       "               'template': '...',\n",
       "               'title': {'font': {'size': 12}},\n",
       "               'width': 700,\n",
       "               'xaxis': {'anchor': 'y',\n",
       "                         'domain': [0.0, 1.0],\n",
       "                         'linewidth': 1.5,\n",
       "                         'mirror': True,\n",
       "                         'range': [2007-03-03 00:00:00, 2027-01-02 00:00:00],\n",
       "                         'showline': True,\n",
       "                         'title': {'text': 'ds'},\n",
       "                         'type': 'date'},\n",
       "               'yaxis': {'anchor': 'x',\n",
       "                         'domain': [0.0, 1.0],\n",
       "                         'linewidth': 1.5,\n",
       "                         'mirror': True,\n",
       "                         'rangemode': 'normal',\n",
       "                         'showline': True,\n",
       "                         'title': {'text': 'Trend'}}}\n",
       "})"
      ]
     },
     "execution_count": 12,
     "metadata": {},
     "output_type": "execute_result"
    }
   ],
   "source": [
    "m.plot_components(forecast)"
   ]
  },
  {
   "cell_type": "code",
   "execution_count": 13,
   "metadata": {},
   "outputs": [
    {
     "data": {
      "text/html": [
       "<div>\n",
       "<style scoped>\n",
       "    .dataframe tbody tr th:only-of-type {\n",
       "        vertical-align: middle;\n",
       "    }\n",
       "\n",
       "    .dataframe tbody tr th {\n",
       "        vertical-align: top;\n",
       "    }\n",
       "\n",
       "    .dataframe thead th {\n",
       "        text-align: right;\n",
       "    }\n",
       "</style>\n",
       "<table border=\"1\" class=\"dataframe\">\n",
       "  <thead>\n",
       "    <tr style=\"text-align: right;\">\n",
       "      <th></th>\n",
       "      <th>ds</th>\n",
       "      <th>y</th>\n",
       "      <th>yhat1</th>\n",
       "      <th>trend</th>\n",
       "    </tr>\n",
       "  </thead>\n",
       "  <tbody>\n",
       "    <tr>\n",
       "      <th>205</th>\n",
       "      <td>2025-03-01</td>\n",
       "      <td>NaN</td>\n",
       "      <td>130.820892</td>\n",
       "      <td>130.820892</td>\n",
       "    </tr>\n",
       "    <tr>\n",
       "      <th>206</th>\n",
       "      <td>2025-04-01</td>\n",
       "      <td>NaN</td>\n",
       "      <td>129.702545</td>\n",
       "      <td>129.702545</td>\n",
       "    </tr>\n",
       "    <tr>\n",
       "      <th>207</th>\n",
       "      <td>2025-05-01</td>\n",
       "      <td>NaN</td>\n",
       "      <td>128.620300</td>\n",
       "      <td>128.620300</td>\n",
       "    </tr>\n",
       "    <tr>\n",
       "      <th>208</th>\n",
       "      <td>2025-06-01</td>\n",
       "      <td>NaN</td>\n",
       "      <td>127.501976</td>\n",
       "      <td>127.501976</td>\n",
       "    </tr>\n",
       "    <tr>\n",
       "      <th>209</th>\n",
       "      <td>2025-07-01</td>\n",
       "      <td>NaN</td>\n",
       "      <td>126.419739</td>\n",
       "      <td>126.419739</td>\n",
       "    </tr>\n",
       "    <tr>\n",
       "      <th>210</th>\n",
       "      <td>2025-08-01</td>\n",
       "      <td>NaN</td>\n",
       "      <td>125.301392</td>\n",
       "      <td>125.301392</td>\n",
       "    </tr>\n",
       "    <tr>\n",
       "      <th>211</th>\n",
       "      <td>2025-09-01</td>\n",
       "      <td>NaN</td>\n",
       "      <td>124.183083</td>\n",
       "      <td>124.183083</td>\n",
       "    </tr>\n",
       "    <tr>\n",
       "      <th>212</th>\n",
       "      <td>2025-10-01</td>\n",
       "      <td>NaN</td>\n",
       "      <td>123.100807</td>\n",
       "      <td>123.100807</td>\n",
       "    </tr>\n",
       "    <tr>\n",
       "      <th>213</th>\n",
       "      <td>2025-11-01</td>\n",
       "      <td>NaN</td>\n",
       "      <td>121.982483</td>\n",
       "      <td>121.982483</td>\n",
       "    </tr>\n",
       "    <tr>\n",
       "      <th>214</th>\n",
       "      <td>2025-12-01</td>\n",
       "      <td>NaN</td>\n",
       "      <td>120.900246</td>\n",
       "      <td>120.900246</td>\n",
       "    </tr>\n",
       "    <tr>\n",
       "      <th>215</th>\n",
       "      <td>2026-01-01</td>\n",
       "      <td>NaN</td>\n",
       "      <td>119.781898</td>\n",
       "      <td>119.781898</td>\n",
       "    </tr>\n",
       "    <tr>\n",
       "      <th>216</th>\n",
       "      <td>2026-02-01</td>\n",
       "      <td>NaN</td>\n",
       "      <td>118.663589</td>\n",
       "      <td>118.663589</td>\n",
       "    </tr>\n",
       "  </tbody>\n",
       "</table>\n",
       "</div>"
      ],
      "text/plain": [
       "            ds   y       yhat1       trend\n",
       "205 2025-03-01 NaN  130.820892  130.820892\n",
       "206 2025-04-01 NaN  129.702545  129.702545\n",
       "207 2025-05-01 NaN  128.620300  128.620300\n",
       "208 2025-06-01 NaN  127.501976  127.501976\n",
       "209 2025-07-01 NaN  126.419739  126.419739\n",
       "210 2025-08-01 NaN  125.301392  125.301392\n",
       "211 2025-09-01 NaN  124.183083  124.183083\n",
       "212 2025-10-01 NaN  123.100807  123.100807\n",
       "213 2025-11-01 NaN  121.982483  121.982483\n",
       "214 2025-12-01 NaN  120.900246  120.900246\n",
       "215 2026-01-01 NaN  119.781898  119.781898\n",
       "216 2026-02-01 NaN  118.663589  118.663589"
      ]
     },
     "execution_count": 13,
     "metadata": {},
     "output_type": "execute_result"
    }
   ],
   "source": [
    "forecast.tail(12)"
   ]
  },
  {
   "cell_type": "markdown",
   "metadata": {},
   "source": [
    "## Residuals (USD)"
   ]
  },
  {
   "cell_type": "code",
   "execution_count": 14,
   "metadata": {},
   "outputs": [],
   "source": [
    "df=forecast[:203]"
   ]
  },
  {
   "cell_type": "code",
   "execution_count": 15,
   "metadata": {},
   "outputs": [
    {
     "data": {
      "image/png": "[encoded data removed]",
      "text/plain": [
       "<Figure size 1000x600 with 1 Axes>"
      ]
     },
     "metadata": {},
     "output_type": "display_data"
    }
   ],
   "source": [
    "df_residuals = pd.DataFrame({\"ds\": prophet_data[\"ds\"], \"residuals\": prophet_data[\"y\"] - df[\"yhat1\"]})\n",
    "fig = df_residuals.plot(x=\"ds\", y=\"residuals\", figsize=(10, 6))"
   ]
  }
 ],
 "metadata": {
  "kernelspec": {
   "display_name": "rnwf-env",
   "language": "python",
   "name": "python3"
  },
  "language_info": {
   "codemirror_mode": {
    "name": "ipython",
    "version": 3
   },
   "file_extension": ".py",
   "mimetype": "text/x-python",
   "name": "python",
   "nbconvert_exporter": "python",
   "pygments_lexer": "ipython3",
   "version": "3.11.2"
  }
 },
 "nbformat": 4,
 "nbformat_minor": 2
}
