{
 "cells": [
  {
   "attachments": {},
   "cell_type": "markdown",
   "metadata": {},
   "source": [
    "Scrapping data from the minfin.gov website"
   ]
  },
  {
   "cell_type": "code",
   "execution_count": 11,
   "metadata": {},
   "outputs": [],
   "source": [
    "import pandas as pd\n",
    "from urllib.request import Request, urlopen\n",
    "\n",
    "req = Request(url='https://minfin.gov.ru/ru/perfomance/nationalwealthfund/statistics?id_57=27068-obem_fonda_natsionalnogo_blagosostoyaniya', headers={'User-Agent': 'Mozilla/5.0'})\n",
    "webpage = urlopen(req).read()\n",
    "df_list = pd.read_html(webpage)\n",
    "df = pd.DataFrame(df_list[0])\n",
    "df = df.rename(columns={df.columns[0]: \"Date\", df.columns[1]: \"amount_blnUSD\",df.columns[2]: 'amount_blnRUB'})\n",
    "df = df.drop(columns=df.columns[3])\n",
    "df['amount_blnRUB'] = df['amount_blnRUB'].str.replace(r'[***]', '', regex=True)\n",
    "df['amount_blnUSD'] = df['amount_blnUSD'].str.replace(r'[***]', '', regex=True)\n",
    "df['amount_blnRUB'] = df['amount_blnRUB'].str.replace(r'[ ,\\xa0]+', '', regex=True)\n",
    "df['amount_blnUSD'] = df['amount_blnUSD'].str.replace(',', '', regex=True).astype(float)\n",
    "df['amount_blnRUB'] = df['amount_blnRUB'].astype(int) / 100\n",
    "df['amount_blnUSD'] = df['amount_blnUSD'].astype(int) / 100"
   ]
  },
  {
   "cell_type": "code",
   "execution_count": 12,
   "metadata": {},
   "outputs": [
    {
     "data": {
      "text/html": [
       "<div>\n",
       "<style scoped>\n",
       "    .dataframe tbody tr th:only-of-type {\n",
       "        vertical-align: middle;\n",
       "    }\n",
       "\n",
       "    .dataframe tbody tr th {\n",
       "        vertical-align: top;\n",
       "    }\n",
       "\n",
       "    .dataframe thead th {\n",
       "        text-align: right;\n",
       "    }\n",
       "</style>\n",
       "<table border=\"1\" class=\"dataframe\">\n",
       "  <thead>\n",
       "    <tr style=\"text-align: right;\">\n",
       "      <th></th>\n",
       "      <th>Date</th>\n",
       "      <th>amount_blnUSD</th>\n",
       "      <th>amount_blnRUB</th>\n",
       "      <th>Date(m,Y)</th>\n",
       "    </tr>\n",
       "  </thead>\n",
       "  <tbody>\n",
       "    <tr>\n",
       "      <th>0</th>\n",
       "      <td>2024-01-01</td>\n",
       "      <td>133.41</td>\n",
       "      <td>11965.07</td>\n",
       "      <td>January, 2024</td>\n",
       "    </tr>\n",
       "    <tr>\n",
       "      <th>1</th>\n",
       "      <td>2023-12-01</td>\n",
       "      <td>151.13</td>\n",
       "      <td>13432.97</td>\n",
       "      <td>December, 2023</td>\n",
       "    </tr>\n",
       "    <tr>\n",
       "      <th>2</th>\n",
       "      <td>2023-11-01</td>\n",
       "      <td>145.22</td>\n",
       "      <td>13541.23</td>\n",
       "      <td>November, 2023</td>\n",
       "    </tr>\n",
       "    <tr>\n",
       "      <th>3</th>\n",
       "      <td>2023-10-01</td>\n",
       "      <td>140.11</td>\n",
       "      <td>13648.34</td>\n",
       "      <td>October, 2023</td>\n",
       "    </tr>\n",
       "    <tr>\n",
       "      <th>4</th>\n",
       "      <td>2023-09-01</td>\n",
       "      <td>142.85</td>\n",
       "      <td>13703.60</td>\n",
       "      <td>September, 2023</td>\n",
       "    </tr>\n",
       "    <tr>\n",
       "      <th>...</th>\n",
       "      <td>...</td>\n",
       "      <td>...</td>\n",
       "      <td>...</td>\n",
       "      <td>...</td>\n",
       "    </tr>\n",
       "    <tr>\n",
       "      <th>187</th>\n",
       "      <td>2008-06-01</td>\n",
       "      <td>32.60</td>\n",
       "      <td>773.93</td>\n",
       "      <td>June, 2008</td>\n",
       "    </tr>\n",
       "    <tr>\n",
       "      <th>188</th>\n",
       "      <td>2008-05-01</td>\n",
       "      <td>32.72</td>\n",
       "      <td>773.82</td>\n",
       "      <td>May, 2008</td>\n",
       "    </tr>\n",
       "    <tr>\n",
       "      <th>189</th>\n",
       "      <td>2008-04-01</td>\n",
       "      <td>32.90</td>\n",
       "      <td>773.57</td>\n",
       "      <td>April, 2008</td>\n",
       "    </tr>\n",
       "    <tr>\n",
       "      <th>190</th>\n",
       "      <td>2008-03-01</td>\n",
       "      <td>32.22</td>\n",
       "      <td>777.03</td>\n",
       "      <td>March, 2008</td>\n",
       "    </tr>\n",
       "    <tr>\n",
       "      <th>191</th>\n",
       "      <td>2008-02-01</td>\n",
       "      <td>32.00</td>\n",
       "      <td>783.31</td>\n",
       "      <td>February, 2008</td>\n",
       "    </tr>\n",
       "  </tbody>\n",
       "</table>\n",
       "<p>192 rows × 4 columns</p>\n",
       "</div>"
      ],
      "text/plain": [
       "          Date  amount_blnUSD  amount_blnRUB        Date(m,Y)\n",
       "0   2024-01-01         133.41       11965.07    January, 2024\n",
       "1   2023-12-01         151.13       13432.97   December, 2023\n",
       "2   2023-11-01         145.22       13541.23   November, 2023\n",
       "3   2023-10-01         140.11       13648.34    October, 2023\n",
       "4   2023-09-01         142.85       13703.60  September, 2023\n",
       "..         ...            ...            ...              ...\n",
       "187 2008-06-01          32.60         773.93       June, 2008\n",
       "188 2008-05-01          32.72         773.82        May, 2008\n",
       "189 2008-04-01          32.90         773.57      April, 2008\n",
       "190 2008-03-01          32.22         777.03      March, 2008\n",
       "191 2008-02-01          32.00         783.31   February, 2008\n",
       "\n",
       "[192 rows x 4 columns]"
      ]
     },
     "execution_count": 12,
     "metadata": {},
     "output_type": "execute_result"
    }
   ],
   "source": [
    "df['Date'] = pd.to_datetime(df['Date'], format='%d.%m.%Y', errors='coerce') #for not silent fail\n",
    "df['Date(m,Y)'] = df['Date'].dt.strftime('%B, %Y')\n",
    "df"
   ]
  },
  {
   "cell_type": "code",
   "execution_count": 13,
   "metadata": {},
   "outputs": [],
   "source": [
    "df.to_csv(\"C:/Users/lenovo/python/RNWF/data/rnwf.csv\",encoding=\"utf-8-sig\")"
   ]
  }
 ],
 "metadata": {
  "kernelspec": {
   "display_name": "env",
   "language": "python",
   "name": "python3"
  },
  "language_info": {
   "codemirror_mode": {
    "name": "ipython",
    "version": 3
   },
   "file_extension": ".py",
   "mimetype": "text/x-python",
   "name": "python",
   "nbconvert_exporter": "python",
   "pygments_lexer": "ipython3",
   "version": "3.11.2"
  },
  "orig_nbformat": 4,
  "vscode": {
   "interpreter": {
    "hash": "de773ae61b63cce4b5c92d67ad7522d6643d4f3413b0d035c23e9c06334f3139"
   }
  }
 },
 "nbformat": 4,
 "nbformat_minor": 2
}
