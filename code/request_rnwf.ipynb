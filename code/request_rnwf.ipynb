{
 "cells": [
  {
   "attachments": {},
   "cell_type": "markdown",
   "metadata": {},
   "source": [
    "Scrapping data from the minfin.gov website"
   ]
  },
  {
   "cell_type": "code",
   "execution_count": 1,
   "metadata": {},
   "outputs": [],
   "source": [
    "import pandas as pd\n",
    "from urllib.request import Request, urlopen\n",
    "\n",
    "req = Request(url='https://minfin.gov.ru/ru/perfomance/nationalwealthfund/statistics?id_57=27068-obem_fonda_natsionalnogo_blagosostoyaniya', headers={'User-Agent': 'Mozilla/5.0'})\n",
    "webpage = urlopen(req).read()\n",
    "df_list = pd.read_html(webpage)\n",
    "df = pd.DataFrame(df_list[0])\n",
    "df = df.rename(columns={df.columns[0]: \"Date\", df.columns[1]: \"amount_blnUSD\",df.columns[2]: 'amount_blnRUB'})\n",
    "df = df.drop(columns=df.columns[3])\n",
    "df['amount_blnRUB'] = df['amount_blnRUB'].str.replace(r'[ ,\\xa0]+', '', regex=True)\n",
    "df['amount_blnRUB'] = df['amount_blnRUB'].astype(int) / 100\n",
    "df['amount_blnUSD'] = df['amount_blnUSD'].astype(int) / 100\n",
    "df['Date'] = pd.to_datetime(df['Date'])\n",
    "df['Date(m,Y)'] = df['Date'].dt.strftime('%B, %Y')\n",
    "\n",
    "df.to_csv(\"rnwf.csv\",encoding=\"utf-8-sig\")"
   ]
  },
  {
   "cell_type": "markdown",
   "metadata": {},
   "source": [
    "As of today (November 10), the fund amount page has not been updated and the data for 01.11.2023 is missing. Therefore, we have added the data as of 01.11.2023 manually \n",
    "(from this link https://minfin.gov.ru/ru/press-center/?id_4=38739-o_rezultatakh_razmeshcheniya_sredstv_fonda_natsionalnogo_blagosostoyaniya)."
   ]
  },
  {
   "cell_type": "code",
   "execution_count": 2,
   "metadata": {},
   "outputs": [
    {
     "data": {
      "text/html": [
       "<div>\n",
       "<style scoped>\n",
       "    .dataframe tbody tr th:only-of-type {\n",
       "        vertical-align: middle;\n",
       "    }\n",
       "\n",
       "    .dataframe tbody tr th {\n",
       "        vertical-align: top;\n",
       "    }\n",
       "\n",
       "    .dataframe thead th {\n",
       "        text-align: right;\n",
       "    }\n",
       "</style>\n",
       "<table border=\"1\" class=\"dataframe\">\n",
       "  <thead>\n",
       "    <tr style=\"text-align: right;\">\n",
       "      <th></th>\n",
       "      <th>Date</th>\n",
       "      <th>amount_blnUSD</th>\n",
       "      <th>amount_blnRUB</th>\n",
       "      <th>Date(m,Y)</th>\n",
       "    </tr>\n",
       "  </thead>\n",
       "  <tbody>\n",
       "    <tr>\n",
       "      <th>0</th>\n",
       "      <td>2023-11-01 00:00:00</td>\n",
       "      <td>145.22</td>\n",
       "      <td>13541.23</td>\n",
       "      <td>November, 2023</td>\n",
       "    </tr>\n",
       "    <tr>\n",
       "      <th>0</th>\n",
       "      <td>2023-01-10 00:00:00</td>\n",
       "      <td>140.11</td>\n",
       "      <td>13648.34</td>\n",
       "      <td>January, 2023</td>\n",
       "    </tr>\n",
       "    <tr>\n",
       "      <th>1</th>\n",
       "      <td>2023-01-09 00:00:00</td>\n",
       "      <td>142.85</td>\n",
       "      <td>13703.60</td>\n",
       "      <td>January, 2023</td>\n",
       "    </tr>\n",
       "    <tr>\n",
       "      <th>2</th>\n",
       "      <td>2023-01-08 00:00:00</td>\n",
       "      <td>146.34</td>\n",
       "      <td>13313.45</td>\n",
       "      <td>January, 2023</td>\n",
       "    </tr>\n",
       "    <tr>\n",
       "      <th>3</th>\n",
       "      <td>2023-01-07 00:00:00</td>\n",
       "      <td>145.58</td>\n",
       "      <td>12670.27</td>\n",
       "      <td>January, 2023</td>\n",
       "    </tr>\n",
       "    <tr>\n",
       "      <th>...</th>\n",
       "      <td>...</td>\n",
       "      <td>...</td>\n",
       "      <td>...</td>\n",
       "      <td>...</td>\n",
       "    </tr>\n",
       "    <tr>\n",
       "      <th>184</th>\n",
       "      <td>2008-01-06 00:00:00</td>\n",
       "      <td>32.60</td>\n",
       "      <td>773.93</td>\n",
       "      <td>January, 2008</td>\n",
       "    </tr>\n",
       "    <tr>\n",
       "      <th>185</th>\n",
       "      <td>2008-01-05 00:00:00</td>\n",
       "      <td>32.72</td>\n",
       "      <td>773.82</td>\n",
       "      <td>January, 2008</td>\n",
       "    </tr>\n",
       "    <tr>\n",
       "      <th>186</th>\n",
       "      <td>2008-01-04 00:00:00</td>\n",
       "      <td>32.90</td>\n",
       "      <td>773.57</td>\n",
       "      <td>January, 2008</td>\n",
       "    </tr>\n",
       "    <tr>\n",
       "      <th>187</th>\n",
       "      <td>2008-01-03 00:00:00</td>\n",
       "      <td>32.22</td>\n",
       "      <td>777.03</td>\n",
       "      <td>January, 2008</td>\n",
       "    </tr>\n",
       "    <tr>\n",
       "      <th>188</th>\n",
       "      <td>2008-01-02 00:00:00</td>\n",
       "      <td>32.00</td>\n",
       "      <td>783.31</td>\n",
       "      <td>January, 2008</td>\n",
       "    </tr>\n",
       "  </tbody>\n",
       "</table>\n",
       "<p>190 rows × 4 columns</p>\n",
       "</div>"
      ],
      "text/plain": [
       "                    Date  amount_blnUSD  amount_blnRUB       Date(m,Y)\n",
       "0    2023-11-01 00:00:00         145.22       13541.23  November, 2023\n",
       "0    2023-01-10 00:00:00         140.11       13648.34   January, 2023\n",
       "1    2023-01-09 00:00:00         142.85       13703.60   January, 2023\n",
       "2    2023-01-08 00:00:00         146.34       13313.45   January, 2023\n",
       "3    2023-01-07 00:00:00         145.58       12670.27   January, 2023\n",
       "..                   ...            ...            ...             ...\n",
       "184  2008-01-06 00:00:00          32.60         773.93   January, 2008\n",
       "185  2008-01-05 00:00:00          32.72         773.82   January, 2008\n",
       "186  2008-01-04 00:00:00          32.90         773.57   January, 2008\n",
       "187  2008-01-03 00:00:00          32.22         777.03   January, 2008\n",
       "188  2008-01-02 00:00:00          32.00         783.31   January, 2008\n",
       "\n",
       "[190 rows x 4 columns]"
      ]
     },
     "execution_count": 2,
     "metadata": {},
     "output_type": "execute_result"
    }
   ],
   "source": [
    "november = pd.DataFrame({'Date': ['2023-11-01 00:00:00'], 'amount_blnUSD': [145.22], 'amount_blnRUB': [13541.23], 'Date(m,Y)': ['November, 2023']})\n",
    "df = pd.concat([november, df])\n",
    "df"
   ]
  }
 ],
 "metadata": {
  "kernelspec": {
   "display_name": "env",
   "language": "python",
   "name": "python3"
  },
  "language_info": {
   "codemirror_mode": {
    "name": "ipython",
    "version": 3
   },
   "file_extension": ".py",
   "mimetype": "text/x-python",
   "name": "python",
   "nbconvert_exporter": "python",
   "pygments_lexer": "ipython3",
   "version": "3.11.2"
  },
  "orig_nbformat": 4,
  "vscode": {
   "interpreter": {
    "hash": "de773ae61b63cce4b5c92d67ad7522d6643d4f3413b0d035c23e9c06334f3139"
   }
  }
 },
 "nbformat": 4,
 "nbformat_minor": 2
}
