{
 "cells": [
  {
   "attachments": {},
   "cell_type": "markdown",
   "metadata": {},
   "source": [
    "Scrapping data from the minfin.gov website"
   ]
  },
  {
   "cell_type": "code",
   "execution_count": 41,
   "metadata": {},
   "outputs": [],
   "source": [
    "import pandas as pd\n",
    "from urllib.request import Request, urlopen\n",
    "\n",
    "req = Request(url='https://minfin.gov.ru/ru/perfomance/nationalwealthfund/statistics?id_57=27068-obem_fonda_natsionalnogo_blagosostoyaniya', headers={'User-Agent': 'Mozilla/5.0'})\n",
    "webpage = urlopen(req).read()\n",
    "df_list = pd.read_html(webpage)\n",
    "df = pd.DataFrame(df_list[0])\n",
    "\n",
    "df = df.rename(columns={df.columns[0]: \"Date\", df.columns[1]: \"amount_blnUSD\",df.columns[2]: 'amount_blnRUB'})\n",
    "df = df.drop(columns=df.columns[3])\n",
    "\n",
    "df['amount_blnRUB'] = df['amount_blnRUB'].str.replace(r'[ ,\\xa005]+', '', regex=True)\n",
    "df['amount_blnRUB'] = df['amount_blnRUB'].astype(int) / 100\n",
    "df['amount_blnUSD'] = df['amount_blnUSD'].astype(int) / 100\n",
    "df['Date'] = pd.to_datetime(df['Date'], format='%d.%m.%Y')\n",
    "df['Date(m,Y)'] = df['Date'].dt.strftime('%B, %Y')\n",
    "\n",
    "df.to_csv(\"rnwf_data/rnwf.csv\",encoding=\"utf-8-sig\")"
   ]
  }
 ],
 "metadata": {
  "kernelspec": {
   "display_name": "env",
   "language": "python",
   "name": "python3"
  },
  "language_info": {
   "codemirror_mode": {
    "name": "ipython",
    "version": 3
   },
   "file_extension": ".py",
   "mimetype": "text/x-python",
   "name": "python",
   "nbconvert_exporter": "python",
   "pygments_lexer": "ipython3",
   "version": "3.11.2"
  },
  "orig_nbformat": 4,
  "vscode": {
   "interpreter": {
    "hash": "de773ae61b63cce4b5c92d67ad7522d6643d4f3413b0d035c23e9c06334f3139"
   }
  }
 },
 "nbformat": 4,
 "nbformat_minor": 2
}
